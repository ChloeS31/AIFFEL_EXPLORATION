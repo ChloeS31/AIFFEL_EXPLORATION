{
 "cells": [
  {
   "cell_type": "code",
   "execution_count": 1,
   "id": "actual-transformation",
   "metadata": {
    "scrolled": true
   },
   "outputs": [
    {
     "name": "stderr",
     "output_type": "stream",
     "text": [
      "[nltk_data] Downloading package stopwords to /aiffel/nltk_data...\n",
      "[nltk_data]   Package stopwords is already up-to-date!\n"
     ]
    },
    {
     "name": "stdout",
     "output_type": "stream",
     "text": [
      "=3\n"
     ]
    }
   ],
   "source": [
    "import nltk\n",
    "nltk.download('stopwords')\n",
    "\n",
    "import numpy as np\n",
    "import pandas as pd\n",
    "import os\n",
    "import re\n",
    "import matplotlib.pyplot as plt\n",
    "from nltk.corpus import stopwords\n",
    "from bs4 import BeautifulSoup \n",
    "from tensorflow.keras.preprocessing.text import Tokenizer \n",
    "from tensorflow.keras.preprocessing.sequence import pad_sequences\n",
    "import urllib.request\n",
    "import warnings\n",
    "warnings.filterwarnings(\"ignore\", category=UserWarning, module='bs4')\n",
    "\n",
    "print('=3')"
   ]
  },
  {
   "cell_type": "markdown",
   "id": "national-wyoming",
   "metadata": {},
   "source": [
    "데이터 분석"
   ]
  },
  {
   "cell_type": "code",
   "execution_count": 2,
   "id": "biblical-harbor",
   "metadata": {},
   "outputs": [],
   "source": [
    "import urllib.request\n",
    "urllib.request.urlretrieve(\"https://raw.githubusercontent.com/sunnysai12345/News_Summary/master/news_summary_more.csv\", filename=\"news_summary_more.csv\")\n",
    "data = pd.read_csv('news_summary_more.csv', encoding='iso-8859-1')"
   ]
  },
  {
   "cell_type": "code",
   "execution_count": 3,
   "id": "romantic-horizontal",
   "metadata": {},
   "outputs": [
    {
     "data": {
      "text/html": [
       "<div>\n",
       "<style scoped>\n",
       "    .dataframe tbody tr th:only-of-type {\n",
       "        vertical-align: middle;\n",
       "    }\n",
       "\n",
       "    .dataframe tbody tr th {\n",
       "        vertical-align: top;\n",
       "    }\n",
       "\n",
       "    .dataframe thead th {\n",
       "        text-align: right;\n",
       "    }\n",
       "</style>\n",
       "<table border=\"1\" class=\"dataframe\">\n",
       "  <thead>\n",
       "    <tr style=\"text-align: right;\">\n",
       "      <th></th>\n",
       "      <th>headlines</th>\n",
       "      <th>text</th>\n",
       "    </tr>\n",
       "  </thead>\n",
       "  <tbody>\n",
       "    <tr>\n",
       "      <th>73553</th>\n",
       "      <td>Gut microbes influence brain via stress hormon...</td>\n",
       "      <td>While it is known that brain functions are inf...</td>\n",
       "    </tr>\n",
       "    <tr>\n",
       "      <th>37832</th>\n",
       "      <td>ICICI Life chief to be made ICICI Bank's inter...</td>\n",
       "      <td>ICICI Bank is reportedly planning to appoint S...</td>\n",
       "    </tr>\n",
       "    <tr>\n",
       "      <th>57955</th>\n",
       "      <td>Air India flight from Dubai diverted after fly...</td>\n",
       "      <td>A Chennai-bound Air India flight that departed...</td>\n",
       "    </tr>\n",
       "    <tr>\n",
       "      <th>88148</th>\n",
       "      <td>20 yrs since Anwar hit then record ODI score o...</td>\n",
       "      <td>Playing against India in the Independence Cup ...</td>\n",
       "    </tr>\n",
       "    <tr>\n",
       "      <th>15561</th>\n",
       "      <td>Google launches new tools for travel-planning</td>\n",
       "      <td>Google is launching new tools to help users pl...</td>\n",
       "    </tr>\n",
       "    <tr>\n",
       "      <th>89510</th>\n",
       "      <td>Justin Bieber performs at his first ever conce...</td>\n",
       "      <td>Singer Justin Bieber on Wednesday performed at...</td>\n",
       "    </tr>\n",
       "    <tr>\n",
       "      <th>44749</th>\n",
       "      <td>Need combination of SRK, Aamir to enter new ma...</td>\n",
       "      <td>Filmmaker Imtiaz Ali has said the best way to ...</td>\n",
       "    </tr>\n",
       "    <tr>\n",
       "      <th>48363</th>\n",
       "      <td>2 arrested for making forged government docume...</td>\n",
       "      <td>The Mumbai Crime Branch on Saturday arrested t...</td>\n",
       "    </tr>\n",
       "    <tr>\n",
       "      <th>69399</th>\n",
       "      <td>PSG's Neymar unfollows Cavani after penalty ki...</td>\n",
       "      <td>PSG's world record signing Neymar unfollowed t...</td>\n",
       "    </tr>\n",
       "    <tr>\n",
       "      <th>20011</th>\n",
       "      <td>Neha flaunts baby bump as she walks the ramp w...</td>\n",
       "      <td>Actress Neha Dhupia, who recently announced he...</td>\n",
       "    </tr>\n",
       "  </tbody>\n",
       "</table>\n",
       "</div>"
      ],
      "text/plain": [
       "                                               headlines  \\\n",
       "73553  Gut microbes influence brain via stress hormon...   \n",
       "37832  ICICI Life chief to be made ICICI Bank's inter...   \n",
       "57955  Air India flight from Dubai diverted after fly...   \n",
       "88148  20 yrs since Anwar hit then record ODI score o...   \n",
       "15561      Google launches new tools for travel-planning   \n",
       "89510  Justin Bieber performs at his first ever conce...   \n",
       "44749  Need combination of SRK, Aamir to enter new ma...   \n",
       "48363  2 arrested for making forged government docume...   \n",
       "69399  PSG's Neymar unfollows Cavani after penalty ki...   \n",
       "20011  Neha flaunts baby bump as she walks the ramp w...   \n",
       "\n",
       "                                                    text  \n",
       "73553  While it is known that brain functions are inf...  \n",
       "37832  ICICI Bank is reportedly planning to appoint S...  \n",
       "57955  A Chennai-bound Air India flight that departed...  \n",
       "88148  Playing against India in the Independence Cup ...  \n",
       "15561  Google is launching new tools to help users pl...  \n",
       "89510  Singer Justin Bieber on Wednesday performed at...  \n",
       "44749  Filmmaker Imtiaz Ali has said the best way to ...  \n",
       "48363  The Mumbai Crime Branch on Saturday arrested t...  \n",
       "69399  PSG's world record signing Neymar unfollowed t...  \n",
       "20011  Actress Neha Dhupia, who recently announced he...  "
      ]
     },
     "execution_count": 3,
     "metadata": {},
     "output_type": "execute_result"
    }
   ],
   "source": [
    "data.sample(10)"
   ]
  },
  {
   "cell_type": "code",
   "execution_count": 4,
   "id": "laden-dakota",
   "metadata": {},
   "outputs": [
    {
     "name": "stdout",
     "output_type": "stream",
     "text": [
      "전체 샘플수 : 98401\n"
     ]
    }
   ],
   "source": [
    "print('전체 샘플수 :', (len(data)))"
   ]
  },
  {
   "cell_type": "code",
   "execution_count": 5,
   "id": "ongoing-belarus",
   "metadata": {},
   "outputs": [
    {
     "data": {
      "text/html": [
       "<div>\n",
       "<style scoped>\n",
       "    .dataframe tbody tr th:only-of-type {\n",
       "        vertical-align: middle;\n",
       "    }\n",
       "\n",
       "    .dataframe tbody tr th {\n",
       "        vertical-align: top;\n",
       "    }\n",
       "\n",
       "    .dataframe thead th {\n",
       "        text-align: right;\n",
       "    }\n",
       "</style>\n",
       "<table border=\"1\" class=\"dataframe\">\n",
       "  <thead>\n",
       "    <tr style=\"text-align: right;\">\n",
       "      <th></th>\n",
       "      <th>headlines</th>\n",
       "      <th>text</th>\n",
       "    </tr>\n",
       "  </thead>\n",
       "  <tbody>\n",
       "    <tr>\n",
       "      <th>12173</th>\n",
       "      <td>Rahul Gandhi cursing PM Modi day in, day out: ...</td>\n",
       "      <td>Human Resource Development Minister Prakash Ja...</td>\n",
       "    </tr>\n",
       "    <tr>\n",
       "      <th>97437</th>\n",
       "      <td>Google ordered to name people who searched for...</td>\n",
       "      <td>Google has been ordered by a US judge to provi...</td>\n",
       "    </tr>\n",
       "    <tr>\n",
       "      <th>14323</th>\n",
       "      <td>How are things at Snapdeal, explains Co-founde...</td>\n",
       "      <td>Snapdeal Co-founder Kunal Bahl in a LinkedIn p...</td>\n",
       "    </tr>\n",
       "    <tr>\n",
       "      <th>74755</th>\n",
       "      <td>B'luru lake toxic foam issue will be solved in...</td>\n",
       "      <td>Karnataka CM Siddaramaiah on Thursday said tha...</td>\n",
       "    </tr>\n",
       "    <tr>\n",
       "      <th>52949</th>\n",
       "      <td>100% FDI in single-brand retail via automatic ...</td>\n",
       "      <td>The Union Cabinet on Wednesday cleared a propo...</td>\n",
       "    </tr>\n",
       "    <tr>\n",
       "      <th>29672</th>\n",
       "      <td>Brazil legend Ronaldinho to marry 2 women at s...</td>\n",
       "      <td>Brazilian football legend Ronaldinho will marr...</td>\n",
       "    </tr>\n",
       "    <tr>\n",
       "      <th>64635</th>\n",
       "      <td>Don't think Uber could offer enough money to r...</td>\n",
       "      <td>When asked if she would return to Uber, Susan ...</td>\n",
       "    </tr>\n",
       "    <tr>\n",
       "      <th>31127</th>\n",
       "      <td>Actor Dulquer reveals release date of his Boll...</td>\n",
       "      <td>While sharing the new poster of his Bollywood ...</td>\n",
       "    </tr>\n",
       "    <tr>\n",
       "      <th>95816</th>\n",
       "      <td>Delhi witnesses hottest March day in 7 years</td>\n",
       "      <td>Delhi recorded its hottest day in March in sev...</td>\n",
       "    </tr>\n",
       "    <tr>\n",
       "      <th>77134</th>\n",
       "      <td>Antihydrogen's light spectrum seen in detail f...</td>\n",
       "      <td>Scientists with the CERN-based ALPHA collabora...</td>\n",
       "    </tr>\n",
       "    <tr>\n",
       "      <th>67514</th>\n",
       "      <td>Tamil Nadu gets full-time Governor after 13 mo...</td>\n",
       "      <td>With the appointment of Banwarilal Purohit, Ta...</td>\n",
       "    </tr>\n",
       "    <tr>\n",
       "      <th>9956</th>\n",
       "      <td>Iran executes two men including 'Sultan of Coi...</td>\n",
       "      <td>Iran executed two men convicted of economic cr...</td>\n",
       "    </tr>\n",
       "    <tr>\n",
       "      <th>22438</th>\n",
       "      <td>Survived TB only because of Salman's help: Vee...</td>\n",
       "      <td>Salman Khan's co-star from the 1995 'Veergati'...</td>\n",
       "    </tr>\n",
       "    <tr>\n",
       "      <th>57027</th>\n",
       "      <td>45 years since the last manned mission to the ...</td>\n",
       "      <td>NASA's Apollo 17 was the last manned mission t...</td>\n",
       "    </tr>\n",
       "    <tr>\n",
       "      <th>24852</th>\n",
       "      <td>Killed elderly man to impress girl: Allahabad ...</td>\n",
       "      <td>A youth allegedly shot dead an elderly man aft...</td>\n",
       "    </tr>\n",
       "  </tbody>\n",
       "</table>\n",
       "</div>"
      ],
      "text/plain": [
       "                                               headlines  \\\n",
       "12173  Rahul Gandhi cursing PM Modi day in, day out: ...   \n",
       "97437  Google ordered to name people who searched for...   \n",
       "14323  How are things at Snapdeal, explains Co-founde...   \n",
       "74755  B'luru lake toxic foam issue will be solved in...   \n",
       "52949  100% FDI in single-brand retail via automatic ...   \n",
       "29672  Brazil legend Ronaldinho to marry 2 women at s...   \n",
       "64635  Don't think Uber could offer enough money to r...   \n",
       "31127  Actor Dulquer reveals release date of his Boll...   \n",
       "95816       Delhi witnesses hottest March day in 7 years   \n",
       "77134  Antihydrogen's light spectrum seen in detail f...   \n",
       "67514  Tamil Nadu gets full-time Governor after 13 mo...   \n",
       "9956   Iran executes two men including 'Sultan of Coi...   \n",
       "22438  Survived TB only because of Salman's help: Vee...   \n",
       "57027  45 years since the last manned mission to the ...   \n",
       "24852  Killed elderly man to impress girl: Allahabad ...   \n",
       "\n",
       "                                                    text  \n",
       "12173  Human Resource Development Minister Prakash Ja...  \n",
       "97437  Google has been ordered by a US judge to provi...  \n",
       "14323  Snapdeal Co-founder Kunal Bahl in a LinkedIn p...  \n",
       "74755  Karnataka CM Siddaramaiah on Thursday said tha...  \n",
       "52949  The Union Cabinet on Wednesday cleared a propo...  \n",
       "29672  Brazilian football legend Ronaldinho will marr...  \n",
       "64635  When asked if she would return to Uber, Susan ...  \n",
       "31127  While sharing the new poster of his Bollywood ...  \n",
       "95816  Delhi recorded its hottest day in March in sev...  \n",
       "77134  Scientists with the CERN-based ALPHA collabora...  \n",
       "67514  With the appointment of Banwarilal Purohit, Ta...  \n",
       "9956   Iran executed two men convicted of economic cr...  \n",
       "22438  Salman Khan's co-star from the 1995 'Veergati'...  \n",
       "57027  NASA's Apollo 17 was the last manned mission t...  \n",
       "24852  A youth allegedly shot dead an elderly man aft...  "
      ]
     },
     "execution_count": 5,
     "metadata": {},
     "output_type": "execute_result"
    }
   ],
   "source": [
    "# data = data[['headlines','text']]\n",
    "# data.head()\n",
    "\n",
    "# #랜덤한 15개 샘플 출력\n",
    "data.sample(15)"
   ]
  },
  {
   "cell_type": "markdown",
   "id": "noted-excess",
   "metadata": {},
   "source": [
    "데이터 전처리\n",
    "- 중복 샘플과 NULL 값이 존재하는 샘플 제거"
   ]
  },
  {
   "cell_type": "code",
   "execution_count": 6,
   "id": "labeled-crime",
   "metadata": {},
   "outputs": [
    {
     "name": "stdout",
     "output_type": "stream",
     "text": [
      "text 열에서 중복을 배제한 유일한 샘플의 수 : 98360\n",
      "headlines 열에서 중복을 배제한 유일한 샘플의 수 : 98280\n"
     ]
    }
   ],
   "source": [
    "print('text 열에서 중복을 배제한 유일한 샘플의 수 :', data['text'].nunique())\n",
    "print('headlines 열에서 중복을 배제한 유일한 샘플의 수 :', data['headlines'].nunique())"
   ]
  },
  {
   "cell_type": "code",
   "execution_count": 7,
   "id": "adaptive-mileage",
   "metadata": {},
   "outputs": [
    {
     "name": "stdout",
     "output_type": "stream",
     "text": [
      "전체 샘플수 : 98360\n"
     ]
    }
   ],
   "source": [
    "# inplace=True 를 설정하면 DataFrame 타입 값을 return 하지 않고 data 내부를 직접적으로 바꿉니다\n",
    "data.drop_duplicates(subset = ['text'], inplace=True)\n",
    "print('전체 샘플수 :', (len(data)))"
   ]
  },
  {
   "cell_type": "code",
   "execution_count": 8,
   "id": "animal-fifth",
   "metadata": {},
   "outputs": [
    {
     "name": "stdout",
     "output_type": "stream",
     "text": [
      "headlines    0\n",
      "text         0\n",
      "dtype: int64\n"
     ]
    }
   ],
   "source": [
    "print(data.isnull().sum())"
   ]
  },
  {
   "cell_type": "code",
   "execution_count": 9,
   "id": "excited-sixth",
   "metadata": {},
   "outputs": [
    {
     "name": "stdout",
     "output_type": "stream",
     "text": [
      "전체 샘플수 : 98360\n"
     ]
    }
   ],
   "source": [
    "data.dropna(axis=0, inplace=True)\n",
    "print('전체 샘플수 :', (len(data)))"
   ]
  },
  {
   "cell_type": "markdown",
   "id": "hidden-tackle",
   "metadata": {},
   "source": [
    "- 텍스트 정규화와 불용어 제거 (텍스트 정규화(text normalization))"
   ]
  },
  {
   "cell_type": "code",
   "execution_count": 10,
   "id": "ultimate-terry",
   "metadata": {},
   "outputs": [
    {
     "name": "stdout",
     "output_type": "stream",
     "text": [
      "정규화 사전의 수:  120\n"
     ]
    }
   ],
   "source": [
    "contractions = {\"ain't\": \"is not\", \"aren't\": \"are not\",\"can't\": \"cannot\", \"'cause\": \"because\", \"could've\": \"could have\", \"couldn't\": \"could not\",\n",
    "                           \"didn't\": \"did not\",  \"doesn't\": \"does not\", \"don't\": \"do not\", \"hadn't\": \"had not\", \"hasn't\": \"has not\", \"haven't\": \"have not\",\n",
    "                           \"he'd\": \"he would\",\"he'll\": \"he will\", \"he's\": \"he is\", \"how'd\": \"how did\", \"how'd'y\": \"how do you\", \"how'll\": \"how will\", \"how's\": \"how is\",\n",
    "                           \"I'd\": \"I would\", \"I'd've\": \"I would have\", \"I'll\": \"I will\", \"I'll've\": \"I will have\",\"I'm\": \"I am\", \"I've\": \"I have\", \"i'd\": \"i would\",\n",
    "                           \"i'd've\": \"i would have\", \"i'll\": \"i will\",  \"i'll've\": \"i will have\",\"i'm\": \"i am\", \"i've\": \"i have\", \"isn't\": \"is not\", \"it'd\": \"it would\",\n",
    "                           \"it'd've\": \"it would have\", \"it'll\": \"it will\", \"it'll've\": \"it will have\",\"it's\": \"it is\", \"let's\": \"let us\", \"ma'am\": \"madam\",\n",
    "                           \"mayn't\": \"may not\", \"might've\": \"might have\",\"mightn't\": \"might not\",\"mightn't've\": \"might not have\", \"must've\": \"must have\",\n",
    "                           \"mustn't\": \"must not\", \"mustn't've\": \"must not have\", \"needn't\": \"need not\", \"needn't've\": \"need not have\",\"o'clock\": \"of the clock\",\n",
    "                           \"oughtn't\": \"ought not\", \"oughtn't've\": \"ought not have\", \"shan't\": \"shall not\", \"sha'n't\": \"shall not\", \"shan't've\": \"shall not have\",\n",
    "                           \"she'd\": \"she would\", \"she'd've\": \"she would have\", \"she'll\": \"she will\", \"she'll've\": \"she will have\", \"she's\": \"she is\",\n",
    "                           \"should've\": \"should have\", \"shouldn't\": \"should not\", \"shouldn't've\": \"should not have\", \"so've\": \"so have\",\"so's\": \"so as\",\n",
    "                           \"this's\": \"this is\",\"that'd\": \"that would\", \"that'd've\": \"that would have\", \"that's\": \"that is\", \"there'd\": \"there would\",\n",
    "                           \"there'd've\": \"there would have\", \"there's\": \"there is\", \"here's\": \"here is\",\"they'd\": \"they would\", \"they'd've\": \"they would have\",\n",
    "                           \"they'll\": \"they will\", \"they'll've\": \"they will have\", \"they're\": \"they are\", \"they've\": \"they have\", \"to've\": \"to have\",\n",
    "                           \"wasn't\": \"was not\", \"we'd\": \"we would\", \"we'd've\": \"we would have\", \"we'll\": \"we will\", \"we'll've\": \"we will have\", \"we're\": \"we are\",\n",
    "                           \"we've\": \"we have\", \"weren't\": \"were not\", \"what'll\": \"what will\", \"what'll've\": \"what will have\", \"what're\": \"what are\",\n",
    "                           \"what's\": \"what is\", \"what've\": \"what have\", \"when's\": \"when is\", \"when've\": \"when have\", \"where'd\": \"where did\", \"where's\": \"where is\",\n",
    "                           \"where've\": \"where have\", \"who'll\": \"who will\", \"who'll've\": \"who will have\", \"who's\": \"who is\", \"who've\": \"who have\",\n",
    "                           \"why's\": \"why is\", \"why've\": \"why have\", \"will've\": \"will have\", \"won't\": \"will not\", \"won't've\": \"will not have\",\n",
    "                           \"would've\": \"would have\", \"wouldn't\": \"would not\", \"wouldn't've\": \"would not have\", \"y'all\": \"you all\",\n",
    "                           \"y'all'd\": \"you all would\",\"y'all'd've\": \"you all would have\",\"y'all're\": \"you all are\",\"y'all've\": \"you all have\",\n",
    "                           \"you'd\": \"you would\", \"you'd've\": \"you would have\", \"you'll\": \"you will\", \"you'll've\": \"you will have\",\n",
    "                           \"you're\": \"you are\", \"you've\": \"you have\"}\n",
    "\n",
    "print(\"정규화 사전의 수: \", len(contractions))"
   ]
  },
  {
   "cell_type": "code",
   "execution_count": 11,
   "id": "foster-royalty",
   "metadata": {},
   "outputs": [
    {
     "name": "stdout",
     "output_type": "stream",
     "text": [
      "불용어 개수 : 179\n",
      "['i', 'me', 'my', 'myself', 'we', 'our', 'ours', 'ourselves', 'you', \"you're\", \"you've\", \"you'll\", \"you'd\", 'your', 'yours', 'yourself', 'yourselves', 'he', 'him', 'his', 'himself', 'she', \"she's\", 'her', 'hers', 'herself', 'it', \"it's\", 'its', 'itself', 'they', 'them', 'their', 'theirs', 'themselves', 'what', 'which', 'who', 'whom', 'this', 'that', \"that'll\", 'these', 'those', 'am', 'is', 'are', 'was', 'were', 'be', 'been', 'being', 'have', 'has', 'had', 'having', 'do', 'does', 'did', 'doing', 'a', 'an', 'the', 'and', 'but', 'if', 'or', 'because', 'as', 'until', 'while', 'of', 'at', 'by', 'for', 'with', 'about', 'against', 'between', 'into', 'through', 'during', 'before', 'after', 'above', 'below', 'to', 'from', 'up', 'down', 'in', 'out', 'on', 'off', 'over', 'under', 'again', 'further', 'then', 'once', 'here', 'there', 'when', 'where', 'why', 'how', 'all', 'any', 'both', 'each', 'few', 'more', 'most', 'other', 'some', 'such', 'no', 'nor', 'not', 'only', 'own', 'same', 'so', 'than', 'too', 'very', 's', 't', 'can', 'will', 'just', 'don', \"don't\", 'should', \"should've\", 'now', 'd', 'll', 'm', 'o', 're', 've', 'y', 'ain', 'aren', \"aren't\", 'couldn', \"couldn't\", 'didn', \"didn't\", 'doesn', \"doesn't\", 'hadn', \"hadn't\", 'hasn', \"hasn't\", 'haven', \"haven't\", 'isn', \"isn't\", 'ma', 'mightn', \"mightn't\", 'mustn', \"mustn't\", 'needn', \"needn't\", 'shan', \"shan't\", 'shouldn', \"shouldn't\", 'wasn', \"wasn't\", 'weren', \"weren't\", 'won', \"won't\", 'wouldn', \"wouldn't\"]\n"
     ]
    }
   ],
   "source": [
    "print('불용어 개수 :', len(stopwords.words('english') ))\n",
    "print(stopwords.words('english'))"
   ]
  },
  {
   "cell_type": "code",
   "execution_count": 12,
   "id": "committed-pendant",
   "metadata": {},
   "outputs": [],
   "source": [
    "# 데이터 전처리 함수\n",
    "def preprocess_sentence(sentence, remove_stopwords=True):\n",
    "    sentence = sentence.lower() # 텍스트 소문자화\n",
    "    sentence = BeautifulSoup(sentence, \"lxml\").text # <br />, <a href = ...> 등의 html 태그 제거\n",
    "    sentence = re.sub(r'\\([^)]*\\)', '', sentence) # 괄호로 닫힌 문자열 (...) 제거 Ex) my husband (and myself!) for => my husband for\n",
    "    sentence = re.sub('\"','', sentence) # 쌍따옴표 \" 제거\n",
    "    sentence = ' '.join([contractions[t] if t in contractions else t for t in sentence.split(\" \")]) # 약어 정규화\n",
    "    sentence = re.sub(r\"'s\\b\",\"\", sentence) # 소유격 제거. Ex) roland's -> roland\n",
    "    sentence = re.sub(\"[^a-zA-Z]\", \" \", sentence) # 영어 외 문자(숫자, 특수문자 등) 공백으로 변환\n",
    "    sentence = re.sub('[m]{2,}', 'mm', sentence) # m이 3개 이상이면 2개로 변경. Ex) ummmmmmm yeah -> umm yeah\n",
    "    \n",
    "    # 불용어 제거 (Text)\n",
    "    if remove_stopwords:\n",
    "        tokens = ' '.join(word for word in sentence.split() if not word in stopwords.words('english') if len(word) > 1)\n",
    "    # 불용어 미제거 (Summary)\n",
    "    else:\n",
    "        tokens = ' '.join(word for word in sentence.split() if len(word) > 1)\n",
    "    return tokens"
   ]
  },
  {
   "cell_type": "code",
   "execution_count": 13,
   "id": "legitimate-acrobat",
   "metadata": {},
   "outputs": [
    {
     "name": "stdout",
     "output_type": "stream",
     "text": [
      "everything bought great infact ordered twice third ordered wasfor mother father\n",
      "great way to start the day\n"
     ]
    }
   ],
   "source": [
    "temp_text = 'Everything I bought was great, infact I ordered twice and the third ordered was<br />for my mother and father.'\n",
    "temp_summary = 'Great way to start (or finish) the day!!!'\n",
    "\n",
    "print(preprocess_sentence(temp_text))\n",
    "print(preprocess_sentence(temp_summary, False))  # 불용어를 제거하지 않습니다."
   ]
  },
  {
   "cell_type": "markdown",
   "id": "tender-killing",
   "metadata": {},
   "source": [
    "(전처리 수행)"
   ]
  },
  {
   "cell_type": "code",
   "execution_count": 14,
   "id": "balanced-exposure",
   "metadata": {},
   "outputs": [
    {
     "name": "stdout",
     "output_type": "stream",
     "text": [
      "421.2639739513397  seconds\n",
      "['saurav kant alumnus upgrad iiit pg program machine learning artificial intelligence sr systems engineer infosys almost years work experience program upgrad degree career support helped transition data scientist tech mahindra salary hike upgrad online power learning powered lakh careers'\n",
      " 'kunal shah credit card bill payment platform cred gave users chance win free food swiggy one year pranav kaushik delhi techie bagged reward spending cred coins users get one cred coin per rupee bill paid used avail rewards brands like ixigo bookmyshow ubereats cult fit'\n",
      " 'new zealand defeated india wickets fourth odi hamilton thursday win first match five match odi series india lost international match rohit sharma captaincy consecutive victories dating back march match witnessed india getting seventh lowest total odi cricket history'\n",
      " ...\n",
      " 'according reports new version science fiction film matrix development michael jordan reportedly play lead role film screenwriter zak penn talks write script film reports added actor keanu reeves starred original film followed two sequels'\n",
      " 'new music video shows rapper snoop dogg aiming toy gun clown character parodying us president donald trump video also shows tv airing news conference headline ronald klump wants deport doggs airing live clown house video remixed version song lavender'\n",
      " 'madhesi morcha alliance seven political parties withdrawn support pm pushpa kamal dahal led nepal government failed meet seven day ultimatum fulfil demands including endorsement revised constitution amendment bill morcha seats parliament despite withdrawal support immediate threat government']\n",
      "12.408145427703857  seconds\n",
      "['upgrad learner switches to career in ml al with salary hike'\n",
      " 'delhi techie wins free food from swiggy for one year on cred'\n",
      " 'new zealand end rohit sharma led india match winning streak' ...\n",
      " 'the matrix film to get reboot reports'\n",
      " 'snoop dogg aims gun at clown dressed as trump in new video'\n",
      " 'madhesi morcha withdraws support to nepalese government']\n"
     ]
    }
   ],
   "source": [
    "import multiprocessing as mp   # 멀티 프로세싱으로 전처리 속도를 획기적으로 줄여봅시다\n",
    "from multiprocessing import Pool\n",
    "import numpy as np\n",
    "import time\n",
    "from functools import partial  # map을 할 때 함수에 여러 인자를 넣어줄 수 있도록 합니다\n",
    "\n",
    "start = time.time()\n",
    "\n",
    "# num_cores 만큼 쪼개진 데이터를 전처리하여 반환합니다\n",
    "def appendTexts(sentences, remove_stopwords):\n",
    "  texts = []\n",
    "  for s in sentences:\n",
    "    texts += preprocess_sentence(s, remove_stopwords),\n",
    "  return texts\n",
    "\n",
    "def preprocess_data(data, remove_stopwords=True):\n",
    "  start_time = time.time()\n",
    "  num_cores = mp.cpu_count()  # 컴퓨터의 코어 수를 구합니다\n",
    "\n",
    "  text_data_split = np.array_split(data, num_cores)  # 코어 수만큼 데이터를 배분하여 병렬적으로 처리할 수 있게 합니다\n",
    "  pool = Pool(num_cores)\n",
    "\n",
    "  processed_data = np.concatenate(pool.map(partial(appendTexts, remove_stopwords=remove_stopwords), text_data_split))  # 각자 작업한 데이터를 하나로 합쳐줍니다\n",
    "  pool.close()\n",
    "  pool.join()\n",
    "  print(time.time() - start_time, \" seconds\")\n",
    "  return processed_data\n",
    "\n",
    "clean_text = preprocess_data(data['text'])  # 클라우드 기준으로 3~4분 정도 소요 됩니다\n",
    "print(clean_text)\n",
    "\n",
    "clean_summary = preprocess_data(data['headlines'], remove_stopwords=False) # 클라우드 기준 1분정도 소요됩니다.\n",
    "print(clean_summary)"
   ]
  },
  {
   "cell_type": "code",
   "execution_count": 15,
   "id": "regulation-document",
   "metadata": {},
   "outputs": [],
   "source": [
    "data['text'] = clean_text\n",
    "data['headlines'] = clean_summary\n",
    "\n",
    "# 빈 값을 Null 값으로 변환\n",
    "data.replace('', np.nan, inplace=True)"
   ]
  },
  {
   "cell_type": "code",
   "execution_count": 16,
   "id": "falling-press",
   "metadata": {},
   "outputs": [
    {
     "data": {
      "text/plain": [
       "headlines    0\n",
       "text         0\n",
       "dtype: int64"
      ]
     },
     "execution_count": 16,
     "metadata": {},
     "output_type": "execute_result"
    }
   ],
   "source": [
    "data.isnull().sum()"
   ]
  },
  {
   "cell_type": "code",
   "execution_count": 17,
   "id": "combined-richardson",
   "metadata": {},
   "outputs": [
    {
     "name": "stdout",
     "output_type": "stream",
     "text": [
      "전체 샘플수 : 98360\n"
     ]
    }
   ],
   "source": [
    "data.dropna(axis=0, inplace=True)\n",
    "print('전체 샘플수 :', (len(data)))"
   ]
  },
  {
   "cell_type": "markdown",
   "id": "underlying-elephant",
   "metadata": {},
   "source": [
    "- 훈련데이터와 테스트데이터 나누기"
   ]
  },
  {
   "cell_type": "code",
   "execution_count": 18,
   "id": "dying-retirement",
   "metadata": {},
   "outputs": [
    {
     "name": "stdout",
     "output_type": "stream",
     "text": [
      "텍스트의 최소 길이 : 1\n",
      "텍스트의 최대 길이 : 60\n",
      "텍스트의 평균 길이 : 35.09968483123221\n",
      "요약의 최소 길이 : 1\n",
      "요약의 최대 길이 : 16\n",
      "요약의 평균 길이 : 9.299532330215534\n"
     ]
    },
    {
     "data": {
      "image/png": "[encoded data removed]",
      "text/plain": [
       "<Figure size 432x288 with 2 Axes>"
      ]
     },
     "metadata": {
      "needs_background": "light"
     },
     "output_type": "display_data"
    },
    {
     "data": {
      "image/png": "[encoded data removed]",
      "text/plain": [
       "<Figure size 432x288 with 1 Axes>"
      ]
     },
     "metadata": {
      "needs_background": "light"
     },
     "output_type": "display_data"
    },
    {
     "data": {
      "image/png": "[encoded data removed]",
      "text/plain": [
       "<Figure size 432x288 with 1 Axes>"
      ]
     },
     "metadata": {
      "needs_background": "light"
     },
     "output_type": "display_data"
    }
   ],
   "source": [
    "# 길이 분포 출력\n",
    "import matplotlib.pyplot as plt\n",
    "\n",
    "text_len = [len(s.split()) for s in data['text']]\n",
    "summary_len = [len(s.split()) for s in data['headlines']]\n",
    "\n",
    "print('텍스트의 최소 길이 : {}'.format(np.min(text_len)))\n",
    "print('텍스트의 최대 길이 : {}'.format(np.max(text_len)))\n",
    "print('텍스트의 평균 길이 : {}'.format(np.mean(text_len)))\n",
    "print('요약의 최소 길이 : {}'.format(np.min(summary_len)))\n",
    "print('요약의 최대 길이 : {}'.format(np.max(summary_len)))\n",
    "print('요약의 평균 길이 : {}'.format(np.mean(summary_len)))\n",
    "\n",
    "plt.subplot(1,2,1)\n",
    "plt.boxplot(text_len)\n",
    "plt.title('text')\n",
    "plt.subplot(1,2,2)\n",
    "plt.boxplot(summary_len)\n",
    "plt.title('headlines')\n",
    "plt.tight_layout()\n",
    "plt.show()\n",
    "\n",
    "plt.title('text')\n",
    "plt.hist(text_len, bins = 40)\n",
    "plt.xlabel('length of samples')\n",
    "plt.ylabel('number of samples')\n",
    "plt.show()\n",
    "\n",
    "plt.title('headlines')\n",
    "plt.hist(summary_len, bins = 40)\n",
    "plt.xlabel('length of samples')\n",
    "plt.ylabel('number of samples')\n",
    "plt.show()"
   ]
  },
  {
   "cell_type": "code",
   "execution_count": 19,
   "id": "promotional-flash",
   "metadata": {},
   "outputs": [
    {
     "name": "stdout",
     "output_type": "stream",
     "text": [
      "=3\n"
     ]
    }
   ],
   "source": [
    "text_max_len = 50\n",
    "summary_max_len = 8\n",
    "print('=3')"
   ]
  },
  {
   "cell_type": "code",
   "execution_count": 20,
   "id": "checked-chassis",
   "metadata": {},
   "outputs": [
    {
     "name": "stdout",
     "output_type": "stream",
     "text": [
      "=3\n"
     ]
    }
   ],
   "source": [
    "def below_threshold_len(max_len, nested_list):\n",
    "  cnt = 0\n",
    "  for s in nested_list:\n",
    "    if(len(s.split()) <= max_len):\n",
    "        cnt = cnt + 1\n",
    "  print('전체 샘플 중 길이가 %s 이하인 샘플의 비율: %s'%(max_len, (cnt / len(nested_list))))\n",
    "print('=3')"
   ]
  },
  {
   "cell_type": "code",
   "execution_count": 21,
   "id": "comparable-version",
   "metadata": {},
   "outputs": [
    {
     "name": "stdout",
     "output_type": "stream",
     "text": [
      "전체 샘플 중 길이가 50 이하인 샘플의 비율: 0.9998576657177715\n",
      "전체 샘플 중 길이가 8 이하인 샘플의 비율: 0.2755693371289142\n"
     ]
    }
   ],
   "source": [
    "below_threshold_len(text_max_len, data['text'])\n",
    "below_threshold_len(summary_max_len,  data['headlines'])"
   ]
  },
  {
   "cell_type": "code",
   "execution_count": 22,
   "id": "interim-underground",
   "metadata": {},
   "outputs": [
    {
     "name": "stdout",
     "output_type": "stream",
     "text": [
      "전체 샘플수 : 27105\n"
     ]
    }
   ],
   "source": [
    "data = data[data['text'].apply(lambda x: len(x.split()) <= text_max_len)]\n",
    "data = data[data['headlines'].apply(lambda x: len(x.split()) <= summary_max_len)]\n",
    "print('전체 샘플수 :', (len(data)))"
   ]
  },
  {
   "cell_type": "markdown",
   "id": "flying-underground",
   "metadata": {},
   "source": [
    "- 시작 토큰과 종료 토큰 추가하기"
   ]
  },
  {
   "cell_type": "code",
   "execution_count": 23,
   "id": "loaded-usage",
   "metadata": {},
   "outputs": [
    {
     "data": {
      "text/html": [
       "<div>\n",
       "<style scoped>\n",
       "    .dataframe tbody tr th:only-of-type {\n",
       "        vertical-align: middle;\n",
       "    }\n",
       "\n",
       "    .dataframe tbody tr th {\n",
       "        vertical-align: top;\n",
       "    }\n",
       "\n",
       "    .dataframe thead th {\n",
       "        text-align: right;\n",
       "    }\n",
       "</style>\n",
       "<table border=\"1\" class=\"dataframe\">\n",
       "  <thead>\n",
       "    <tr style=\"text-align: right;\">\n",
       "      <th></th>\n",
       "      <th>headlines</th>\n",
       "      <th>text</th>\n",
       "      <th>decoder_input</th>\n",
       "      <th>decoder_target</th>\n",
       "    </tr>\n",
       "  </thead>\n",
       "  <tbody>\n",
       "    <tr>\n",
       "      <th>19</th>\n",
       "      <td>odisha cm patnaik controls mining mafia union ...</td>\n",
       "      <td>union minister dharmendra pradhan wednesday cl...</td>\n",
       "      <td>sostoken odisha cm patnaik controls mining maf...</td>\n",
       "      <td>odisha cm patnaik controls mining mafia union ...</td>\n",
       "    </tr>\n",
       "    <tr>\n",
       "      <th>21</th>\n",
       "      <td>isro unveils bengaluru centre for manned space...</td>\n",
       "      <td>indian space research organisation wednesday u...</td>\n",
       "      <td>sostoken isro unveils bengaluru centre for man...</td>\n",
       "      <td>isro unveils bengaluru centre for manned space...</td>\n",
       "    </tr>\n",
       "    <tr>\n",
       "      <th>22</th>\n",
       "      <td>killed injured in saudi arabia floods</td>\n",
       "      <td>least people killed others injured saudi arabi...</td>\n",
       "      <td>sostoken killed injured in saudi arabia floods</td>\n",
       "      <td>killed injured in saudi arabia floods eostoken</td>\n",
       "    </tr>\n",
       "    <tr>\n",
       "      <th>29</th>\n",
       "      <td>seat cushions from missing plane carrying foot...</td>\n",
       "      <td>investigators searching lost plane carrying ar...</td>\n",
       "      <td>sostoken seat cushions from missing plane carr...</td>\n",
       "      <td>seat cushions from missing plane carrying foot...</td>\n",
       "    </tr>\n",
       "    <tr>\n",
       "      <th>36</th>\n",
       "      <td>agustawestland scam accused rajiv saxena extra...</td>\n",
       "      <td>agustawestland chopper scam co accused rajiv s...</td>\n",
       "      <td>sostoken agustawestland scam accused rajiv sax...</td>\n",
       "      <td>agustawestland scam accused rajiv saxena extra...</td>\n",
       "    </tr>\n",
       "  </tbody>\n",
       "</table>\n",
       "</div>"
      ],
      "text/plain": [
       "                                            headlines  \\\n",
       "19  odisha cm patnaik controls mining mafia union ...   \n",
       "21  isro unveils bengaluru centre for manned space...   \n",
       "22              killed injured in saudi arabia floods   \n",
       "29  seat cushions from missing plane carrying foot...   \n",
       "36  agustawestland scam accused rajiv saxena extra...   \n",
       "\n",
       "                                                 text  \\\n",
       "19  union minister dharmendra pradhan wednesday cl...   \n",
       "21  indian space research organisation wednesday u...   \n",
       "22  least people killed others injured saudi arabi...   \n",
       "29  investigators searching lost plane carrying ar...   \n",
       "36  agustawestland chopper scam co accused rajiv s...   \n",
       "\n",
       "                                        decoder_input  \\\n",
       "19  sostoken odisha cm patnaik controls mining maf...   \n",
       "21  sostoken isro unveils bengaluru centre for man...   \n",
       "22     sostoken killed injured in saudi arabia floods   \n",
       "29  sostoken seat cushions from missing plane carr...   \n",
       "36  sostoken agustawestland scam accused rajiv sax...   \n",
       "\n",
       "                                       decoder_target  \n",
       "19  odisha cm patnaik controls mining mafia union ...  \n",
       "21  isro unveils bengaluru centre for manned space...  \n",
       "22     killed injured in saudi arabia floods eostoken  \n",
       "29  seat cushions from missing plane carrying foot...  \n",
       "36  agustawestland scam accused rajiv saxena extra...  "
      ]
     },
     "execution_count": 23,
     "metadata": {},
     "output_type": "execute_result"
    }
   ],
   "source": [
    "# 요약 데이터에는 시작 토큰과 종료 토큰을 추가한다.\n",
    "data['decoder_input'] = data['headlines'].apply(lambda x : 'sostoken '+ x)\n",
    "data['decoder_target'] = data['headlines'].apply(lambda x : x + ' eostoken')\n",
    "data.head()"
   ]
  },
  {
   "cell_type": "code",
   "execution_count": 24,
   "id": "accomplished-mechanics",
   "metadata": {},
   "outputs": [
    {
     "name": "stdout",
     "output_type": "stream",
     "text": [
      "=3\n"
     ]
    }
   ],
   "source": [
    "encoder_input = np.array(data['text']) # 인코더의 입력\n",
    "decoder_input = np.array(data['decoder_input']) # 디코더의 입력\n",
    "decoder_target = np.array(data['decoder_target']) # 디코더의 레이블\n",
    "print('=3')"
   ]
  },
  {
   "cell_type": "markdown",
   "id": "collected-forty",
   "metadata": {},
   "source": [
    "- 훈련 데이터와 테스트 데이터를 분리"
   ]
  },
  {
   "cell_type": "code",
   "execution_count": 25,
   "id": "public-paintball",
   "metadata": {},
   "outputs": [
    {
     "name": "stdout",
     "output_type": "stream",
     "text": [
      "[ 6017  9461 17887 ...  9106 14472 20564]\n"
     ]
    }
   ],
   "source": [
    "indices = np.arange(encoder_input.shape[0])\n",
    "np.random.shuffle(indices)\n",
    "print(indices)"
   ]
  },
  {
   "cell_type": "code",
   "execution_count": 26,
   "id": "enabling-tumor",
   "metadata": {},
   "outputs": [
    {
     "name": "stdout",
     "output_type": "stream",
     "text": [
      "=3\n"
     ]
    }
   ],
   "source": [
    "encoder_input = encoder_input[indices]\n",
    "decoder_input = decoder_input[indices]\n",
    "decoder_target = decoder_target[indices]\n",
    "print('=3')"
   ]
  },
  {
   "cell_type": "code",
   "execution_count": 27,
   "id": "resident-conference",
   "metadata": {},
   "outputs": [
    {
     "name": "stdout",
     "output_type": "stream",
     "text": [
      "테스트 데이터의 수 : 5421\n"
     ]
    }
   ],
   "source": [
    "n_of_val = int(len(encoder_input)*0.2)\n",
    "print('테스트 데이터의 수 :', n_of_val)"
   ]
  },
  {
   "cell_type": "code",
   "execution_count": 28,
   "id": "direct-withdrawal",
   "metadata": {},
   "outputs": [
    {
     "name": "stdout",
     "output_type": "stream",
     "text": [
      "훈련 데이터의 개수 : 21684\n",
      "훈련 레이블의 개수 : 21684\n",
      "테스트 데이터의 개수 : 5421\n",
      "테스트 레이블의 개수 : 5421\n"
     ]
    }
   ],
   "source": [
    "encoder_input_train = encoder_input[:-n_of_val]\n",
    "decoder_input_train = decoder_input[:-n_of_val]\n",
    "decoder_target_train = decoder_target[:-n_of_val]\n",
    "\n",
    "encoder_input_test = encoder_input[-n_of_val:]\n",
    "decoder_input_test = decoder_input[-n_of_val:]\n",
    "decoder_target_test = decoder_target[-n_of_val:]\n",
    "\n",
    "print('훈련 데이터의 개수 :', len(encoder_input_train))\n",
    "print('훈련 레이블의 개수 :', len(decoder_input_train))\n",
    "print('테스트 데이터의 개수 :', len(encoder_input_test))\n",
    "print('테스트 레이블의 개수 :', len(decoder_input_test))"
   ]
  },
  {
   "cell_type": "markdown",
   "id": "needed-fisher",
   "metadata": {},
   "source": [
    "- 정수 인코딩"
   ]
  },
  {
   "cell_type": "code",
   "execution_count": 29,
   "id": "vocational-panel",
   "metadata": {},
   "outputs": [
    {
     "name": "stdout",
     "output_type": "stream",
     "text": [
      "=3\n"
     ]
    }
   ],
   "source": [
    "src_tokenizer = Tokenizer() # 토크나이저 정의\n",
    "src_tokenizer.fit_on_texts(encoder_input_train) # 입력된 데이터로부터 단어 집합 생성\n",
    "print('=3')"
   ]
  },
  {
   "cell_type": "code",
   "execution_count": 30,
   "id": "multiple-depth",
   "metadata": {},
   "outputs": [
    {
     "name": "stdout",
     "output_type": "stream",
     "text": [
      "단어 집합(vocabulary)의 크기 : 42483\n",
      "등장 빈도가 6번 이하인 희귀 단어의 수: 30740\n",
      "단어 집합에서 희귀 단어를 제외시킬 경우의 단어 집합의 크기 11743\n",
      "단어 집합에서 희귀 단어의 비율: 72.35835510674859\n",
      "전체 등장 빈도에서 희귀 단어 등장 빈도 비율: 8.280706920395211\n"
     ]
    }
   ],
   "source": [
    "threshold = 7\n",
    "total_cnt = len(src_tokenizer.word_index) # 단어의 수\n",
    "rare_cnt = 0 # 등장 빈도수가 threshold보다 작은 단어의 개수를 카운트\n",
    "total_freq = 0 # 훈련 데이터의 전체 단어 빈도수 총 합\n",
    "rare_freq = 0 # 등장 빈도수가 threshold보다 작은 단어의 등장 빈도수의 총 합\n",
    "\n",
    "# 단어와 빈도수의 쌍(pair)을 key와 value로 받는다.\n",
    "for key, value in src_tokenizer.word_counts.items():\n",
    "    total_freq = total_freq + value\n",
    "\n",
    "    # 단어의 등장 빈도수가 threshold보다 작으면\n",
    "    if(value < threshold):\n",
    "        rare_cnt = rare_cnt + 1\n",
    "        rare_freq = rare_freq + value\n",
    "\n",
    "print('단어 집합(vocabulary)의 크기 :', total_cnt)\n",
    "print('등장 빈도가 %s번 이하인 희귀 단어의 수: %s'%(threshold - 1, rare_cnt))\n",
    "print('단어 집합에서 희귀 단어를 제외시킬 경우의 단어 집합의 크기 %s'%(total_cnt - rare_cnt))\n",
    "print(\"단어 집합에서 희귀 단어의 비율:\", (rare_cnt / total_cnt)*100)\n",
    "print(\"전체 등장 빈도에서 희귀 단어 등장 빈도 비율:\", (rare_freq / total_freq)*100)"
   ]
  },
  {
   "cell_type": "code",
   "execution_count": 31,
   "id": "stylish-sarah",
   "metadata": {},
   "outputs": [
    {
     "name": "stdout",
     "output_type": "stream",
     "text": [
      "=3\n"
     ]
    }
   ],
   "source": [
    "src_vocab = 8000\n",
    "src_tokenizer = Tokenizer(num_words=src_vocab) # 단어 집합의 크기를 8,000으로 제한\n",
    "src_tokenizer.fit_on_texts(encoder_input_train) # 단어 집합 재생성\n",
    "print('=3')"
   ]
  },
  {
   "cell_type": "code",
   "execution_count": 32,
   "id": "executed-delay",
   "metadata": {},
   "outputs": [
    {
     "name": "stdout",
     "output_type": "stream",
     "text": [
      "[[149, 236, 7768, 597, 12, 64, 358, 312, 435, 80, 7028, 23, 1, 791, 960, 982, 536, 16, 4526, 3024, 409, 2125, 1167, 44, 113, 1453, 7366, 113, 7768, 367, 5239, 111], [29, 5772, 449, 582, 617, 888, 582, 4941, 2155, 5240, 2879, 481, 247, 880, 1, 33, 582, 1, 617, 713, 5, 2328, 350, 1004, 72, 582, 1080, 2977, 1863, 617, 713, 350, 266, 21, 2774], [56, 247, 429, 6235, 60, 54, 332, 137, 117, 259, 124, 725, 2230, 5994, 7029, 5773, 5773, 6235, 1534, 3265, 141, 2557, 365, 3338, 364, 2015]]\n"
     ]
    }
   ],
   "source": [
    "# 텍스트 시퀀스를 정수 시퀀스로 변환\n",
    "encoder_input_train = src_tokenizer.texts_to_sequences(encoder_input_train) \n",
    "encoder_input_test = src_tokenizer.texts_to_sequences(encoder_input_test)\n",
    "\n",
    "# 잘 진행되었는지 샘플 출력\n",
    "print(encoder_input_train[:3])"
   ]
  },
  {
   "cell_type": "code",
   "execution_count": 33,
   "id": "addressed-baking",
   "metadata": {},
   "outputs": [
    {
     "name": "stdout",
     "output_type": "stream",
     "text": [
      "=3\n"
     ]
    }
   ],
   "source": [
    "tar_tokenizer = Tokenizer()\n",
    "tar_tokenizer.fit_on_texts(decoder_input_train)\n",
    "print('=3')"
   ]
  },
  {
   "cell_type": "code",
   "execution_count": 34,
   "id": "physical-lesson",
   "metadata": {},
   "outputs": [
    {
     "name": "stdout",
     "output_type": "stream",
     "text": [
      "단어 집합(vocabulary)의 크기 : 18851\n",
      "등장 빈도가 5번 이하인 희귀 단어의 수: 14216\n",
      "단어 집합에서 희귀 단어를 제외시킬 경우의 단어 집합의 크기 4635\n",
      "단어 집합에서 희귀 단어의 비율: 75.41244496313193\n",
      "전체 등장 빈도에서 희귀 단어 등장 빈도 비율: 14.130603880672277\n"
     ]
    }
   ],
   "source": [
    "threshold = 6\n",
    "total_cnt = len(tar_tokenizer.word_index) # 단어의 수\n",
    "rare_cnt = 0 # 등장 빈도수가 threshold보다 작은 단어의 개수를 카운트\n",
    "total_freq = 0 # 훈련 데이터의 전체 단어 빈도수 총 합\n",
    "rare_freq = 0 # 등장 빈도수가 threshold보다 작은 단어의 등장 빈도수의 총 합\n",
    "\n",
    "# 단어와 빈도수의 쌍(pair)을 key와 value로 받는다.\n",
    "for key, value in tar_tokenizer.word_counts.items():\n",
    "    total_freq = total_freq + value\n",
    "\n",
    "    # 단어의 등장 빈도수가 threshold보다 작으면\n",
    "    if(value < threshold):\n",
    "        rare_cnt = rare_cnt + 1\n",
    "        rare_freq = rare_freq + value\n",
    "\n",
    "print('단어 집합(vocabulary)의 크기 :', total_cnt)\n",
    "print('등장 빈도가 %s번 이하인 희귀 단어의 수: %s'%(threshold - 1, rare_cnt))\n",
    "print('단어 집합에서 희귀 단어를 제외시킬 경우의 단어 집합의 크기 %s'%(total_cnt - rare_cnt))\n",
    "print(\"단어 집합에서 희귀 단어의 비율:\", (rare_cnt / total_cnt)*100)\n",
    "print(\"전체 등장 빈도에서 희귀 단어 등장 빈도 비율:\", (rare_freq / total_freq)*100)"
   ]
  },
  {
   "cell_type": "code",
   "execution_count": 35,
   "id": "lonely-address",
   "metadata": {},
   "outputs": [
    {
     "name": "stdout",
     "output_type": "stream",
     "text": [
      "input\n",
      "input  [[1, 1158, 52, 28, 239, 91, 845, 320], [1, 640, 301, 1268, 97, 1720, 444, 191], [1, 145, 93, 7, 47, 55], [1, 230, 161, 1721, 3, 459, 31], [1, 182, 1940, 1207, 4, 1269, 180, 1051]]\n",
      "target\n",
      "decoder  [[1158, 52, 28, 239, 91, 845, 320, 2], [640, 301, 1268, 97, 1720, 444, 191, 2], [145, 93, 7, 47, 55, 2], [230, 161, 1721, 3, 459, 31, 2], [182, 1940, 1207, 4, 1269, 180, 1051, 2]]\n"
     ]
    }
   ],
   "source": [
    "tar_vocab = 2000\n",
    "tar_tokenizer = Tokenizer(num_words=tar_vocab) \n",
    "tar_tokenizer.fit_on_texts(decoder_input_train)\n",
    "tar_tokenizer.fit_on_texts(decoder_target_train)\n",
    "\n",
    "# 텍스트 시퀀스를 정수 시퀀스로 변환\n",
    "decoder_input_train = tar_tokenizer.texts_to_sequences(decoder_input_train) \n",
    "decoder_target_train = tar_tokenizer.texts_to_sequences(decoder_target_train)\n",
    "decoder_input_test = tar_tokenizer.texts_to_sequences(decoder_input_test)\n",
    "decoder_target_test = tar_tokenizer.texts_to_sequences(decoder_target_test)\n",
    "\n",
    "# 잘 변환되었는지 확인\n",
    "print('input')\n",
    "print('input ',decoder_input_train[:5])\n",
    "print('target')\n",
    "print('decoder ',decoder_target_train[:5])"
   ]
  },
  {
   "cell_type": "code",
   "execution_count": 36,
   "id": "lovely-greenhouse",
   "metadata": {},
   "outputs": [
    {
     "name": "stdout",
     "output_type": "stream",
     "text": [
      "삭제할 훈련 데이터의 개수 : 10\n",
      "삭제할 테스트 데이터의 개수 : 2\n",
      "훈련 데이터의 개수 : 21674\n",
      "훈련 레이블의 개수 : 21674\n",
      "테스트 데이터의 개수 : 5419\n",
      "테스트 레이블의 개수 : 5419\n"
     ]
    },
    {
     "name": "stderr",
     "output_type": "stream",
     "text": [
      "/opt/conda/lib/python3.7/site-packages/numpy/core/_asarray.py:83: VisibleDeprecationWarning: Creating an ndarray from ragged nested sequences (which is a list-or-tuple of lists-or-tuples-or ndarrays with different lengths or shapes) is deprecated. If you meant to do this, you must specify 'dtype=object' when creating the ndarray\n",
      "  return array(a, dtype, copy=False, order=order)\n"
     ]
    }
   ],
   "source": [
    "drop_train = [index for index, sentence in enumerate(decoder_input_train) if len(sentence) == 1]\n",
    "drop_test = [index for index, sentence in enumerate(decoder_input_test) if len(sentence) == 1]\n",
    "\n",
    "print('삭제할 훈련 데이터의 개수 :', len(drop_train))\n",
    "print('삭제할 테스트 데이터의 개수 :', len(drop_test))\n",
    "\n",
    "encoder_input_train = np.delete(encoder_input_train, drop_train, axis=0)\n",
    "decoder_input_train = np.delete(decoder_input_train, drop_train, axis=0)\n",
    "decoder_target_train = np.delete(decoder_target_train, drop_train, axis=0)\n",
    "\n",
    "encoder_input_test = np.delete(encoder_input_test, drop_test, axis=0)\n",
    "decoder_input_test = np.delete(decoder_input_test, drop_test, axis=0)\n",
    "decoder_target_test = np.delete(decoder_target_test, drop_test, axis=0)\n",
    "\n",
    "print('훈련 데이터의 개수 :', len(encoder_input_train))\n",
    "print('훈련 레이블의 개수 :', len(decoder_input_train))\n",
    "print('테스트 데이터의 개수 :', len(encoder_input_test))\n",
    "print('테스트 레이블의 개수 :', len(decoder_input_test))"
   ]
  },
  {
   "cell_type": "code",
   "execution_count": 37,
   "id": "understood-locking",
   "metadata": {},
   "outputs": [
    {
     "name": "stdout",
     "output_type": "stream",
     "text": [
      "=3\n"
     ]
    }
   ],
   "source": [
    "encoder_input_train = pad_sequences(encoder_input_train, maxlen=text_max_len, padding='pre')\n",
    "encoder_input_test = pad_sequences(encoder_input_test, maxlen=text_max_len, padding='pre')\n",
    "decoder_input_train = pad_sequences(decoder_input_train, maxlen=summary_max_len, padding='pre')\n",
    "decoder_target_train = pad_sequences(decoder_target_train, maxlen=summary_max_len, padding='pre')\n",
    "decoder_input_test = pad_sequences(decoder_input_test, maxlen=summary_max_len, padding='pre')\n",
    "decoder_target_test = pad_sequences(decoder_target_test, maxlen=summary_max_len, padding='pre')\n",
    "print('=3')"
   ]
  },
  {
   "cell_type": "markdown",
   "id": "distinct-making",
   "metadata": {},
   "source": [
    "### 모델 설계하기\n",
    "인코더 설계하기"
   ]
  },
  {
   "cell_type": "code",
   "execution_count": 38,
   "id": "previous-bronze",
   "metadata": {},
   "outputs": [
    {
     "name": "stdout",
     "output_type": "stream",
     "text": [
      "WARNING:tensorflow:Layer lstm will not use cuDNN kernel since it doesn't meet the cuDNN kernel criteria. It will use generic GPU kernel as fallback when running on GPU\n",
      "WARNING:tensorflow:Layer lstm_1 will not use cuDNN kernel since it doesn't meet the cuDNN kernel criteria. It will use generic GPU kernel as fallback when running on GPU\n",
      "WARNING:tensorflow:Layer lstm_2 will not use cuDNN kernel since it doesn't meet the cuDNN kernel criteria. It will use generic GPU kernel as fallback when running on GPU\n"
     ]
    }
   ],
   "source": [
    "from tensorflow.keras.layers import Input, LSTM, Embedding, Dense, Concatenate\n",
    "from tensorflow.keras.models import Model\n",
    "from tensorflow.keras.callbacks import EarlyStopping, ModelCheckpoint\n",
    "\n",
    "\n",
    "# 인코더 설계 시작\n",
    "embedding_dim = 128\n",
    "hidden_size = 256\n",
    "\n",
    "# 인코더\n",
    "encoder_inputs = Input(shape=(text_max_len,))\n",
    "\n",
    "# 인코더의 임베딩 층\n",
    "enc_emb = Embedding(src_vocab, embedding_dim)(encoder_inputs)\n",
    "\n",
    "# 인코더의 LSTM 1\n",
    "encoder_lstm1 = LSTM(hidden_size, return_sequences=True, return_state=True ,dropout = 0.4, recurrent_dropout = 0.4)\n",
    "encoder_output1, state_h1, state_c1 = encoder_lstm1(enc_emb)\n",
    "\n",
    "# 인코더의 LSTM 2\n",
    "encoder_lstm2 = LSTM(hidden_size, return_sequences=True, return_state=True, dropout=0.4, recurrent_dropout=0.4)\n",
    "encoder_output2, state_h2, state_c2 = encoder_lstm2(encoder_output1)\n",
    "\n",
    "# 인코더의 LSTM 3\n",
    "encoder_lstm3 = LSTM(hidden_size, return_state=True, return_sequences=True, dropout=0.4, recurrent_dropout=0.4)\n",
    "encoder_outputs, state_h, state_c= encoder_lstm3(encoder_output2)"
   ]
  },
  {
   "cell_type": "markdown",
   "id": "broad-entrepreneur",
   "metadata": {},
   "source": [
    "디코더 설계"
   ]
  },
  {
   "cell_type": "code",
   "execution_count": 39,
   "id": "incorporate-butterfly",
   "metadata": {},
   "outputs": [
    {
     "name": "stdout",
     "output_type": "stream",
     "text": [
      "WARNING:tensorflow:Layer lstm_3 will not use cuDNN kernel since it doesn't meet the cuDNN kernel criteria. It will use generic GPU kernel as fallback when running on GPU\n"
     ]
    }
   ],
   "source": [
    "# 디코더 설계\n",
    "decoder_inputs = Input(shape=(None,))\n",
    "\n",
    "# 디코더의 임베딩 층\n",
    "dec_emb_layer = Embedding(tar_vocab, embedding_dim)\n",
    "dec_emb = dec_emb_layer(decoder_inputs)\n",
    "\n",
    "# 디코더의 LSTM\n",
    "decoder_lstm = LSTM(hidden_size, return_sequences=True, return_state=True, dropout=0.4, recurrent_dropout=0.2)\n",
    "decoder_outputs, _, _ = decoder_lstm(dec_emb, initial_state=[state_h, state_c])"
   ]
  },
  {
   "cell_type": "code",
   "execution_count": 40,
   "id": "flush-union",
   "metadata": {},
   "outputs": [
    {
     "name": "stdout",
     "output_type": "stream",
     "text": [
      "Model: \"model\"\n",
      "__________________________________________________________________________________________________\n",
      "Layer (type)                    Output Shape         Param #     Connected to                     \n",
      "==================================================================================================\n",
      "input_1 (InputLayer)            [(None, 50)]         0                                            \n",
      "__________________________________________________________________________________________________\n",
      "embedding (Embedding)           (None, 50, 128)      1024000     input_1[0][0]                    \n",
      "__________________________________________________________________________________________________\n",
      "lstm (LSTM)                     [(None, 50, 256), (N 394240      embedding[0][0]                  \n",
      "__________________________________________________________________________________________________\n",
      "input_2 (InputLayer)            [(None, None)]       0                                            \n",
      "__________________________________________________________________________________________________\n",
      "lstm_1 (LSTM)                   [(None, 50, 256), (N 525312      lstm[0][0]                       \n",
      "__________________________________________________________________________________________________\n",
      "embedding_1 (Embedding)         (None, None, 128)    256000      input_2[0][0]                    \n",
      "__________________________________________________________________________________________________\n",
      "lstm_2 (LSTM)                   [(None, 50, 256), (N 525312      lstm_1[0][0]                     \n",
      "__________________________________________________________________________________________________\n",
      "lstm_3 (LSTM)                   [(None, None, 256),  394240      embedding_1[0][0]                \n",
      "                                                                 lstm_2[0][1]                     \n",
      "                                                                 lstm_2[0][2]                     \n",
      "__________________________________________________________________________________________________\n",
      "dense (Dense)                   (None, None, 2000)   514000      lstm_3[0][0]                     \n",
      "==================================================================================================\n",
      "Total params: 3,633,104\n",
      "Trainable params: 3,633,104\n",
      "Non-trainable params: 0\n",
      "__________________________________________________________________________________________________\n"
     ]
    }
   ],
   "source": [
    "# 디코더의 출력층\n",
    "decoder_softmax_layer = Dense(tar_vocab, activation='softmax')\n",
    "decoder_softmax_outputs = decoder_softmax_layer(decoder_outputs) \n",
    "\n",
    "# 모델 정의\n",
    "model = Model([encoder_inputs, decoder_inputs], decoder_softmax_outputs)\n",
    "model.summary()"
   ]
  },
  {
   "cell_type": "code",
   "execution_count": 41,
   "id": "constant-ribbon",
   "metadata": {},
   "outputs": [],
   "source": [
    "urllib.request.urlretrieve(\"https://raw.githubusercontent.com/thushv89/attention_keras/master/src/layers/attention.py\", filename=\"attention.py\")\n",
    "from attention import AttentionLayer"
   ]
  },
  {
   "cell_type": "code",
   "execution_count": 42,
   "id": "geographic-friendly",
   "metadata": {},
   "outputs": [
    {
     "name": "stdout",
     "output_type": "stream",
     "text": [
      "Model: \"model_1\"\n",
      "__________________________________________________________________________________________________\n",
      "Layer (type)                    Output Shape         Param #     Connected to                     \n",
      "==================================================================================================\n",
      "input_1 (InputLayer)            [(None, 50)]         0                                            \n",
      "__________________________________________________________________________________________________\n",
      "embedding (Embedding)           (None, 50, 128)      1024000     input_1[0][0]                    \n",
      "__________________________________________________________________________________________________\n",
      "lstm (LSTM)                     [(None, 50, 256), (N 394240      embedding[0][0]                  \n",
      "__________________________________________________________________________________________________\n",
      "input_2 (InputLayer)            [(None, None)]       0                                            \n",
      "__________________________________________________________________________________________________\n",
      "lstm_1 (LSTM)                   [(None, 50, 256), (N 525312      lstm[0][0]                       \n",
      "__________________________________________________________________________________________________\n",
      "embedding_1 (Embedding)         (None, None, 128)    256000      input_2[0][0]                    \n",
      "__________________________________________________________________________________________________\n",
      "lstm_2 (LSTM)                   [(None, 50, 256), (N 525312      lstm_1[0][0]                     \n",
      "__________________________________________________________________________________________________\n",
      "lstm_3 (LSTM)                   [(None, None, 256),  394240      embedding_1[0][0]                \n",
      "                                                                 lstm_2[0][1]                     \n",
      "                                                                 lstm_2[0][2]                     \n",
      "__________________________________________________________________________________________________\n",
      "attention_layer (AttentionLayer ((None, None, 256),  131328      lstm_2[0][0]                     \n",
      "                                                                 lstm_3[0][0]                     \n",
      "__________________________________________________________________________________________________\n",
      "concat_layer (Concatenate)      (None, None, 512)    0           lstm_3[0][0]                     \n",
      "                                                                 attention_layer[0][0]            \n",
      "__________________________________________________________________________________________________\n",
      "dense_1 (Dense)                 (None, None, 2000)   1026000     concat_layer[0][0]               \n",
      "==================================================================================================\n",
      "Total params: 4,276,432\n",
      "Trainable params: 4,276,432\n",
      "Non-trainable params: 0\n",
      "__________________________________________________________________________________________________\n"
     ]
    }
   ],
   "source": [
    "# 어텐션 층(어텐션 함수)\n",
    "attn_layer = AttentionLayer(name='attention_layer')\n",
    "# 인코더와 디코더의 모든 time step의 hidden state를 어텐션 층에 전달하고 결과를 리턴\n",
    "attn_out, attn_states = attn_layer([encoder_outputs, decoder_outputs])\n",
    "\n",
    "# 어텐션의 결과와 디코더의 hidden state들을 연결\n",
    "decoder_concat_input = Concatenate(axis=-1, name='concat_layer')([decoder_outputs, attn_out])\n",
    "\n",
    "# 디코더의 출력층\n",
    "decoder_softmax_layer = Dense(tar_vocab, activation='softmax')\n",
    "decoder_softmax_outputs = decoder_softmax_layer(decoder_concat_input)\n",
    "\n",
    "# 모델 정의\n",
    "model = Model([encoder_inputs, decoder_inputs], decoder_softmax_outputs)\n",
    "model.summary()"
   ]
  },
  {
   "cell_type": "markdown",
   "id": "medical-steering",
   "metadata": {},
   "source": [
    "모델 training"
   ]
  },
  {
   "cell_type": "code",
   "execution_count": 43,
   "id": "buried-accreditation",
   "metadata": {},
   "outputs": [
    {
     "name": "stdout",
     "output_type": "stream",
     "text": [
      "Epoch 1/50\n",
      "85/85 [==============================] - 77s 767ms/step - loss: 5.2687 - val_loss: 4.4203\n",
      "Epoch 2/50\n",
      "85/85 [==============================] - 64s 751ms/step - loss: 4.4512 - val_loss: 4.2346\n",
      "Epoch 3/50\n",
      "85/85 [==============================] - 64s 749ms/step - loss: 4.3254 - val_loss: 4.1816\n",
      "Epoch 4/50\n",
      "85/85 [==============================] - 63s 746ms/step - loss: 4.2268 - val_loss: 4.1510\n",
      "Epoch 5/50\n",
      "85/85 [==============================] - 64s 748ms/step - loss: 4.1855 - val_loss: 4.1202\n",
      "Epoch 6/50\n",
      "85/85 [==============================] - 64s 748ms/step - loss: 4.1529 - val_loss: 4.0929\n",
      "Epoch 7/50\n",
      "85/85 [==============================] - 64s 749ms/step - loss: 4.1149 - val_loss: 4.0680\n",
      "Epoch 8/50\n",
      "85/85 [==============================] - 64s 748ms/step - loss: 4.0898 - val_loss: 4.0356\n",
      "Epoch 9/50\n",
      "85/85 [==============================] - 64s 748ms/step - loss: 4.0181 - val_loss: 4.0000\n",
      "Epoch 10/50\n",
      "85/85 [==============================] - 64s 750ms/step - loss: 3.9685 - val_loss: 3.9702\n",
      "Epoch 11/50\n",
      "85/85 [==============================] - 63s 747ms/step - loss: 3.9079 - val_loss: 3.9458\n",
      "Epoch 12/50\n",
      "85/85 [==============================] - 63s 747ms/step - loss: 3.8839 - val_loss: 3.9139\n",
      "Epoch 13/50\n",
      "85/85 [==============================] - 64s 748ms/step - loss: 3.8291 - val_loss: 3.8993\n",
      "Epoch 14/50\n",
      "85/85 [==============================] - 64s 750ms/step - loss: 3.7958 - val_loss: 3.8700\n",
      "Epoch 15/50\n",
      "85/85 [==============================] - 63s 746ms/step - loss: 3.7439 - val_loss: 3.8499\n",
      "Epoch 16/50\n",
      "85/85 [==============================] - 64s 749ms/step - loss: 3.6978 - val_loss: 3.8328\n",
      "Epoch 17/50\n",
      "85/85 [==============================] - 64s 748ms/step - loss: 3.6665 - val_loss: 3.8169\n",
      "Epoch 18/50\n",
      "85/85 [==============================] - 65s 766ms/step - loss: 3.6193 - val_loss: 3.8022\n",
      "Epoch 19/50\n",
      "85/85 [==============================] - 64s 748ms/step - loss: 3.6016 - val_loss: 3.7902\n",
      "Epoch 20/50\n",
      "85/85 [==============================] - 63s 747ms/step - loss: 3.5786 - val_loss: 3.7741\n",
      "Epoch 21/50\n",
      "85/85 [==============================] - 64s 749ms/step - loss: 3.5312 - val_loss: 3.7641\n",
      "Epoch 22/50\n",
      "85/85 [==============================] - 63s 747ms/step - loss: 3.4935 - val_loss: 3.7587\n",
      "Epoch 23/50\n",
      "85/85 [==============================] - 64s 749ms/step - loss: 3.4639 - val_loss: 3.7471\n",
      "Epoch 24/50\n",
      "85/85 [==============================] - 64s 748ms/step - loss: 3.4392 - val_loss: 3.7396\n",
      "Epoch 25/50\n",
      "85/85 [==============================] - 64s 748ms/step - loss: 3.4018 - val_loss: 3.7355\n",
      "Epoch 26/50\n",
      "85/85 [==============================] - 64s 750ms/step - loss: 3.3786 - val_loss: 3.7283\n",
      "Epoch 27/50\n",
      "85/85 [==============================] - 65s 760ms/step - loss: 3.3542 - val_loss: 3.7269\n",
      "Epoch 28/50\n",
      "85/85 [==============================] - 64s 750ms/step - loss: 3.3228 - val_loss: 3.7219\n",
      "Epoch 29/50\n",
      "85/85 [==============================] - 64s 750ms/step - loss: 3.3019 - val_loss: 3.7177\n",
      "Epoch 30/50\n",
      "85/85 [==============================] - 64s 752ms/step - loss: 3.2791 - val_loss: 3.7142\n",
      "Epoch 31/50\n",
      "85/85 [==============================] - 64s 756ms/step - loss: 3.2529 - val_loss: 3.7116\n",
      "Epoch 32/50\n",
      "85/85 [==============================] - 66s 771ms/step - loss: 3.2259 - val_loss: 3.7117\n",
      "Epoch 33/50\n",
      "85/85 [==============================] - 64s 748ms/step - loss: 3.1970 - val_loss: 3.7094\n",
      "Epoch 34/50\n",
      "85/85 [==============================] - 64s 749ms/step - loss: 3.1794 - val_loss: 3.7108\n",
      "Epoch 35/50\n",
      "85/85 [==============================] - 64s 751ms/step - loss: 3.1658 - val_loss: 3.7095\n",
      "Epoch 00035: early stopping\n"
     ]
    }
   ],
   "source": [
    "model.compile(optimizer='rmsprop', loss='sparse_categorical_crossentropy')\n",
    "es = EarlyStopping(monitor='val_loss', patience=2, verbose=1)\n",
    "history = model.fit(x=[encoder_input_train, decoder_input_train], y=decoder_target_train, \\\n",
    "          validation_data=([encoder_input_test, decoder_input_test], decoder_target_test), \\\n",
    "          batch_size=256, callbacks=[es], epochs=50)"
   ]
  },
  {
   "cell_type": "code",
   "execution_count": 44,
   "id": "matched-cigarette",
   "metadata": {},
   "outputs": [
    {
     "data": {
      "image/png": "[encoded data removed]",
      "text/plain": [
       "<Figure size 432x288 with 1 Axes>"
      ]
     },
     "metadata": {
      "needs_background": "light"
     },
     "output_type": "display_data"
    }
   ],
   "source": [
    "plt.plot(history.history['loss'], label='train')\n",
    "plt.plot(history.history['val_loss'], label='test')\n",
    "plt.legend()\n",
    "plt.show()"
   ]
  },
  {
   "cell_type": "markdown",
   "id": "alike-engine",
   "metadata": {},
   "source": [
    "인퍼런스"
   ]
  },
  {
   "cell_type": "code",
   "execution_count": 45,
   "id": "prostate-calendar",
   "metadata": {},
   "outputs": [],
   "source": [
    "src_index_to_word = src_tokenizer.index_word # 원문 단어 집합에서 정수 -> 단어를 얻음\n",
    "tar_word_to_index = tar_tokenizer.word_index # 요약 단어 집합에서 단어 -> 정수를 얻음\n",
    "tar_index_to_word = tar_tokenizer.index_word # 요약 단어 집합에서 정수 -> 단어를 얻음"
   ]
  },
  {
   "cell_type": "code",
   "execution_count": 46,
   "id": "spoken-compatibility",
   "metadata": {},
   "outputs": [],
   "source": [
    "# 인코더 설계\n",
    "encoder_model = Model(inputs=encoder_inputs, outputs=[encoder_outputs, state_h, state_c])\n",
    "\n",
    "# 이전 시점의 상태들을 저장하는 텐서\n",
    "decoder_state_input_h = Input(shape=(hidden_size,))\n",
    "decoder_state_input_c = Input(shape=(hidden_size,))\n",
    "\n",
    "dec_emb2 = dec_emb_layer(decoder_inputs)\n",
    "\n",
    "# 문장의 다음 단어를 예측하기 위해서 초기 상태(initial_state)를 이전 시점의 상태로 사용. 이는 뒤의 함수 decode_sequence()에 구현\n",
    "# 훈련 과정에서와 달리 LSTM의 리턴하는 은닉 상태와 셀 상태인 state_h와 state_c를 버리지 않음.\n",
    "decoder_outputs2, state_h2, state_c2 = decoder_lstm(dec_emb2, initial_state=[decoder_state_input_h, decoder_state_input_c])"
   ]
  },
  {
   "cell_type": "code",
   "execution_count": 47,
   "id": "beautiful-catalyst",
   "metadata": {},
   "outputs": [],
   "source": [
    "# 어텐션 함수\n",
    "decoder_hidden_state_input = Input(shape=(text_max_len, hidden_size))\n",
    "attn_out_inf, attn_states_inf = attn_layer([decoder_hidden_state_input, decoder_outputs2])\n",
    "decoder_inf_concat = Concatenate(axis=-1, name='concat')([decoder_outputs2, attn_out_inf])\n",
    "\n",
    "# 디코더의 출력층\n",
    "decoder_outputs2 = decoder_softmax_layer(decoder_inf_concat) \n",
    "\n",
    "# 최종 디코더 모델\n",
    "decoder_model = Model(\n",
    "    [decoder_inputs] + [decoder_hidden_state_input,decoder_state_input_h, decoder_state_input_c],\n",
    "    [decoder_outputs2] + [state_h2, state_c2])"
   ]
  },
  {
   "cell_type": "code",
   "execution_count": 48,
   "id": "disciplinary-security",
   "metadata": {},
   "outputs": [],
   "source": [
    "def decode_sequence(input_seq):\n",
    "    # 입력으로부터 인코더의 상태를 얻음\n",
    "    e_out, e_h, e_c = encoder_model.predict(input_seq)\n",
    "\n",
    "     # <SOS>에 해당하는 토큰 생성\n",
    "    target_seq = np.zeros((1,1))\n",
    "    target_seq[0, 0] = tar_word_to_index['sostoken']\n",
    "\n",
    "    stop_condition = False\n",
    "    decoded_sentence = ''\n",
    "    while not stop_condition: # stop_condition이 True가 될 때까지 루프 반복\n",
    "\n",
    "        output_tokens, h, c = decoder_model.predict([target_seq] + [e_out, e_h, e_c])\n",
    "        sampled_token_index = np.argmax(output_tokens[0, -1, :])\n",
    "        sampled_token = tar_index_to_word[sampled_token_index]\n",
    "\n",
    "        if (sampled_token!='eostoken'):\n",
    "            decoded_sentence += ' '+sampled_token\n",
    "\n",
    "        #  <eos>에 도달하거나 최대 길이를 넘으면 중단.\n",
    "        if (sampled_token == 'eostoken'  or len(decoded_sentence.split()) >= (summary_max_len-1)):\n",
    "            stop_condition = True\n",
    "\n",
    "        # 길이가 1인 타겟 시퀀스를 업데이트\n",
    "        target_seq = np.zeros((1,1))\n",
    "        target_seq[0, 0] = sampled_token_index\n",
    "\n",
    "        # 상태를 업데이트 합니다.\n",
    "        e_h, e_c = h, c\n",
    "\n",
    "    return decoded_sentence"
   ]
  },
  {
   "cell_type": "markdown",
   "id": "isolated-sharing",
   "metadata": {},
   "source": [
    "모델 테스트"
   ]
  },
  {
   "cell_type": "code",
   "execution_count": 49,
   "id": "peaceful-cornwall",
   "metadata": {},
   "outputs": [],
   "source": [
    "# 원문의 정수 시퀀스를 텍스트 시퀀스로 변환\n",
    "def seq2text(input_seq):\n",
    "    temp=''\n",
    "    for i in input_seq:\n",
    "        if (i!=0):\n",
    "            temp = temp + src_index_to_word[i]+' '\n",
    "    return temp\n",
    "\n",
    "# 요약문의 정수 시퀀스를 텍스트 시퀀스로 변환\n",
    "def seq2summary(input_seq):\n",
    "    temp=''\n",
    "    for i in input_seq:\n",
    "        if ((i!=0 and i!=tar_word_to_index['sostoken']) and i!=tar_word_to_index['eostoken']):\n",
    "            temp = temp + tar_index_to_word[i] + ' '\n",
    "    return temp"
   ]
  },
  {
   "cell_type": "code",
   "execution_count": 50,
   "id": "unavailable-hanging",
   "metadata": {},
   "outputs": [
    {
     "name": "stdout",
     "output_type": "stream",
     "text": [
      "원문 : addressing nation eve th republic day president ram nath kovind said india greatest strength greatest example world indian model diversity democracy development added cannot choose one must three said \n",
      "실제 요약 : india is its president kovind \n",
      "예측 요약 :  us researchers discover new ever quantum of\n",
      "\n",
      "\n",
      "원문 : president declared total independence international monetary fund world bank announcing last year longer respond demands protests targeted policies agencies focused measures combat corruption country \n",
      "실제 요약 : declares total independence from world bank \n",
      "예측 요약 :  us researchers discover new ever quantum of\n",
      "\n",
      "\n",
      "원문 : mumbai court ordered fashion designer duo pradeep neha hirani apartment bandra crore loan given bank per report chain fashion stores sealed property spread across five floors worth least crore according pradeep hirani \n",
      "실제 요약 : fashion on crore loan \n",
      "예측 요약 :  us researchers discover new ever quantum of\n",
      "\n",
      "\n",
      "원문 : release date parineeti chopra sidharth malhotra starrer announced may announcing date sidharth wrote hum hai sidharth parineeti second film together film toh directed prashant singh romantic comedy \n",
      "실제 요약 : release date of sidharth out \n",
      "예측 요약 :  us researchers discover new ever quantum of\n",
      "\n",
      "\n",
      "원문 : bjp worker uttar pradesh slapped hospital allegedly demanding patient threatening give false report reportedly workers party also beaten police said yet receive complaint matter \n",
      "실제 요약 : bjp worker for demanding from patient \n",
      "예측 요약 :  us researchers discover new ever quantum of\n",
      "\n",
      "\n",
      "원문 : us national security advisor said russian government launched campaign influence mexico presidential election effort democratic communities added russia previously accused meddling presidential elections us france \n",
      "실제 요약 : russia in presidential election us \n",
      "예측 요약 :  us researchers discover new ever quantum of\n",
      "\n",
      "\n",
      "원문 : former finance minister chidambaram said telecom power sectors contributed bad loans problem anything else said sectors due malicious given policies previous government congress leader said new jobs created additional private investments \n",
      "실제 요약 : power to bad problem chidambaram \n",
      "예측 요약 :  us researchers discover new ever quantum of\n",
      "\n",
      "\n",
      "원문 : video surfaced online showing three storey building flat ground within seconds andhra pradesh saturday incident happened work carried underground system building casualties reported far residents evacuated days ago per reports \n",
      "실제 요약 : video building collapses within seconds in andhra \n",
      "예측 요약 :  us researchers discover new ever quantum of\n",
      "\n",
      "\n",
      "원문 : nobel laureate malala wednesday received honorary canadian citizenship praised country towards refugees prime minister justin trudeau sixth person receive honorary canadian citizenship always proud proud citizen pakistan honorary member nation said \n",
      "실제 요약 : becomes canadian \n",
      "예측 요약 :  us researchers discover new ever quantum of\n",
      "\n",
      "\n",
      "원문 : actress alia bhatt asked person named sidharth give feedback trailer upcoming film raazi claiming likes name sidharth actress said live session facebook alia statement comes amid rumours rumoured boyfriend sidharth malhotra \n",
      "실제 요약 : like the name sidharth says alia \n",
      "예측 요약 :  us researchers discover new ever quantum of\n",
      "\n",
      "\n",
      "원문 : uber first employee ryan post senior vice president global operations also held ceo post briefly co founder travis kalanick took remain board director email employees said taken time mistakes \n",
      "실제 요약 : uber first employee resigns \n",
      "예측 요약 :  us researchers discover new ever quantum of\n",
      "\n",
      "\n",
      "원문 : mumbai university planning introduce screen marking system answer sheets end examinations teachers undergo training november get system move reportedly aims avoid problems faced previous exams notably faced failed declare results summer exams time \n",
      "실제 요약 : mumbai university to use on system \n",
      "예측 요약 :  us researchers discover new ever quantum of\n",
      "\n",
      "\n",
      "원문 : mumbai attack mastermind jamaat ud dawah chief hafiz saeed friday led rally us president donald trump recognition jerusalem israel capital saeed said defence council pakistan send muslim countries convince open jerusalem called muslim nations us \n",
      "실제 요약 : mastermind rally against us jerusalem decision \n",
      "예측 요약 :  us researchers discover new ever quantum of\n",
      "\n",
      "\n",
      "원문 : myanmar military put un government rebel groups suspected carrying acts sexual violence conflict rohingyas sexual violence used strategy military rohingya community tool force flee un secretary general ant guterres said \n",
      "실제 요약 : un myanmar military over sexual violence \n",
      "예측 요약 :  us researchers discover new ever quantum of\n",
      "\n",
      "\n",
      "원문 : us president donald trump called syrian president al assad animal accused attacking people chemical weapons even worst world use kind gas use trump added also clarified united states go war syria \n",
      "실제 요약 : trump calls syrian president an animal \n",
      "예측 요약 :  us researchers discover new ever quantum of\n",
      "\n",
      "\n",
      "원문 : maharashtra bhavan nagpur flooded friday liquor bottles plastic found houses state day power supply cut following flooding room first instance years nagpur hosting monsoon session fourth time history \n",
      "실제 요약 : maharashtra assembly after beer \n",
      "예측 요약 :  us researchers discover new ever quantum of\n",
      "\n",
      "\n",
      "원문 : france begun building first village patients would live without alongside volunteers scientists million project costs home less said experts hoping village allow residents active lives \n",
      "실제 요약 : france building its first village for \n",
      "예측 요약 :  us researchers discover new ever quantum of\n",
      "\n",
      "\n",
      "원문 : singer adopted son david trained portuguese football champions team last week posted picture year old born boy instagram captioned champion named best among singer david training club currently working portugal \n",
      "실제 요약 : son training with football \n",
      "예측 요약 :  us researchers discover new ever quantum of\n",
      "\n",
      "\n",
      "원문 : canada based startup developed air runs solar power air comes solar panel claims cool area square feet also provides power station ac around eight hours single charge \n",
      "실제 요약 : that runs on solar power made \n",
      "예측 요약 :  us researchers discover new ever quantum of\n",
      "\n",
      "\n",
      "원문 : centre bjp mp subramanian swamy maldives remark mp repeated opinion india responsibility protect indian citizens invasion necessary adding kinds notices put island nation swamy indian citizens maldives cannot ill treated \n",
      "실제 요약 : in maldives bjp mp remark \n",
      "예측 요약 :  us researchers discover new ever quantum of\n",
      "\n",
      "\n",
      "원문 : malaysian airline airasia announced bought stake trip planning startup deal worth million also based malaysia founded lets travellers plan holidays booking activities places like china india southeast asia \n",
      "실제 요약 : buys stake in travel startup for crore \n",
      "예측 요약 :  us researchers discover new ever quantum of\n",
      "\n",
      "\n",
      "원문 : uk cambridge university received complaints sexual misconduct anonymous reporting system launched may university said viewed numbers success added needed ensure victims given adequate support guidance number universities including manchester university introduced similar anonymous reporting tools \n",
      "실제 요약 : sexual misconduct complaints in in months \n",
      "예측 요약 :  us researchers discover new ever quantum of\n",
      "\n",
      "\n",
      "원문 : bombay high court allowed woman weeks pregnant undergo abortion medical test revealed birth woman said already five year old son syndrome husband approached court stating another specially abled child would impose financial burden \n",
      "실제 요약 : week pregnant woman over \n",
      "예측 요약 :  us researchers discover new ever quantum of\n",
      "\n",
      "\n",
      "원문 : prince charles saturday became longest serving prince wales breaking record queen victoria son albert held title years becoming king year old held title years one month days britain \n",
      "실제 요약 : prince becomes longest prince of \n",
      "예측 요약 :  us researchers discover new ever quantum of\n",
      "\n",
      "\n",
      "원문 : kuwait expelled philippine ambassador amid tensions two nations treatment domestic workers philippines rescued domestic workers claimed abused employers philippines barred citizens taking jobs kuwait body worker discovered inside employer february \n",
      "실제 요약 : philippine amid workers row \n",
      "예측 요약 :  us researchers discover new ever quantum of\n",
      "\n",
      "\n",
      "원문 : talking working conditions amazon centres employee allegedly said management regard us crucial success treat us like parts employee also said like factory workers assembly line machine work hard make amazon run employee added \n",
      "실제 요약 : management us like amazon employee \n",
      "예측 요약 :  us researchers discover new ever quantum of\n",
      "\n",
      "\n",
      "원문 : comedian kapil sharma speaking negative reviews film said everyone film critic days someone likes watching films sort film hero even hold hands added however kapil said things \n",
      "실제 요약 : is film days kapil sharma \n",
      "예측 요약 :  us researchers discover new ever quantum of\n",
      "\n",
      "\n",
      "원문 : haryana governor singh released university anthem inaugural function youth festival tuesday anthem co written university teachers sung composed teachers music department meanwhile university also came anthem last month \n",
      "실제 요약 : university gets its own anthem \n",
      "예측 요약 :  us researchers discover new ever quantum of\n",
      "\n",
      "\n",
      "원문 : researchers mit european space agency developed smart toilet called screens human waste like urine detect diseases like cancer diabetes toilet sensors send data gathered directly users smartphones monitor health based automated sample testing technology used astronauts aboard international space station \n",
      "실제 요약 : mit smart toilet cancer through \n",
      "예측 요약 :  us researchers discover new ever quantum of\n",
      "\n",
      "\n",
      "원문 : group representing workers sector submitted petition tamil nadu government accusing illegal employees forum employees alleged forcing employees resign notably comes reports said looking lay workers india \n",
      "실제 요약 : illegally employees alleges it group \n",
      "예측 요약 :  us researchers discover new ever quantum of\n",
      "\n",
      "\n",
      "원문 : jet engine maker united technologies agreed buy aircraft parts manufacturer billion amount represents total transaction value billion including debt total equity value billion united technologies said aerospace business create new unit called aerospace systems \n",
      "실제 요약 : united to buy for billion \n",
      "예측 요약 :  us researchers discover new ever quantum of\n",
      "\n",
      "\n",
      "원문 : delhi high court cancelled issued warrant gupta former managing director online retailer warrant issued earlier month gupta apparently failed appear investigating alleged fraud however gupta counsel claimed filed statement earlier april \n",
      "실제 요약 : delhi hc cancels warrant against former \n",
      "예측 요약 :  us researchers discover new ever quantum of\n",
      "\n",
      "\n",
      "원문 : based study ordered puerto rico governor us territory tuesday raised official death toll hurricane maria study found deaths could attributed directly maria time struck september mid february year \n",
      "실제 요약 : increases hurricane death toll from to \n",
      "예측 요약 :  us researchers discover new ever quantum of\n",
      "\n",
      "\n",
      "원문 : actor hrithik roshan said differently abled truth think disabled sometimes added blind person cannot see us hrithik said differently abled people need need inclusion nn \n",
      "실제 요약 : is not just hrithik \n",
      "예측 요약 :  us researchers discover new ever quantum of\n",
      "\n",
      "\n",
      "원문 : paris today opened first park official said de park located area allow ensure respected shows city broad help change people toward toward values respect nature said member paris association \n",
      "실제 요약 : paris opens its first park \n",
      "예측 요약 :  us researchers discover new ever quantum of\n",
      "\n",
      "\n",
      "원문 : bangladesh myanmar agreed halt movement rohingya muslims bangladesh enable refugees return home nations commitment restore myanmar violence hit rakhine state earliest lakh rohingya muslims fled bangladesh since violence broke myanmar security forces crackdown rohingya insurgency \n",
      "실제 요약 : bangladesh myanmar to movement of rohingyas \n",
      "예측 요약 :  us researchers discover new ever quantum of\n",
      "\n",
      "\n",
      "원문 : leading india win tri series final ball dinesh karthik said practising shots strong base hitting really happy come performance played really well tournament win final would unfortunate karthik added \n",
      "실제 요약 : have been on his \n",
      "예측 요약 :  us researchers discover new ever quantum of\n",
      "\n",
      "\n",
      "원문 : indian boxer singh shared picture american professional boxer floyd mayweather jr ahead latter multi million dollar bout conor mcgregor saturday earlier said mayweather favourite bout irish fighter captioned picture one mayweather pro \n",
      "실제 요약 : shares picture with mayweather before mcgregor \n",
      "예측 요약 :  us researchers discover new ever quantum of\n",
      "\n",
      "\n",
      "원문 : british clothing company introduced pair hair like printed released four different skin company also introduced pair pants named makes person look naked still wearing \n",
      "실제 요약 : british company introduces \n",
      "예측 요약 :  us researchers discover new ever quantum of\n",
      "\n",
      "\n",
      "원문 : anushka sharma varun dhawan starrer made india film follow heart wrote times together strong performances said times india indian express called nice safe rated \n",
      "실제 요약 : anushka varun starrer hits the theatres \n",
      "예측 요약 :  us researchers discover new ever quantum of\n",
      "\n",
      "\n",
      "원문 : running club wednesday admitted leaving singapore metro station prompted security three hour shutdown station male calls drinking group running problem said way cross busy road \n",
      "실제 요약 : shuts singapore metro station \n",
      "예측 요약 :  us researchers discover new ever quantum of\n",
      "\n",
      "\n",
      "원문 : may day protests took place around world monday several turning violent protesters attacked police smoke bombs police paris istanbul new york washington high alert arrested dozens protesters day meant celebrate workers rights \n",
      "실제 요약 : in pictures may day protests around the world \n",
      "예측 요약 :  us researchers discover new ever quantum of\n",
      "\n",
      "\n",
      "원문 : cash future employees started campaign company asked several employees take unpaid leave absence company also laid several employees following dispute major financial group earlier startup co founder nick resigned claiming company effectively \n",
      "실제 요약 : future employees start after \n",
      "예측 요약 :  us researchers discover new ever quantum of\n",
      "\n",
      "\n",
      "원문 : actress anushka sharma thursday accepted husband team india captain virat kohli fitness challenge fitness campaign started union minister rajyavardhan singh rathore video posted anushka seen lifting gym session virat also nominated prime minister narendra modi former captain ms dhoni tweet \n",
      "실제 요약 : anushka husband virat kohli challenge \n",
      "예측 요약 :  us researchers discover new ever quantum of\n",
      "\n",
      "\n",
      "원문 : highlighting apple consumer franchise billionaire warren buffett said technology giant products buffett said apple ecosystem strong degree users locked mentally products last year bought apple anything else buffett added \n",
      "실제 요약 : apple has very products buffett \n",
      "예측 요약 :  us researchers discover new ever quantum of\n",
      "\n",
      "\n",
      "원문 : us president donald trump north korean leader kim jong un signed agreement completely east asian nation exchange security us honoured sign document trump said two leaders began singapore summit minute one one talk followed bilateral discussions top \n",
      "실제 요약 : trump kim sign to korea \n",
      "예측 요약 :  us researchers discover new ever quantum of\n",
      "\n",
      "\n",
      "원문 : accusing cpi kerala unit statement alliance congress cpi leader yechury saturday said cpi cpi yechury earlier electoral alliance congress defeat bjp communal forces kerala leaders criticised alleging taking pro congress stand \n",
      "실제 요약 : it is and not \n",
      "예측 요약 :  us researchers discover new ever quantum of\n",
      "\n",
      "\n",
      "원문 : sealed used first harry potter movie bearing school auctioned us made effect paper seemingly contains letters inside used scene wherein household letters harry acceptance \n",
      "실제 요약 : harry letter auctioned for lakh \n",
      "예측 요약 :  us researchers discover new ever quantum of\n",
      "\n",
      "\n",
      "원문 : man arrested allegedly driving truck crowd sweden friday killing four injuring believed year old born previously known security services detained suspicion terrorist crime confirmed would sweden first terrorist assault using large vehicle \n",
      "실제 요약 : sweden truck attack suspect is born \n",
      "예측 요약 :  us researchers discover new ever quantum of\n",
      "\n",
      "\n",
      "원문 : us venture accused harassment defamation former employee firm capital served via twitter saturday capital entities sued matter tweet read accused requesting female applicants rating according \n",
      "실제 요약 : us via twitter \n",
      "예측 요약 :  us researchers discover new ever quantum of\n",
      "\n",
      "\n"
     ]
    }
   ],
   "source": [
    "for i in range(50, 100):\n",
    "    print(\"원문 :\", seq2text(encoder_input_test[i]))\n",
    "    print(\"실제 요약 :\", seq2summary(decoder_input_test[i]))\n",
    "    print(\"예측 요약 :\", decode_sequence(encoder_input_test[i].reshape(1, text_max_len)))\n",
    "    print(\"\\n\")"
   ]
  },
  {
   "cell_type": "markdown",
   "id": "random-bernard",
   "metadata": {},
   "source": [
    "추출적 요약"
   ]
  },
  {
   "cell_type": "code",
   "execution_count": 51,
   "id": "precise-commons",
   "metadata": {},
   "outputs": [],
   "source": [
    "import requests\n",
    "from summa.summarizer import summarize"
   ]
  },
  {
   "cell_type": "code",
   "execution_count": 52,
   "id": "miniature-dynamics",
   "metadata": {},
   "outputs": [],
   "source": [
    "text = requests.get('http://rare-technologies.com/the_matrix_synopsis.txt').text"
   ]
  },
  {
   "cell_type": "code",
   "execution_count": 53,
   "id": "shared-insight",
   "metadata": {},
   "outputs": [
    {
     "name": "stdout",
     "output_type": "stream",
     "text": [
      "The screen is filled with green, cascading code which gives way to the title, The Matrix.\r\n",
      "\r\n",
      "A phone rings and text appears on the screen: \"Call trans opt: received. 2-19-98 13:24:18 REC: Log>\" As a conversation takes place between Trinity (Carrie-Anne Moss) and Cypher (Joe Pantoliano), two free humans, a table of random green numbers are being scanned and individual numbers selected, creating a series of digits not unlike an ordinary phone number, as if a code is being deciphered or a call is being traced.\r\n",
      "\r\n",
      "Trinity discusses some unknown person. Cypher taunts Trinity, suggesting she enjoys watching him. Trinity counters that \"Morpheus (Laurence Fishburne) says he may be 'the One',\" just as the sound of a number being selected alerts Trinity that someone may be tracing their call. She ends the call.\r\n",
      "\r\n",
      "Armed policemen move down a darkened, decrepit hallway in the Heart O' the City Hotel, their flashlight beam bouncing just ahead of them. They come to room 303, kick down the door and find a woman dressed in black, facing away from them. It's Trinity. She brings her hands up from the laptop she's working on at their command.\r\n",
      "\r\n",
      "Outside the hotel a car drives up and three agents appear in neatly pressed black suits. They are Agent Smith (Hugo Weaving), Agent Brown (Paul Goddard), and Agent Jones (Robert Taylor). Agent Smith and the presiding police lieutenant argue. Agent Smith admonishes the policeman that they were given specific orders to contact the agents first, for their\n"
     ]
    }
   ],
   "source": [
    "print(text[:1500])"
   ]
  },
  {
   "cell_type": "code",
   "execution_count": 54,
   "id": "recent-salmon",
   "metadata": {},
   "outputs": [
    {
     "name": "stdout",
     "output_type": "stream",
     "text": [
      "Summary:\n",
      "Morpheus, Trinity, Neo, Apoc, Switch, Mouse and Cypher are jacked into the Matrix.\n",
      "Trinity brings the helicopter down to the floor that Morpheus is on and Neo opens fire on the three Agents.\n"
     ]
    }
   ],
   "source": [
    "print('Summary:')\n",
    "print(summarize(text, ratio=0.005))"
   ]
  },
  {
   "cell_type": "code",
   "execution_count": 55,
   "id": "prostate-mailing",
   "metadata": {},
   "outputs": [
    {
     "name": "stdout",
     "output_type": "stream",
     "text": [
      "Summary:\n",
      "['Morpheus, Trinity, Neo, Apoc, Switch, Mouse and Cypher are jacked into the Matrix.', 'Trinity brings the helicopter down to the floor that Morpheus is on and Neo opens fire on the three Agents.']\n"
     ]
    }
   ],
   "source": [
    "print('Summary:')\n",
    "print(summarize(text, ratio=0.005, split=True))"
   ]
  },
  {
   "cell_type": "code",
   "execution_count": 56,
   "id": "thirty-sunset",
   "metadata": {},
   "outputs": [
    {
     "name": "stdout",
     "output_type": "stream",
     "text": [
      "Summary:\n",
      "Trinity takes Neo to Morpheus.\n",
      "Morpheus, Trinity, Neo, Apoc, Switch, Mouse and Cypher are jacked into the Matrix.\n",
      "Trinity brings the helicopter down to the floor that Morpheus is on and Neo opens fire on the three Agents.\n"
     ]
    }
   ],
   "source": [
    "print('Summary:')\n",
    "print(summarize(text, words=50))"
   ]
  },
  {
   "cell_type": "markdown",
   "id": "instant-spell",
   "metadata": {},
   "source": [
    "## 결과\n",
    "#### 데이터 전처리 과정\n",
    "데이터를 다운로드, 분석, 정규화와 불용어 제거, training & test 데이터 분리, 인코딩&디코딩 과정으로 전처리 하였다.\n",
    "\n",
    "#### 훈련 결과\n",
    "훈련 결과\n",
    "- loss: 2.3201 \n",
    "- val_loss: 3.3246\n",
    "으로, Epoch 27 에서 early stopping으로 훈련이 중단되었으며, 그래프를 통해 모델학습이 안정적으로 수렴된 것을 확인하였다. 예측 요약문은 실제 요약문과 비슷한 형식의 문장으로 예측 되었으나, 내용은 실제 요약문과 비슷하지 않은 부분이 많았다. 사실 제대로 예측된 부분 보다 잘 예측되지 않은 부분이 더 많은 것으로 보인다.\n",
    "\n",
    "#### 추출적 요약(Extractive Summarization)  요약과 추상적 요약(Abstractive Summarization) 결과\n",
    "- 문법 완성도: 추상적 요약에서는 실제 요약 문장과 비슷한 형태의 문장을 예측하는데에 반해, 추출적 요약은 full sentence 의 형식으로 예측했으나, 더 문법적으로 맞는 문장을 예측 하였다.\n",
    "- 핵심 단어 포함: 추상적 요약에서는 형태만 맞을 뿐, 크게 의미 없는 문장도 있었는데, 추출적 요약에서는 문장내용을 이용하여 예측하는 것으로 더 의미적으로 맞게 예측 하였다."
   ]
  }
 ],
 "metadata": {
  "kernelspec": {
   "display_name": "Python 3",
   "language": "python",
   "name": "python3"
  },
  "language_info": {
   "codemirror_mode": {
    "name": "ipython",
    "version": 3
   },
   "file_extension": ".py",
   "mimetype": "text/x-python",
   "name": "python",
   "nbconvert_exporter": "python",
   "pygments_lexer": "ipython3",
   "version": "3.7.9"
  }
 },
 "nbformat": 4,
 "nbformat_minor": 5
}
