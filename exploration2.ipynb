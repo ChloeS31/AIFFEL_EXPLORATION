{
 "cells": [
  {
   "cell_type": "markdown",
   "id": "wrong-spotlight",
   "metadata": {},
   "source": [
    "### Data used:\n",
    "- digit: size: (1797, 64)\n",
    "- wine: size: (178, 13)\n",
    "- breast-cancer: size: (569, 30)\n",
    "\n",
    "### Models used for each data set\n",
    "- Decision Tree\n",
    "- Random Forest\n",
    "- SVM\n",
    "- SGD Classifier\n",
    "- Logistic Regression\n"
   ]
  },
  {
   "cell_type": "markdown",
   "id": "german-gateway",
   "metadata": {},
   "source": [
    "### Import Modules"
   ]
  },
  {
   "cell_type": "code",
   "execution_count": 139,
   "id": "entire-corpus",
   "metadata": {},
   "outputs": [],
   "source": [
    "from sklearn.datasets import load_digits\n",
    "from sklearn.datasets import load_wine\n",
    "from sklearn.datasets import load_breast_cancer\n",
    "\n",
    "from sklearn.model_selection import train_test_split\n",
    "from sklearn.metrics import accuracy_score\n",
    "from sklearn.metrics import classification_report\n",
    "from sklearn.metrics import confusion_matrix\n",
    "\n",
    "from sklearn.preprocessing import MinMaxScaler\n",
    "\n",
    "from sklearn.tree import DecisionTreeClassifier\n",
    "from sklearn.ensemble import RandomForestClassifier\n",
    "from sklearn import svm\n",
    "from sklearn.linear_model import SGDClassifier\n",
    "from sklearn.linear_model import LogisticRegression\n",
    "\n",
    "import numpy as np"
   ]
  },
  {
   "cell_type": "markdown",
   "id": "distributed-recall",
   "metadata": {},
   "source": [
    "# DIGITS"
   ]
  },
  {
   "cell_type": "markdown",
   "id": "brief-salvation",
   "metadata": {},
   "source": [
    "### Load Data and generate regularized train&test data sets"
   ]
  },
  {
   "cell_type": "code",
   "execution_count": 140,
   "id": "auburn-former",
   "metadata": {},
   "outputs": [
    {
     "data": {
      "text/plain": [
       "dict_keys(['data', 'target', 'frame', 'feature_names', 'target_names', 'images', 'DESCR'])"
      ]
     },
     "execution_count": 140,
     "metadata": {},
     "output_type": "execute_result"
    }
   ],
   "source": [
    "digits_data = load_digits()\n",
    "digits_data.keys()"
   ]
  },
  {
   "cell_type": "code",
   "execution_count": 141,
   "id": "broadband-desktop",
   "metadata": {},
   "outputs": [],
   "source": [
    "data= digits_data['data']\n",
    "label= digits_data['target']"
   ]
  },
  {
   "cell_type": "code",
   "execution_count": 142,
   "id": "technological-fairy",
   "metadata": {},
   "outputs": [],
   "source": [
    "scaler= MinMaxScaler()\n",
    "scaled_data= scaler.fit_transform(data)"
   ]
  },
  {
   "cell_type": "code",
   "execution_count": 143,
   "id": "painful-terminal",
   "metadata": {},
   "outputs": [],
   "source": [
    "X_train, X_test, y_train, y_test = train_test_split(scaled_data, label, test_size=0.2, random_state= 32)"
   ]
  },
  {
   "cell_type": "markdown",
   "id": "permanent-teddy",
   "metadata": {},
   "source": [
    "## Training Model Comparisons"
   ]
  },
  {
   "cell_type": "markdown",
   "id": "blank-parallel",
   "metadata": {},
   "source": [
    "### Decision Tree"
   ]
  },
  {
   "cell_type": "code",
   "execution_count": 144,
   "id": "electrical-street",
   "metadata": {},
   "outputs": [],
   "source": [
    "decision_tree= DecisionTreeClassifier(random_state=32)\n",
    "decision_tree.fit(X_train, y_train)\n",
    "\n",
    "y_pred_dc= decision_tree.predict(X_test)\n",
    "\n",
    "accuracy_dc= accuracy_score(y_test, y_pred_dc)\n",
    "class_report_dc= classification_report(y_test, y_pred_dc)"
   ]
  },
  {
   "cell_type": "code",
   "execution_count": 128,
   "id": "celtic-eating",
   "metadata": {},
   "outputs": [
    {
     "name": "stdout",
     "output_type": "stream",
     "text": [
      "0.875 \n",
      "               precision    recall  f1-score   support\n",
      "\n",
      "           0       1.00      0.89      0.94        38\n",
      "           1       0.75      0.83      0.79        36\n",
      "           2       0.75      0.84      0.79        32\n",
      "           3       0.92      0.86      0.89        56\n",
      "           4       0.85      0.90      0.88        31\n",
      "           5       0.92      0.97      0.95        36\n",
      "           6       0.97      0.94      0.96        34\n",
      "           7       0.94      0.88      0.91        34\n",
      "           8       0.88      0.78      0.82        27\n",
      "           9       0.79      0.83      0.81        36\n",
      "\n",
      "    accuracy                           0.88       360\n",
      "   macro avg       0.88      0.87      0.87       360\n",
      "weighted avg       0.88      0.88      0.88       360\n",
      "\n"
     ]
    }
   ],
   "source": [
    "print(accuracy_dc, '\\n', class_report_dc) # raw data"
   ]
  },
  {
   "cell_type": "code",
   "execution_count": 9,
   "id": "durable-wireless",
   "metadata": {},
   "outputs": [
    {
     "name": "stdout",
     "output_type": "stream",
     "text": [
      "0.875 \n",
      "               precision    recall  f1-score   support\n",
      "\n",
      "           0       1.00      0.89      0.94        38\n",
      "           1       0.75      0.83      0.79        36\n",
      "           2       0.75      0.84      0.79        32\n",
      "           3       0.92      0.86      0.89        56\n",
      "           4       0.85      0.90      0.88        31\n",
      "           5       0.92      0.97      0.95        36\n",
      "           6       0.97      0.94      0.96        34\n",
      "           7       0.94      0.88      0.91        34\n",
      "           8       0.88      0.78      0.82        27\n",
      "           9       0.79      0.83      0.81        36\n",
      "\n",
      "    accuracy                           0.88       360\n",
      "   macro avg       0.88      0.87      0.87       360\n",
      "weighted avg       0.88      0.88      0.88       360\n",
      "\n"
     ]
    }
   ],
   "source": [
    "print(accuracy_dc, '\\n', class_report_dc) # scaled data"
   ]
  },
  {
   "cell_type": "markdown",
   "id": "impossible-parade",
   "metadata": {},
   "source": [
    "### Random Forest"
   ]
  },
  {
   "cell_type": "code",
   "execution_count": 145,
   "id": "broken-springer",
   "metadata": {},
   "outputs": [],
   "source": [
    "random_forest = RandomForestClassifier(random_state=32)\n",
    "random_forest.fit(X_train, y_train)\n",
    "\n",
    "y_pred_RFC= random_forest.predict(X_test)\n",
    "\n",
    "accuracy_RFC= accuracy_score(y_test, y_pred_RFC)\n",
    "class_report_RFC= classification_report(y_test, y_pred_RFC)"
   ]
  },
  {
   "cell_type": "code",
   "execution_count": 130,
   "id": "sonic-housing",
   "metadata": {
    "scrolled": true
   },
   "outputs": [
    {
     "name": "stdout",
     "output_type": "stream",
     "text": [
      "0.9861111111111112 \n",
      "               precision    recall  f1-score   support\n",
      "\n",
      "           0       1.00      1.00      1.00        38\n",
      "           1       0.97      1.00      0.99        36\n",
      "           2       0.97      1.00      0.98        32\n",
      "           3       1.00      1.00      1.00        56\n",
      "           4       1.00      0.97      0.98        31\n",
      "           5       1.00      0.97      0.99        36\n",
      "           6       1.00      1.00      1.00        34\n",
      "           7       0.97      1.00      0.99        34\n",
      "           8       0.96      0.89      0.92        27\n",
      "           9       0.97      1.00      0.99        36\n",
      "\n",
      "    accuracy                           0.99       360\n",
      "   macro avg       0.98      0.98      0.98       360\n",
      "weighted avg       0.99      0.99      0.99       360\n",
      "\n"
     ]
    }
   ],
   "source": [
    "print(accuracy_RFC, '\\n', class_report_RFC) ## raw data"
   ]
  },
  {
   "cell_type": "code",
   "execution_count": 12,
   "id": "pediatric-cologne",
   "metadata": {},
   "outputs": [
    {
     "name": "stdout",
     "output_type": "stream",
     "text": [
      "0.9861111111111112 \n",
      "               precision    recall  f1-score   support\n",
      "\n",
      "           0       1.00      1.00      1.00        38\n",
      "           1       0.97      1.00      0.99        36\n",
      "           2       0.97      1.00      0.98        32\n",
      "           3       1.00      1.00      1.00        56\n",
      "           4       1.00      0.97      0.98        31\n",
      "           5       1.00      0.97      0.99        36\n",
      "           6       1.00      1.00      1.00        34\n",
      "           7       0.97      1.00      0.99        34\n",
      "           8       0.96      0.89      0.92        27\n",
      "           9       0.97      1.00      0.99        36\n",
      "\n",
      "    accuracy                           0.99       360\n",
      "   macro avg       0.98      0.98      0.98       360\n",
      "weighted avg       0.99      0.99      0.99       360\n",
      "\n"
     ]
    }
   ],
   "source": [
    "print(accuracy_RFC, '\\n', class_report_RFC) ## scaled data"
   ]
  },
  {
   "cell_type": "markdown",
   "id": "loving-blogger",
   "metadata": {},
   "source": [
    "### SVM"
   ]
  },
  {
   "cell_type": "code",
   "execution_count": 146,
   "id": "future-scottish",
   "metadata": {},
   "outputs": [],
   "source": [
    "svm_model = svm.SVC(random_state=32)\n",
    "svm_model.fit(X_train, y_train)\n",
    "y_pred_sv = svm_model.predict(X_test)\n",
    "\n",
    "accuracy_sv= accuracy_score(y_test, y_pred_sv)\n",
    "class_report_sv= classification_report(y_test, y_pred_sv)"
   ]
  },
  {
   "cell_type": "code",
   "execution_count": 132,
   "id": "cheap-childhood",
   "metadata": {},
   "outputs": [
    {
     "name": "stdout",
     "output_type": "stream",
     "text": [
      "0.9944444444444445 \n",
      "               precision    recall  f1-score   support\n",
      "\n",
      "           0       1.00      1.00      1.00        38\n",
      "           1       1.00      1.00      1.00        36\n",
      "           2       1.00      1.00      1.00        32\n",
      "           3       1.00      1.00      1.00        56\n",
      "           4       1.00      0.97      0.98        31\n",
      "           5       1.00      0.97      0.99        36\n",
      "           6       1.00      1.00      1.00        34\n",
      "           7       1.00      1.00      1.00        34\n",
      "           8       1.00      1.00      1.00        27\n",
      "           9       0.95      1.00      0.97        36\n",
      "\n",
      "    accuracy                           0.99       360\n",
      "   macro avg       0.99      0.99      0.99       360\n",
      "weighted avg       0.99      0.99      0.99       360\n",
      "\n"
     ]
    }
   ],
   "source": [
    "print(accuracy_sv, '\\n', class_report_sv) ## raw data"
   ]
  },
  {
   "cell_type": "code",
   "execution_count": 15,
   "id": "green-estonia",
   "metadata": {
    "scrolled": true
   },
   "outputs": [
    {
     "name": "stdout",
     "output_type": "stream",
     "text": [
      "0.9944444444444445 \n",
      "               precision    recall  f1-score   support\n",
      "\n",
      "           0       1.00      1.00      1.00        38\n",
      "           1       1.00      1.00      1.00        36\n",
      "           2       1.00      1.00      1.00        32\n",
      "           3       1.00      1.00      1.00        56\n",
      "           4       1.00      0.97      0.98        31\n",
      "           5       1.00      0.97      0.99        36\n",
      "           6       1.00      1.00      1.00        34\n",
      "           7       1.00      1.00      1.00        34\n",
      "           8       1.00      1.00      1.00        27\n",
      "           9       0.95      1.00      0.97        36\n",
      "\n",
      "    accuracy                           0.99       360\n",
      "   macro avg       0.99      0.99      0.99       360\n",
      "weighted avg       0.99      0.99      0.99       360\n",
      "\n"
     ]
    }
   ],
   "source": [
    "print(accuracy_sv, '\\n', class_report_sv) ## scaled data"
   ]
  },
  {
   "cell_type": "markdown",
   "id": "crazy-neighborhood",
   "metadata": {},
   "source": [
    "### SGD Classifier"
   ]
  },
  {
   "cell_type": "code",
   "execution_count": 147,
   "id": "reduced-lexington",
   "metadata": {},
   "outputs": [],
   "source": [
    "sgd_model = SGDClassifier()\n",
    "sgd_model.fit(X_train, y_train)\n",
    "y_pred_sgd = sgd_model.predict(X_test)\n",
    "\n",
    "accuracy_sgd = accuracy_score(y_test, y_pred_sgd)\n",
    "class_report_sgd = classification_report(y_test, y_pred_sgd)"
   ]
  },
  {
   "cell_type": "code",
   "execution_count": 134,
   "id": "mechanical-breach",
   "metadata": {
    "scrolled": true
   },
   "outputs": [
    {
     "name": "stdout",
     "output_type": "stream",
     "text": [
      "0.9722222222222222 \n",
      "               precision    recall  f1-score   support\n",
      "\n",
      "           0       1.00      0.95      0.97        38\n",
      "           1       0.97      0.94      0.96        36\n",
      "           2       1.00      1.00      1.00        32\n",
      "           3       0.92      1.00      0.96        56\n",
      "           4       1.00      0.97      0.98        31\n",
      "           5       0.97      0.94      0.96        36\n",
      "           6       1.00      1.00      1.00        34\n",
      "           7       0.97      1.00      0.99        34\n",
      "           8       0.96      0.93      0.94        27\n",
      "           9       0.97      0.97      0.97        36\n",
      "\n",
      "    accuracy                           0.97       360\n",
      "   macro avg       0.98      0.97      0.97       360\n",
      "weighted avg       0.97      0.97      0.97       360\n",
      "\n"
     ]
    }
   ],
   "source": [
    "print(accuracy_sgd, '\\n', class_report_sgd) ## raw data"
   ]
  },
  {
   "cell_type": "code",
   "execution_count": 18,
   "id": "incorporated-december",
   "metadata": {
    "scrolled": true
   },
   "outputs": [
    {
     "name": "stdout",
     "output_type": "stream",
     "text": [
      "0.975 \n",
      "               precision    recall  f1-score   support\n",
      "\n",
      "           0       1.00      0.97      0.99        38\n",
      "           1       0.92      0.97      0.95        36\n",
      "           2       1.00      1.00      1.00        32\n",
      "           3       1.00      0.98      0.99        56\n",
      "           4       1.00      0.97      0.98        31\n",
      "           5       0.94      0.92      0.93        36\n",
      "           6       1.00      1.00      1.00        34\n",
      "           7       1.00      1.00      1.00        34\n",
      "           8       0.96      0.93      0.94        27\n",
      "           9       0.92      1.00      0.96        36\n",
      "\n",
      "    accuracy                           0.97       360\n",
      "   macro avg       0.97      0.97      0.97       360\n",
      "weighted avg       0.98      0.97      0.98       360\n",
      "\n"
     ]
    }
   ],
   "source": [
    "print(accuracy_sgd, '\\n', class_report_sgd) ## scaled data"
   ]
  },
  {
   "cell_type": "markdown",
   "id": "pressing-harris",
   "metadata": {},
   "source": [
    "### Logistic Regression"
   ]
  },
  {
   "cell_type": "code",
   "execution_count": 149,
   "id": "searching-coating",
   "metadata": {
    "scrolled": true
   },
   "outputs": [],
   "source": [
    "logistic_model = LogisticRegression(random_state=32, max_iter=200)\n",
    "logistic_model.fit(X_train, y_train)\n",
    "y_pred_lr = logistic_model.predict(X_test)\n",
    "\n",
    "accuracy_lr = accuracy_score(y_test, y_pred_lr)\n",
    "class_report_lr = classification_report(y_test, y_pred_lr)"
   ]
  },
  {
   "cell_type": "code",
   "execution_count": 150,
   "id": "consistent-alabama",
   "metadata": {},
   "outputs": [
    {
     "name": "stdout",
     "output_type": "stream",
     "text": [
      "{0, 1, 2, 3, 4, 5, 6, 7, 8, 9}\n",
      "{0, 1, 2, 3, 4, 5, 6, 7, 8, 9}\n"
     ]
    }
   ],
   "source": [
    "print(set(y_test))\n",
    "print(set(y_pred_lr))\n"
   ]
  },
  {
   "cell_type": "code",
   "execution_count": 137,
   "id": "final-favorite",
   "metadata": {},
   "outputs": [
    {
     "name": "stdout",
     "output_type": "stream",
     "text": [
      "0.9694444444444444 \n",
      "               precision    recall  f1-score   support\n",
      "\n",
      "           0       1.00      0.95      0.97        38\n",
      "           1       0.97      0.97      0.97        36\n",
      "           2       1.00      1.00      1.00        32\n",
      "           3       0.98      0.98      0.98        56\n",
      "           4       1.00      0.97      0.98        31\n",
      "           5       0.94      0.92      0.93        36\n",
      "           6       1.00      1.00      1.00        34\n",
      "           7       1.00      0.94      0.97        34\n",
      "           8       0.93      1.00      0.96        27\n",
      "           9       0.88      0.97      0.92        36\n",
      "\n",
      "    accuracy                           0.97       360\n",
      "   macro avg       0.97      0.97      0.97       360\n",
      "weighted avg       0.97      0.97      0.97       360\n",
      "\n"
     ]
    }
   ],
   "source": [
    "print(accuracy_lr, '\\n', class_report_lr) # raw data"
   ]
  },
  {
   "cell_type": "code",
   "execution_count": 22,
   "id": "indie-agent",
   "metadata": {},
   "outputs": [
    {
     "name": "stdout",
     "output_type": "stream",
     "text": [
      "0.9722222222222222 \n",
      "               precision    recall  f1-score   support\n",
      "\n",
      "           0       1.00      0.97      0.99        38\n",
      "           1       0.95      0.97      0.96        36\n",
      "           2       1.00      1.00      1.00        32\n",
      "           3       1.00      0.96      0.98        56\n",
      "           4       1.00      0.97      0.98        31\n",
      "           5       0.94      0.94      0.94        36\n",
      "           6       0.97      1.00      0.99        34\n",
      "           7       1.00      1.00      1.00        34\n",
      "           8       0.92      0.89      0.91        27\n",
      "           9       0.92      1.00      0.96        36\n",
      "\n",
      "    accuracy                           0.97       360\n",
      "   macro avg       0.97      0.97      0.97       360\n",
      "weighted avg       0.97      0.97      0.97       360\n",
      "\n"
     ]
    }
   ],
   "source": [
    "print(accuracy_lr, '\\n', class_report_lr) # scaled data"
   ]
  },
  {
   "cell_type": "code",
   "execution_count": 138,
   "id": "finished-class",
   "metadata": {
    "scrolled": false
   },
   "outputs": [
    {
     "name": "stdout",
     "output_type": "stream",
     "text": [
      "with RAW data\n",
      "0.875\n",
      "0.9861111111111112\n",
      "0.9944444444444445\n",
      "0.9722222222222222\n",
      "0.9694444444444444\n"
     ]
    }
   ],
   "source": [
    "print('with RAW data', accuracy_dc, accuracy_RFC, accuracy_sv, accuracy_sgd, accuracy_lr, sep='\\n')"
   ]
  },
  {
   "cell_type": "code",
   "execution_count": 151,
   "id": "interim-haiti",
   "metadata": {
    "scrolled": false
   },
   "outputs": [
    {
     "name": "stdout",
     "output_type": "stream",
     "text": [
      "with SCALED data\n",
      "0.875\n",
      "0.9861111111111112\n",
      "0.9944444444444445\n",
      "0.9666666666666667\n",
      "0.9722222222222222\n"
     ]
    }
   ],
   "source": [
    "print('with SCALED data', accuracy_dc, accuracy_RFC, accuracy_sv, accuracy_sgd, accuracy_lr, sep='\\n')"
   ]
  },
  {
   "cell_type": "markdown",
   "id": "fresh-package",
   "metadata": {},
   "source": [
    "# WINE"
   ]
  },
  {
   "cell_type": "markdown",
   "id": "dramatic-kelly",
   "metadata": {},
   "source": [
    "### Load Data and generate regularized train&test data sets"
   ]
  },
  {
   "cell_type": "code",
   "execution_count": 152,
   "id": "miniature-forest",
   "metadata": {},
   "outputs": [],
   "source": [
    "wine_data= load_wine()\n",
    "data= wine_data['data']\n",
    "label= wine_data['target']\n",
    "#print(wine_data.target_names, wine_data['DESCR'], sep='\\n\\n')"
   ]
  },
  {
   "cell_type": "code",
   "execution_count": 153,
   "id": "still-northeast",
   "metadata": {},
   "outputs": [
    {
     "data": {
      "text/plain": [
       "(178, 13)"
      ]
     },
     "execution_count": 153,
     "metadata": {},
     "output_type": "execute_result"
    }
   ],
   "source": [
    "data.shape"
   ]
  },
  {
   "cell_type": "code",
   "execution_count": 154,
   "id": "constant-surgery",
   "metadata": {},
   "outputs": [
    {
     "data": {
      "text/plain": [
       "dict_keys(['data', 'target', 'frame', 'target_names', 'DESCR', 'feature_names'])"
      ]
     },
     "execution_count": 154,
     "metadata": {},
     "output_type": "execute_result"
    }
   ],
   "source": [
    "wine_data.keys()"
   ]
  },
  {
   "cell_type": "code",
   "execution_count": 155,
   "id": "czech-newcastle",
   "metadata": {},
   "outputs": [
    {
     "data": {
      "text/plain": [
       "['alcohol',\n",
       " 'malic_acid',\n",
       " 'ash',\n",
       " 'alcalinity_of_ash',\n",
       " 'magnesium',\n",
       " 'total_phenols',\n",
       " 'flavanoids',\n",
       " 'nonflavanoid_phenols',\n",
       " 'proanthocyanins',\n",
       " 'color_intensity',\n",
       " 'hue',\n",
       " 'od280/od315_of_diluted_wines',\n",
       " 'proline']"
      ]
     },
     "execution_count": 155,
     "metadata": {},
     "output_type": "execute_result"
    }
   ],
   "source": [
    "wine_data['feature_names']"
   ]
  },
  {
   "cell_type": "markdown",
   "id": "retained-momentum",
   "metadata": {},
   "source": [
    "#### MIN MAX Scaling"
   ]
  },
  {
   "cell_type": "code",
   "execution_count": 156,
   "id": "naval-yorkshire",
   "metadata": {},
   "outputs": [],
   "source": [
    "scaler= MinMaxScaler()\n",
    "\n",
    "scaled_data= scaler.fit_transform(data)"
   ]
  },
  {
   "cell_type": "code",
   "execution_count": 157,
   "id": "perfect-qatar",
   "metadata": {},
   "outputs": [],
   "source": [
    "X_train, X_test, y_train, y_test = train_test_split(scaled_data, label, test_size=0.2, random_state= 32)"
   ]
  },
  {
   "cell_type": "markdown",
   "id": "ceramic-municipality",
   "metadata": {},
   "source": [
    "## Training Model Comparisons"
   ]
  },
  {
   "cell_type": "markdown",
   "id": "european-military",
   "metadata": {},
   "source": [
    "### Decision Tree 사용하기"
   ]
  },
  {
   "cell_type": "code",
   "execution_count": 158,
   "id": "streaming-beginning",
   "metadata": {},
   "outputs": [],
   "source": [
    "decision_tree= DecisionTreeClassifier(random_state=32)\n",
    "decision_tree.fit(X_train, y_train)\n",
    "\n",
    "y_pred_dc= decision_tree.predict(X_test)\n",
    "\n",
    "accuracy_dc= accuracy_score(y_test, y_pred_dc)\n",
    "class_report_dc= classification_report(y_test, y_pred_dc)"
   ]
  },
  {
   "cell_type": "code",
   "execution_count": 93,
   "id": "unsigned-energy",
   "metadata": {
    "scrolled": true
   },
   "outputs": [
    {
     "name": "stdout",
     "output_type": "stream",
     "text": [
      "0.9166666666666666 \n",
      "               precision    recall  f1-score   support\n",
      "\n",
      "           0       0.94      1.00      0.97        16\n",
      "           1       0.89      0.80      0.84        10\n",
      "           2       0.90      0.90      0.90        10\n",
      "\n",
      "    accuracy                           0.92        36\n",
      "   macro avg       0.91      0.90      0.90        36\n",
      "weighted avg       0.92      0.92      0.91        36\n",
      "\n"
     ]
    }
   ],
   "source": [
    "print(accuracy_dc, '\\n', class_report_dc) # raw data"
   ]
  },
  {
   "cell_type": "code",
   "execution_count": 33,
   "id": "large-albert",
   "metadata": {
    "scrolled": true
   },
   "outputs": [
    {
     "name": "stdout",
     "output_type": "stream",
     "text": [
      "0.9166666666666666 \n",
      "               precision    recall  f1-score   support\n",
      "\n",
      "           0       0.94      1.00      0.97        16\n",
      "           1       0.89      0.80      0.84        10\n",
      "           2       0.90      0.90      0.90        10\n",
      "\n",
      "    accuracy                           0.92        36\n",
      "   macro avg       0.91      0.90      0.90        36\n",
      "weighted avg       0.92      0.92      0.91        36\n",
      "\n"
     ]
    }
   ],
   "source": [
    "print(accuracy_dc, '\\n', class_report_dc) # scaled data"
   ]
  },
  {
   "cell_type": "markdown",
   "id": "forward-causing",
   "metadata": {},
   "source": [
    "### Random Forest 사용하기"
   ]
  },
  {
   "cell_type": "code",
   "execution_count": 159,
   "id": "lovely-logistics",
   "metadata": {},
   "outputs": [],
   "source": [
    "random_forest = RandomForestClassifier(random_state=32)\n",
    "random_forest.fit(X_train, y_train)\n",
    "\n",
    "y_pred_RFC= random_forest.predict(X_test)\n",
    "\n",
    "accuracy_RFC= accuracy_score(y_test, y_pred_RFC)\n",
    "class_report_RFC= classification_report(y_test, y_pred_RFC)"
   ]
  },
  {
   "cell_type": "code",
   "execution_count": 95,
   "id": "broken-daisy",
   "metadata": {
    "scrolled": true
   },
   "outputs": [
    {
     "name": "stdout",
     "output_type": "stream",
     "text": [
      "0.9722222222222222 \n",
      "               precision    recall  f1-score   support\n",
      "\n",
      "           0       1.00      1.00      1.00        16\n",
      "           1       1.00      0.90      0.95        10\n",
      "           2       0.91      1.00      0.95        10\n",
      "\n",
      "    accuracy                           0.97        36\n",
      "   macro avg       0.97      0.97      0.97        36\n",
      "weighted avg       0.97      0.97      0.97        36\n",
      "\n"
     ]
    }
   ],
   "source": [
    "print(accuracy_RFC, '\\n', class_report_RFC) ## raw data"
   ]
  },
  {
   "cell_type": "code",
   "execution_count": 36,
   "id": "moved-mineral",
   "metadata": {
    "scrolled": true
   },
   "outputs": [
    {
     "name": "stdout",
     "output_type": "stream",
     "text": [
      "0.9722222222222222 \n",
      "               precision    recall  f1-score   support\n",
      "\n",
      "           0       1.00      1.00      1.00        16\n",
      "           1       1.00      0.90      0.95        10\n",
      "           2       0.91      1.00      0.95        10\n",
      "\n",
      "    accuracy                           0.97        36\n",
      "   macro avg       0.97      0.97      0.97        36\n",
      "weighted avg       0.97      0.97      0.97        36\n",
      "\n"
     ]
    }
   ],
   "source": [
    "print(accuracy_RFC, '\\n', class_report_RFC) ## scaled data"
   ]
  },
  {
   "cell_type": "markdown",
   "id": "fantastic-mystery",
   "metadata": {},
   "source": [
    "### SVM 사용해 보기"
   ]
  },
  {
   "cell_type": "code",
   "execution_count": 160,
   "id": "defined-gregory",
   "metadata": {},
   "outputs": [],
   "source": [
    "svm_model = svm.SVC(random_state=32)\n",
    "svm_model.fit(X_train, y_train)\n",
    "y_pred_sv = svm_model.predict(X_test)"
   ]
  },
  {
   "cell_type": "code",
   "execution_count": 161,
   "id": "ideal-generator",
   "metadata": {},
   "outputs": [],
   "source": [
    "accuracy_sv= accuracy_score(y_test, y_pred_sv)\n",
    "class_report_sv= classification_report(y_test, y_pred_sv)"
   ]
  },
  {
   "cell_type": "code",
   "execution_count": 98,
   "id": "retired-horror",
   "metadata": {},
   "outputs": [
    {
     "name": "stdout",
     "output_type": "stream",
     "text": [
      "0.6111111111111112 \n",
      "               precision    recall  f1-score   support\n",
      "\n",
      "           0       0.93      0.81      0.87        16\n",
      "           1       0.41      0.90      0.56        10\n",
      "           2       0.00      0.00      0.00        10\n",
      "\n",
      "    accuracy                           0.61        36\n",
      "   macro avg       0.45      0.57      0.48        36\n",
      "weighted avg       0.53      0.61      0.54        36\n",
      "\n"
     ]
    }
   ],
   "source": [
    "print(accuracy_sv, '\\n', class_report_sv) ## raw data"
   ]
  },
  {
   "cell_type": "code",
   "execution_count": 40,
   "id": "structured-musical",
   "metadata": {},
   "outputs": [
    {
     "name": "stdout",
     "output_type": "stream",
     "text": [
      "0.9444444444444444 \n",
      "               precision    recall  f1-score   support\n",
      "\n",
      "           0       1.00      1.00      1.00        16\n",
      "           1       0.90      0.90      0.90        10\n",
      "           2       0.90      0.90      0.90        10\n",
      "\n",
      "    accuracy                           0.94        36\n",
      "   macro avg       0.93      0.93      0.93        36\n",
      "weighted avg       0.94      0.94      0.94        36\n",
      "\n"
     ]
    }
   ],
   "source": [
    "print(accuracy_sv, '\\n', class_report_sv) ## scaled data"
   ]
  },
  {
   "cell_type": "markdown",
   "id": "loved-technician",
   "metadata": {},
   "source": [
    "### SGD Classifier 사용해 보기"
   ]
  },
  {
   "cell_type": "code",
   "execution_count": 162,
   "id": "flexible-entity",
   "metadata": {},
   "outputs": [],
   "source": [
    "sgd_model = SGDClassifier()\n",
    "sgd_model.fit(X_train, y_train)\n",
    "y_pred_sgd = sgd_model.predict(X_test)\n",
    "\n",
    "accuracy_sgd = accuracy_score(y_test, y_pred_sgd)\n",
    "class_report_sgd = classification_report(y_test, y_pred_sgd)"
   ]
  },
  {
   "cell_type": "code",
   "execution_count": 100,
   "id": "instant-mistress",
   "metadata": {},
   "outputs": [
    {
     "name": "stdout",
     "output_type": "stream",
     "text": [
      "0.6111111111111112 \n",
      "               precision    recall  f1-score   support\n",
      "\n",
      "           0       0.92      0.75      0.83        16\n",
      "           1       0.43      1.00      0.61        10\n",
      "           2       0.00      0.00      0.00        10\n",
      "\n",
      "    accuracy                           0.61        36\n",
      "   macro avg       0.45      0.58      0.48        36\n",
      "weighted avg       0.53      0.61      0.54        36\n",
      "\n"
     ]
    }
   ],
   "source": [
    "print(accuracy_sgd, '\\n', class_report_sgd) ## raw data"
   ]
  },
  {
   "cell_type": "code",
   "execution_count": 43,
   "id": "central-console",
   "metadata": {},
   "outputs": [
    {
     "name": "stdout",
     "output_type": "stream",
     "text": [
      "0.9722222222222222 \n",
      "               precision    recall  f1-score   support\n",
      "\n",
      "           0       1.00      1.00      1.00        16\n",
      "           1       0.91      1.00      0.95        10\n",
      "           2       1.00      0.90      0.95        10\n",
      "\n",
      "    accuracy                           0.97        36\n",
      "   macro avg       0.97      0.97      0.97        36\n",
      "weighted avg       0.97      0.97      0.97        36\n",
      "\n"
     ]
    }
   ],
   "source": [
    "print(accuracy_sgd, '\\n', class_report_sgd) ## scaled data"
   ]
  },
  {
   "cell_type": "markdown",
   "id": "individual-treat",
   "metadata": {},
   "source": [
    "### Logistic Regression 사용해 보기"
   ]
  },
  {
   "cell_type": "code",
   "execution_count": 163,
   "id": "italian-actress",
   "metadata": {},
   "outputs": [],
   "source": [
    "logistic_model = LogisticRegression(random_state=32, max_iter=100)\n",
    "logistic_model.fit(X_train, y_train)\n",
    "y_pred_lr = logistic_model.predict(X_test)\n",
    "\n",
    "accuracy_lr = accuracy_score(y_test, y_pred_lr)\n",
    "class_report_lr = classification_report(y_test, y_pred_lr)\n",
    "\n",
    "# log_model = LogisticRegression(solver='lbfgs', max_iter=1000)"
   ]
  },
  {
   "cell_type": "code",
   "execution_count": 102,
   "id": "decreased-thanksgiving",
   "metadata": {},
   "outputs": [
    {
     "name": "stdout",
     "output_type": "stream",
     "text": [
      "{0, 1, 2}\n",
      "{0, 1, 2}\n"
     ]
    }
   ],
   "source": [
    "print(set(y_test))\n",
    "print(set(y_pred_lr))"
   ]
  },
  {
   "cell_type": "code",
   "execution_count": 103,
   "id": "meaning-formula",
   "metadata": {
    "scrolled": true
   },
   "outputs": [
    {
     "name": "stdout",
     "output_type": "stream",
     "text": [
      "0.9166666666666666 \n",
      "               precision    recall  f1-score   support\n",
      "\n",
      "           0       0.94      1.00      0.97        16\n",
      "           1       0.89      0.80      0.84        10\n",
      "           2       0.90      0.90      0.90        10\n",
      "\n",
      "    accuracy                           0.92        36\n",
      "   macro avg       0.91      0.90      0.90        36\n",
      "weighted avg       0.92      0.92      0.91        36\n",
      "\n"
     ]
    }
   ],
   "source": [
    "print(accuracy_lr, '\\n', class_report_lr) # raw data"
   ]
  },
  {
   "cell_type": "code",
   "execution_count": 164,
   "id": "fitting-greene",
   "metadata": {
    "scrolled": true
   },
   "outputs": [
    {
     "name": "stdout",
     "output_type": "stream",
     "text": [
      "0.9722222222222222 \n",
      "               precision    recall  f1-score   support\n",
      "\n",
      "           0       1.00      1.00      1.00        16\n",
      "           1       1.00      0.90      0.95        10\n",
      "           2       0.91      1.00      0.95        10\n",
      "\n",
      "    accuracy                           0.97        36\n",
      "   macro avg       0.97      0.97      0.97        36\n",
      "weighted avg       0.97      0.97      0.97        36\n",
      "\n"
     ]
    }
   ],
   "source": [
    "print(accuracy_lr, '\\n', class_report_lr) # scaled data"
   ]
  },
  {
   "cell_type": "code",
   "execution_count": 104,
   "id": "loaded-stuff",
   "metadata": {
    "scrolled": true
   },
   "outputs": [
    {
     "name": "stdout",
     "output_type": "stream",
     "text": [
      "with RAW data\n",
      "0.9166666666666666\n",
      "0.9722222222222222\n",
      "0.6111111111111112\n",
      "0.6111111111111112\n",
      "0.9166666666666666\n"
     ]
    }
   ],
   "source": [
    "print('with RAW data', accuracy_dc, accuracy_RFC, accuracy_sv, accuracy_sgd, accuracy_lr, sep='\\n')"
   ]
  },
  {
   "cell_type": "code",
   "execution_count": 165,
   "id": "related-intro",
   "metadata": {
    "scrolled": true
   },
   "outputs": [
    {
     "name": "stdout",
     "output_type": "stream",
     "text": [
      "with SCALED data\n",
      "0.9166666666666666\n",
      "0.9722222222222222\n",
      "0.9444444444444444\n",
      "0.9444444444444444\n",
      "0.9722222222222222\n",
      "\n"
     ]
    }
   ],
   "source": [
    "print('with SCALED data', accuracy_dc, accuracy_RFC, accuracy_sv, accuracy_sgd, accuracy_lr, sep='\\n', end='\\n\\n')"
   ]
  },
  {
   "cell_type": "markdown",
   "id": "elementary-aberdeen",
   "metadata": {},
   "source": [
    "# BREAST CANCER"
   ]
  },
  {
   "cell_type": "markdown",
   "id": "appropriate-wallace",
   "metadata": {},
   "source": [
    "### Load Data and generate regularized train&test data sets"
   ]
  },
  {
   "cell_type": "code",
   "execution_count": 166,
   "id": "exposed-accounting",
   "metadata": {},
   "outputs": [
    {
     "data": {
      "text/plain": [
       "dict_keys(['data', 'target', 'frame', 'target_names', 'DESCR', 'feature_names', 'filename'])"
      ]
     },
     "execution_count": 166,
     "metadata": {},
     "output_type": "execute_result"
    }
   ],
   "source": [
    "bc_data= load_breast_cancer()\n",
    "bc_data.keys()"
   ]
  },
  {
   "cell_type": "code",
   "execution_count": 167,
   "id": "sought-bridge",
   "metadata": {},
   "outputs": [],
   "source": [
    "data= bc_data['data']\n",
    "label= bc_data['target']"
   ]
  },
  {
   "cell_type": "code",
   "execution_count": 168,
   "id": "statutory-swift",
   "metadata": {},
   "outputs": [
    {
     "data": {
      "text/plain": [
       "array(['mean radius', 'mean texture', 'mean perimeter', 'mean area',\n",
       "       'mean smoothness', 'mean compactness', 'mean concavity',\n",
       "       'mean concave points', 'mean symmetry', 'mean fractal dimension',\n",
       "       'radius error', 'texture error', 'perimeter error', 'area error',\n",
       "       'smoothness error', 'compactness error', 'concavity error',\n",
       "       'concave points error', 'symmetry error',\n",
       "       'fractal dimension error', 'worst radius', 'worst texture',\n",
       "       'worst perimeter', 'worst area', 'worst smoothness',\n",
       "       'worst compactness', 'worst concavity', 'worst concave points',\n",
       "       'worst symmetry', 'worst fractal dimension'], dtype='<U23')"
      ]
     },
     "execution_count": 168,
     "metadata": {},
     "output_type": "execute_result"
    }
   ],
   "source": [
    "bc_data['feature_names']"
   ]
  },
  {
   "cell_type": "code",
   "execution_count": 169,
   "id": "liked-marijuana",
   "metadata": {},
   "outputs": [],
   "source": [
    "scaler= MinMaxScaler()\n",
    "\n",
    "scaled_data= scaler.fit_transform(data)"
   ]
  },
  {
   "cell_type": "code",
   "execution_count": 170,
   "id": "worst-controversy",
   "metadata": {},
   "outputs": [],
   "source": [
    "X_train, X_test, y_train, y_test = train_test_split(scaled_data, label, test_size=0.2, random_state= 32)"
   ]
  },
  {
   "cell_type": "markdown",
   "id": "exposed-syria",
   "metadata": {},
   "source": [
    "### Decision Tree 사용하기"
   ]
  },
  {
   "cell_type": "code",
   "execution_count": 171,
   "id": "parliamentary-region",
   "metadata": {},
   "outputs": [],
   "source": [
    "decision_tree= DecisionTreeClassifier(random_state=32)\n",
    "decision_tree.fit(X_train, y_train)\n",
    "\n",
    "y_pred_dc= decision_tree.predict(X_test)\n",
    "\n",
    "accuracy_dc= accuracy_score(y_test, y_pred_dc)\n",
    "class_report_dc= classification_report(y_test, y_pred_dc)"
   ]
  },
  {
   "cell_type": "code",
   "execution_count": 111,
   "id": "pressed-underground",
   "metadata": {},
   "outputs": [
    {
     "name": "stdout",
     "output_type": "stream",
     "text": [
      "0.8771929824561403 \n",
      "               precision    recall  f1-score   support\n",
      "\n",
      "           0       0.84      0.84      0.84        44\n",
      "           1       0.90      0.90      0.90        70\n",
      "\n",
      "    accuracy                           0.88       114\n",
      "   macro avg       0.87      0.87      0.87       114\n",
      "weighted avg       0.88      0.88      0.88       114\n",
      "\n"
     ]
    }
   ],
   "source": [
    "print(accuracy_dc, '\\n', class_report_dc) # raw data"
   ]
  },
  {
   "cell_type": "code",
   "execution_count": 57,
   "id": "constant-scottish",
   "metadata": {},
   "outputs": [
    {
     "name": "stdout",
     "output_type": "stream",
     "text": [
      "0.8771929824561403 \n",
      "               precision    recall  f1-score   support\n",
      "\n",
      "           0       0.84      0.84      0.84        44\n",
      "           1       0.90      0.90      0.90        70\n",
      "\n",
      "    accuracy                           0.88       114\n",
      "   macro avg       0.87      0.87      0.87       114\n",
      "weighted avg       0.88      0.88      0.88       114\n",
      "\n"
     ]
    }
   ],
   "source": [
    "print(accuracy_dc, '\\n', class_report_dc) # scaled data"
   ]
  },
  {
   "cell_type": "markdown",
   "id": "returning-television",
   "metadata": {},
   "source": [
    "### Random Forest 사용하기"
   ]
  },
  {
   "cell_type": "code",
   "execution_count": 172,
   "id": "charming-surge",
   "metadata": {},
   "outputs": [],
   "source": [
    "random_forest = RandomForestClassifier(random_state=32)\n",
    "random_forest.fit(X_train, y_train)\n",
    "\n",
    "y_pred_RFC= random_forest.predict(X_test)\n",
    "\n",
    "accuracy_RFC= accuracy_score(y_test, y_pred_RFC)\n",
    "class_report_RFC= classification_report(y_test, y_pred_RFC)"
   ]
  },
  {
   "cell_type": "code",
   "execution_count": 113,
   "id": "entitled-virgin",
   "metadata": {
    "scrolled": true
   },
   "outputs": [
    {
     "name": "stdout",
     "output_type": "stream",
     "text": [
      "0.9385964912280702 \n",
      "               precision    recall  f1-score   support\n",
      "\n",
      "           0       0.91      0.93      0.92        44\n",
      "           1       0.96      0.94      0.95        70\n",
      "\n",
      "    accuracy                           0.94       114\n",
      "   macro avg       0.93      0.94      0.94       114\n",
      "weighted avg       0.94      0.94      0.94       114\n",
      "\n"
     ]
    }
   ],
   "source": [
    "print(accuracy_RFC, '\\n', class_report_RFC) ## raw data"
   ]
  },
  {
   "cell_type": "code",
   "execution_count": 60,
   "id": "appropriate-tunisia",
   "metadata": {
    "scrolled": true
   },
   "outputs": [
    {
     "name": "stdout",
     "output_type": "stream",
     "text": [
      "0.9385964912280702 \n",
      "               precision    recall  f1-score   support\n",
      "\n",
      "           0       0.91      0.93      0.92        44\n",
      "           1       0.96      0.94      0.95        70\n",
      "\n",
      "    accuracy                           0.94       114\n",
      "   macro avg       0.93      0.94      0.94       114\n",
      "weighted avg       0.94      0.94      0.94       114\n",
      "\n"
     ]
    }
   ],
   "source": [
    "print(accuracy_RFC, '\\n', class_report_RFC) ## scaled data"
   ]
  },
  {
   "cell_type": "markdown",
   "id": "romance-browse",
   "metadata": {},
   "source": [
    "### SVM 사용해 보기"
   ]
  },
  {
   "cell_type": "code",
   "execution_count": 173,
   "id": "occupied-blocking",
   "metadata": {},
   "outputs": [],
   "source": [
    "svm_model = svm.SVC(random_state=32)\n",
    "svm_model.fit(X_train, y_train)\n",
    "y_pred_sv = svm_model.predict(X_test)\n",
    "\n",
    "accuracy_sv= accuracy_score(y_test, y_pred_sv)\n",
    "class_report_sv= classification_report(y_test, y_pred_sv)"
   ]
  },
  {
   "cell_type": "code",
   "execution_count": 115,
   "id": "civic-hands",
   "metadata": {},
   "outputs": [
    {
     "name": "stdout",
     "output_type": "stream",
     "text": [
      "0.868421052631579 \n",
      "               precision    recall  f1-score   support\n",
      "\n",
      "           0       0.91      0.73      0.81        44\n",
      "           1       0.85      0.96      0.90        70\n",
      "\n",
      "    accuracy                           0.87       114\n",
      "   macro avg       0.88      0.84      0.85       114\n",
      "weighted avg       0.87      0.87      0.86       114\n",
      "\n"
     ]
    }
   ],
   "source": [
    "print(accuracy_sv, '\\n', class_report_sv) ## raw data"
   ]
  },
  {
   "cell_type": "code",
   "execution_count": 63,
   "id": "parallel-musician",
   "metadata": {},
   "outputs": [
    {
     "name": "stdout",
     "output_type": "stream",
     "text": [
      "0.9912280701754386 \n",
      "               precision    recall  f1-score   support\n",
      "\n",
      "           0       1.00      0.98      0.99        44\n",
      "           1       0.99      1.00      0.99        70\n",
      "\n",
      "    accuracy                           0.99       114\n",
      "   macro avg       0.99      0.99      0.99       114\n",
      "weighted avg       0.99      0.99      0.99       114\n",
      "\n"
     ]
    }
   ],
   "source": [
    "print(accuracy_sv, '\\n', class_report_sv) ## scaled data"
   ]
  },
  {
   "cell_type": "markdown",
   "id": "local-vegetable",
   "metadata": {},
   "source": [
    "### SGD Classifier 사용해 보기"
   ]
  },
  {
   "cell_type": "code",
   "execution_count": 174,
   "id": "united-colonial",
   "metadata": {},
   "outputs": [],
   "source": [
    "sgd_model = SGDClassifier()\n",
    "sgd_model.fit(X_train, y_train)\n",
    "y_pred_sgd = sgd_model.predict(X_test)\n",
    "\n",
    "accuracy_sgd = accuracy_score(y_test, y_pred_sgd)\n",
    "class_report_sgd = classification_report(y_test, y_pred_sgd)"
   ]
  },
  {
   "cell_type": "code",
   "execution_count": 118,
   "id": "usual-lecture",
   "metadata": {
    "scrolled": true
   },
   "outputs": [
    {
     "name": "stdout",
     "output_type": "stream",
     "text": [
      "0.8859649122807017 \n",
      "               precision    recall  f1-score   support\n",
      "\n",
      "           0       0.94      0.75      0.84        44\n",
      "           1       0.86      0.97      0.91        70\n",
      "\n",
      "    accuracy                           0.89       114\n",
      "   macro avg       0.90      0.86      0.87       114\n",
      "weighted avg       0.89      0.89      0.88       114\n",
      "\n"
     ]
    }
   ],
   "source": [
    "print(accuracy_sgd, '\\n', class_report_sgd) ## raw data"
   ]
  },
  {
   "cell_type": "code",
   "execution_count": 66,
   "id": "charged-register",
   "metadata": {
    "scrolled": true
   },
   "outputs": [
    {
     "name": "stdout",
     "output_type": "stream",
     "text": [
      "0.9912280701754386 \n",
      "               precision    recall  f1-score   support\n",
      "\n",
      "           0       1.00      0.98      0.99        44\n",
      "           1       0.99      1.00      0.99        70\n",
      "\n",
      "    accuracy                           0.99       114\n",
      "   macro avg       0.99      0.99      0.99       114\n",
      "weighted avg       0.99      0.99      0.99       114\n",
      "\n"
     ]
    }
   ],
   "source": [
    "print(accuracy_sgd, '\\n', class_report_sgd) ## scaled data"
   ]
  },
  {
   "cell_type": "markdown",
   "id": "latin-telling",
   "metadata": {},
   "source": [
    "### Logistic Regression 사용해 보기"
   ]
  },
  {
   "cell_type": "code",
   "execution_count": 175,
   "id": "cooperative-stuff",
   "metadata": {},
   "outputs": [],
   "source": [
    "logistic_model = LogisticRegression(random_state=32, max_iter=100)\n",
    "logistic_model.fit(X_train, y_train)\n",
    "y_pred_lr = logistic_model.predict(X_test)\n",
    "\n",
    "accuracy_lr = accuracy_score(y_test, y_pred_lr)\n",
    "class_report_lr = classification_report(y_test, y_pred_lr)\n",
    "\n",
    "\n",
    "\n",
    "# log_model = LogisticRegression(solver='lbfgs', max_iter=1000)"
   ]
  },
  {
   "cell_type": "code",
   "execution_count": 176,
   "id": "legislative-louis",
   "metadata": {},
   "outputs": [
    {
     "name": "stdout",
     "output_type": "stream",
     "text": [
      "{0, 1}\n",
      "{0, 1}\n"
     ]
    }
   ],
   "source": [
    "print(set(y_test))\n",
    "print(set(y_pred_lr))\n"
   ]
  },
  {
   "cell_type": "code",
   "execution_count": 121,
   "id": "crude-verification",
   "metadata": {
    "scrolled": true
   },
   "outputs": [
    {
     "name": "stdout",
     "output_type": "stream",
     "text": [
      "0.9122807017543859 \n",
      "               precision    recall  f1-score   support\n",
      "\n",
      "           0       0.89      0.89      0.89        44\n",
      "           1       0.93      0.93      0.93        70\n",
      "\n",
      "    accuracy                           0.91       114\n",
      "   macro avg       0.91      0.91      0.91       114\n",
      "weighted avg       0.91      0.91      0.91       114\n",
      "\n"
     ]
    }
   ],
   "source": [
    "print(accuracy_lr, '\\n', class_report_lr) # raw data"
   ]
  },
  {
   "cell_type": "code",
   "execution_count": 70,
   "id": "arabic-monitoring",
   "metadata": {
    "scrolled": true
   },
   "outputs": [
    {
     "name": "stdout",
     "output_type": "stream",
     "text": [
      "0.9649122807017544 \n",
      "               precision    recall  f1-score   support\n",
      "\n",
      "           0       0.98      0.93      0.95        44\n",
      "           1       0.96      0.99      0.97        70\n",
      "\n",
      "    accuracy                           0.96       114\n",
      "   macro avg       0.97      0.96      0.96       114\n",
      "weighted avg       0.97      0.96      0.96       114\n",
      "\n"
     ]
    }
   ],
   "source": [
    "print(accuracy_lr, '\\n', class_report_lr) # scaled data"
   ]
  },
  {
   "cell_type": "code",
   "execution_count": 122,
   "id": "speaking-rental",
   "metadata": {},
   "outputs": [
    {
     "name": "stdout",
     "output_type": "stream",
     "text": [
      "with RAW data\n",
      "0.8771929824561403\n",
      "0.9385964912280702\n",
      "0.868421052631579\n",
      "0.8859649122807017\n",
      "0.9122807017543859\n"
     ]
    }
   ],
   "source": [
    "print('with RAW data', accuracy_dc, accuracy_RFC, accuracy_sv, accuracy_sgd, accuracy_lr, sep='\\n')"
   ]
  },
  {
   "cell_type": "code",
   "execution_count": 177,
   "id": "potential-animation",
   "metadata": {
    "scrolled": false
   },
   "outputs": [
    {
     "name": "stdout",
     "output_type": "stream",
     "text": [
      "with SCALED data\n",
      "0.8771929824561403\n",
      "0.9385964912280702\n",
      "0.9912280701754386\n",
      "0.9736842105263158\n",
      "0.9649122807017544\n",
      "\n"
     ]
    }
   ],
   "source": [
    "print('with SCALED data', accuracy_dc, accuracy_RFC, accuracy_sv, accuracy_sgd, accuracy_lr, sep='\\n', end='\\n\\n')"
   ]
  },
  {
   "cell_type": "markdown",
   "id": "minimal-captain",
   "metadata": {},
   "source": [
    "## 회고\n",
    "#### 데이터의 사용\n",
    "- 각 데이터는 train 80%, test 20% 로 나누어 진행 하였다.\n",
    "- 각 데이터는 MinMaxScaler() 를 사용, regularization을 하여 사용하였다.\n",
    "- 각 데이터의 scaling 이 안된 raw 데이터로 학습한 결과물을 함께 비교하였다\n",
    "- SVM 과 logistic regression 모델에서 raw data를 사용하였을 때 warning 이 발생하였으며, 그 과정은 아래 warning 항목에 설명하였다. "
   ]
  },
  {
   "cell_type": "markdown",
   "id": "understood-boutique",
   "metadata": {},
   "source": [
    "### 1) Digit 데이터:\n",
    "#### DIGIT Accuracy\n",
    "| MODEL                 \t|  raw data  \t| scaled data \t|\n",
    "|:-----------------------\t|:----------:\t|:-----------:\t|\n",
    "| Decision Tree         \t|    0.875   \t|    0.875    \t|\n",
    "| Random Forest         \t| 0.98611111 \t| 0.986111111 \t|\n",
    "| SVM                   \t| 0.99444444 \t| 0.994444444 \t|\n",
    "| SGD Classifier        \t| 0.97222222 \t|    0.975    \t|\n",
    "| Logistic   Regression \t| 0.96944444 \t| 0.972222222 \t|\n",
    "\n",
    "#### DIGIT Precision\n",
    "| MODEL                 \t| raw data \t| scaled data \t|\n",
    "|-----------------------\t|:--------:\t|:-----------:\t|\n",
    "| Decision Tree         \t|   0.88   \t|     0.88    \t|\n",
    "| Random Forest         \t|   0.99   \t|     0.99    \t|\n",
    "| SVM                   \t|   0.99   \t|     0.99    \t|\n",
    "| SGD Classifier        \t|   0.97   \t|     0.98    \t|\n",
    "| Logistic   Regression \t|   0.97   \t|     0.97    \t|\n",
    "\n",
    "- digit 데이터는 각각 8x8 크기의 이미지로, 각 클래스 별로 174~183개의 이미지가 고루 분포해 있으며, digit 은 TP 가 가장 중요하므로, precision 이 적절한 지표로 보인다.\n",
    "- Accuracy 를 보면, SGD Classifier 와 Logistic Regression 두 모델에서 raw data 와 scaled data 를 각각 학습시켰을 때 성능 차이가 보였으나 precision 을 보면 크게 크게 다르지 않은것을 볼 수 있다.\n",
    "- Decision tree 에 비하여 random forest 가 11%의 성능 향상이 있었다.\n",
    "- 이 데이터는 SVM 을 사용하였을 때 accuracy 와 precision 모두 가장 높은 성능을 보였다."
   ]
  },
  {
   "cell_type": "markdown",
   "id": "celtic-traffic",
   "metadata": {},
   "source": [
    "### 2) Wine 데이터:\n",
    "#### WINE Accuracy\n",
    "| MODEL                 \t|  raw data \t| scaled data \t|\n",
    "|:-----------------------\t|:---------:\t|:-----------:\t|\n",
    "| Decision Tree         \t| 0.9166667 \t| 0.916666667 \t|\n",
    "| Random Forest         \t| 0.9722222 \t| 0.972222222 \t|\n",
    "| SVM                   \t| 0.6111111 \t| 0.944444444 \t|\n",
    "| SGD Classifier        \t| 0.6111111 \t| 0.972222222 \t|\n",
    "| Logistic   Regression \t| 0.9166667 \t| 0.972222222 \t|\n",
    "\n",
    "\n",
    "- wine 데이터는 총 3개의 class 로 구성되었으며 (각각 class0: 59, class1: 71, class2: 48 개의 데이터가 있다), 각 데이터 별로 총 13개의 feature 이 있다. 특히 magnesium과 proline 의 값이 다른 특징들에 비해 큰 값을 보여 이 특징에 맞는 preprocessing 방법을 찾아야 하겠다.\n",
    "- 와인은 그 특징에 따라 맛이 민감하게 차이가 나는 제품으로, TP, TN 둘 다 중요하기 때문에 accuracy 가 적합한 지표가 된다.\n",
    "- Decision Tree  와 Random Forest 두 모델에서는 raw data 와 scaled data 각 데이터에 대한 성능 차이가 없다. 그 외 SVM, SGD, Logistic Regression 에서는 성능 향상이 뚜렷하게 보였다.\n",
    "- wine data 에서 또한 decision tree 에 비하여 random forest 에서 성능 향상이 있었다 (약 5%).\n",
    "- 이 데이터는 random forest, SGD, Logistic Regression 세 모델에서 같은 성능을 보였다.\n",
    "- wine data 는 SVM, SGD, Logistic Regression 세 모델로 더 실험/분석하여 적합한 모델을 선정해야 할 것으로 보인다.\n"
   ]
  },
  {
   "cell_type": "markdown",
   "id": "abstract-gasoline",
   "metadata": {},
   "source": [
    "### 3) Breast Cancer 데이터:\n",
    "#### BREAST CANCER Accuracy\n",
    "| MODEL                 \t|   raw data  \t| scaled data \t|\n",
    "|:-----------------------\t|:-----------:\t|:-----------:\t|\n",
    "| Decision Tree         \t| 0.877192982 \t| 0.877193    \t|\n",
    "| Random Forest         \t| 0.938596491 \t| 0.9385965   \t|\n",
    "| SVM                   \t| 0.868421053 \t| 0.9912281   \t|\n",
    "| SGD Classifier        \t| 0.885964912 \t| 0.9912281   \t|\n",
    "| Logistic   Regression \t| 0.912280702 \t| 0.9649123   \t|\n",
    "\n",
    "#### BREAST CANCER Recall\n",
    "| MODEL                 \t| raw data \t| scaled data \t|\n",
    "|-----------------------\t|:--------:\t|:-----------:\t|\n",
    "| Decision Tree         \t|   0.88   \t|     0.88    \t|\n",
    "| Random Forest         \t|   0.94   \t|     0.94    \t|\n",
    "| SVM                   \t|   0.87   \t|     0.99    \t|\n",
    "| SGD Classifier        \t|   0.89   \t|     0.99    \t|\n",
    "| Logistic   Regression \t|   0.91   \t|     0.96    \t|\n",
    "\n",
    "- breast cancer 데이터는 총 569개의 데이터로, WDBC-Malignant, WDBC-Benign 두가지 클래스로 구성되어 있으며, 총 30개의 특징이 있다. \n",
    "- 암환자를 놓치지 않고 양성으로 판단하여야 하므로 Recall 이 중요한 지표이다.\n",
    "- Breast cancer data 에서 또한 decision tree 에 비하여 random forest 에서 성능 향상이 있었다 (약 6%).\n",
    "- Decision Tree  와 Random Forest 두 모델에서는 raw data 와 scaled data 각 데이터에 대한 성능 차이가 없다. 그 외 SVM, SGD, Logistic Regression 에서는 성능 향상이 뚜렷하게 보였다.\n",
    "- SVM 과 SGD 모델이 약 accuracy 99.12%, recall 99 로 가장 높은 성능을 나타냈다.\n",
    "- Breast cancer data 는 SVM, SGD 두 모델 중 더 실험/분석하여 적합한 모델을 선정해야 할 것으로 보인다."
   ]
  },
  {
   "cell_type": "markdown",
   "id": "functioning-contractor",
   "metadata": {},
   "source": [
    "#### warning\n",
    "- 3개의 모든 데이터에서 공통적으로 raw data 를 사용하였을때 logistic regression 트레이닝 중 max_iter 에 대한 warnig 이 발생했다. 데이터값의 크기로 인한 warning 으로 보이나, max_iter 를 높여 warning이 없었을 때에도 모델의 성능에는 변화가 없었다.\n",
    "- wine data 의 scale 되지 않은 raw data 를 사용하였을때 SVM 모델의 classification_report을 띄울 때 UndefinedMetricWarning 이 발생했다. 모든 test data 가 class 0 혹은 class 1 로 분류되어 class 2 에 대한 값이 0 이기 때문에 나타나는 현상이었다. 이는 raw 데이터로는 학습이 제대로 되지 않았다는 것을 의미하며, result table 에서도 볼 수 있다. (약 61.1%)"
   ]
  }
 ],
 "metadata": {
  "kernelspec": {
   "display_name": "Python 3",
   "language": "python",
   "name": "python3"
  },
  "language_info": {
   "codemirror_mode": {
    "name": "ipython",
    "version": 3
   },
   "file_extension": ".py",
   "mimetype": "text/x-python",
   "name": "python",
   "nbconvert_exporter": "python",
   "pygments_lexer": "ipython3",
   "version": "3.7.9"
  }
 },
 "nbformat": 4,
 "nbformat_minor": 5
}
