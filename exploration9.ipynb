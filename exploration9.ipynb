{
 "cells": [
  {
   "cell_type": "markdown",
   "id": "digital-century",
   "metadata": {},
   "source": [
    "# 데이터 전처리 과정"
   ]
  },
  {
   "cell_type": "code",
   "execution_count": 1,
   "id": "electoral-ticket",
   "metadata": {},
   "outputs": [],
   "source": [
    "import pandas as pd\n",
    "import os"
   ]
  },
  {
   "cell_type": "code",
   "execution_count": 2,
   "id": "alpha-industry",
   "metadata": {
    "scrolled": true
   },
   "outputs": [
    {
     "data": {
      "text/html": [
       "<div>\n",
       "<style scoped>\n",
       "    .dataframe tbody tr th:only-of-type {\n",
       "        vertical-align: middle;\n",
       "    }\n",
       "\n",
       "    .dataframe tbody tr th {\n",
       "        vertical-align: top;\n",
       "    }\n",
       "\n",
       "    .dataframe thead th {\n",
       "        text-align: right;\n",
       "    }\n",
       "</style>\n",
       "<table border=\"1\" class=\"dataframe\">\n",
       "  <thead>\n",
       "    <tr style=\"text-align: right;\">\n",
       "      <th></th>\n",
       "      <th>user_id</th>\n",
       "      <th>movie_id</th>\n",
       "      <th>ratings</th>\n",
       "      <th>timestamp</th>\n",
       "    </tr>\n",
       "  </thead>\n",
       "  <tbody>\n",
       "    <tr>\n",
       "      <th>0</th>\n",
       "      <td>1</td>\n",
       "      <td>1193</td>\n",
       "      <td>5</td>\n",
       "      <td>978300760</td>\n",
       "    </tr>\n",
       "    <tr>\n",
       "      <th>1</th>\n",
       "      <td>1</td>\n",
       "      <td>661</td>\n",
       "      <td>3</td>\n",
       "      <td>978302109</td>\n",
       "    </tr>\n",
       "    <tr>\n",
       "      <th>2</th>\n",
       "      <td>1</td>\n",
       "      <td>914</td>\n",
       "      <td>3</td>\n",
       "      <td>978301968</td>\n",
       "    </tr>\n",
       "    <tr>\n",
       "      <th>3</th>\n",
       "      <td>1</td>\n",
       "      <td>3408</td>\n",
       "      <td>4</td>\n",
       "      <td>978300275</td>\n",
       "    </tr>\n",
       "    <tr>\n",
       "      <th>4</th>\n",
       "      <td>1</td>\n",
       "      <td>2355</td>\n",
       "      <td>5</td>\n",
       "      <td>978824291</td>\n",
       "    </tr>\n",
       "  </tbody>\n",
       "</table>\n",
       "</div>"
      ],
      "text/plain": [
       "   user_id  movie_id  ratings  timestamp\n",
       "0        1      1193        5  978300760\n",
       "1        1       661        3  978302109\n",
       "2        1       914        3  978301968\n",
       "3        1      3408        4  978300275\n",
       "4        1      2355        5  978824291"
      ]
     },
     "execution_count": 2,
     "metadata": {},
     "output_type": "execute_result"
    }
   ],
   "source": [
    "rating_file_path=os.getenv('HOME') + '/aiffel/recommendata_iu/data/ml-1m/ratings.dat'\n",
    "ratings_cols = ['user_id', 'movie_id', 'ratings', 'timestamp']\n",
    "ratings = pd.read_csv(rating_file_path, sep='::', names=ratings_cols, engine='python', encoding = \"ISO-8859-1\")\n",
    "orginal_data_size = len(ratings)\n",
    "ratings.head()"
   ]
  },
  {
   "cell_type": "code",
   "execution_count": 3,
   "id": "cooperative-conservation",
   "metadata": {
    "scrolled": true
   },
   "outputs": [
    {
     "name": "stdout",
     "output_type": "stream",
     "text": [
      "orginal_data_size: 1000209, filtered_data_size: 836478\n",
      "Ratio of Remaining Data is 83.63%\n"
     ]
    }
   ],
   "source": [
    "# 3점 이상만 남깁니다.\n",
    "ratings = ratings[ratings['ratings']>=3]\n",
    "filtered_data_size = len(ratings)\n",
    "\n",
    "print(f'orginal_data_size: {orginal_data_size}, filtered_data_size: {filtered_data_size}')\n",
    "print(f'Ratio of Remaining Data is {filtered_data_size / orginal_data_size:.2%}')"
   ]
  },
  {
   "cell_type": "code",
   "execution_count": 4,
   "id": "written-anderson",
   "metadata": {},
   "outputs": [],
   "source": [
    "# ratings 컬럼의 이름을 counts로 바꿉니다.\n",
    "ratings.rename(columns={'ratings':'counts'}, inplace=True)"
   ]
  },
  {
   "cell_type": "code",
   "execution_count": 5,
   "id": "alternative-zealand",
   "metadata": {
    "scrolled": false
   },
   "outputs": [
    {
     "data": {
      "text/html": [
       "<div>\n",
       "<style scoped>\n",
       "    .dataframe tbody tr th:only-of-type {\n",
       "        vertical-align: middle;\n",
       "    }\n",
       "\n",
       "    .dataframe tbody tr th {\n",
       "        vertical-align: top;\n",
       "    }\n",
       "\n",
       "    .dataframe thead th {\n",
       "        text-align: right;\n",
       "    }\n",
       "</style>\n",
       "<table border=\"1\" class=\"dataframe\">\n",
       "  <thead>\n",
       "    <tr style=\"text-align: right;\">\n",
       "      <th></th>\n",
       "      <th>user_id</th>\n",
       "      <th>movie_id</th>\n",
       "      <th>counts</th>\n",
       "      <th>timestamp</th>\n",
       "    </tr>\n",
       "  </thead>\n",
       "  <tbody>\n",
       "    <tr>\n",
       "      <th>0</th>\n",
       "      <td>1</td>\n",
       "      <td>1193</td>\n",
       "      <td>5</td>\n",
       "      <td>978300760</td>\n",
       "    </tr>\n",
       "    <tr>\n",
       "      <th>1</th>\n",
       "      <td>1</td>\n",
       "      <td>661</td>\n",
       "      <td>3</td>\n",
       "      <td>978302109</td>\n",
       "    </tr>\n",
       "    <tr>\n",
       "      <th>2</th>\n",
       "      <td>1</td>\n",
       "      <td>914</td>\n",
       "      <td>3</td>\n",
       "      <td>978301968</td>\n",
       "    </tr>\n",
       "    <tr>\n",
       "      <th>3</th>\n",
       "      <td>1</td>\n",
       "      <td>3408</td>\n",
       "      <td>4</td>\n",
       "      <td>978300275</td>\n",
       "    </tr>\n",
       "    <tr>\n",
       "      <th>4</th>\n",
       "      <td>1</td>\n",
       "      <td>2355</td>\n",
       "      <td>5</td>\n",
       "      <td>978824291</td>\n",
       "    </tr>\n",
       "  </tbody>\n",
       "</table>\n",
       "</div>"
      ],
      "text/plain": [
       "   user_id  movie_id  counts  timestamp\n",
       "0        1      1193       5  978300760\n",
       "1        1       661       3  978302109\n",
       "2        1       914       3  978301968\n",
       "3        1      3408       4  978300275\n",
       "4        1      2355       5  978824291"
      ]
     },
     "execution_count": 5,
     "metadata": {},
     "output_type": "execute_result"
    }
   ],
   "source": [
    "ratings.head()"
   ]
  },
  {
   "cell_type": "code",
   "execution_count": 6,
   "id": "domestic-gilbert",
   "metadata": {},
   "outputs": [
    {
     "data": {
      "text/html": [
       "<div>\n",
       "<style scoped>\n",
       "    .dataframe tbody tr th:only-of-type {\n",
       "        vertical-align: middle;\n",
       "    }\n",
       "\n",
       "    .dataframe tbody tr th {\n",
       "        vertical-align: top;\n",
       "    }\n",
       "\n",
       "    .dataframe thead th {\n",
       "        text-align: right;\n",
       "    }\n",
       "</style>\n",
       "<table border=\"1\" class=\"dataframe\">\n",
       "  <thead>\n",
       "    <tr style=\"text-align: right;\">\n",
       "      <th></th>\n",
       "      <th>movie_id</th>\n",
       "      <th>title</th>\n",
       "      <th>genre</th>\n",
       "    </tr>\n",
       "  </thead>\n",
       "  <tbody>\n",
       "    <tr>\n",
       "      <th>0</th>\n",
       "      <td>1</td>\n",
       "      <td>Toy Story (1995)</td>\n",
       "      <td>Animation|Children's|Comedy</td>\n",
       "    </tr>\n",
       "    <tr>\n",
       "      <th>1</th>\n",
       "      <td>2</td>\n",
       "      <td>Jumanji (1995)</td>\n",
       "      <td>Adventure|Children's|Fantasy</td>\n",
       "    </tr>\n",
       "    <tr>\n",
       "      <th>2</th>\n",
       "      <td>3</td>\n",
       "      <td>Grumpier Old Men (1995)</td>\n",
       "      <td>Comedy|Romance</td>\n",
       "    </tr>\n",
       "    <tr>\n",
       "      <th>3</th>\n",
       "      <td>4</td>\n",
       "      <td>Waiting to Exhale (1995)</td>\n",
       "      <td>Comedy|Drama</td>\n",
       "    </tr>\n",
       "    <tr>\n",
       "      <th>4</th>\n",
       "      <td>5</td>\n",
       "      <td>Father of the Bride Part II (1995)</td>\n",
       "      <td>Comedy</td>\n",
       "    </tr>\n",
       "  </tbody>\n",
       "</table>\n",
       "</div>"
      ],
      "text/plain": [
       "   movie_id                               title                         genre\n",
       "0         1                    Toy Story (1995)   Animation|Children's|Comedy\n",
       "1         2                      Jumanji (1995)  Adventure|Children's|Fantasy\n",
       "2         3             Grumpier Old Men (1995)                Comedy|Romance\n",
       "3         4            Waiting to Exhale (1995)                  Comedy|Drama\n",
       "4         5  Father of the Bride Part II (1995)                        Comedy"
      ]
     },
     "execution_count": 6,
     "metadata": {},
     "output_type": "execute_result"
    }
   ],
   "source": [
    "# 영화 제목을 보기 위해 메타 데이터를 읽어옵니다.\n",
    "movie_file_path=os.getenv('HOME') + '/aiffel/recommendata_iu/data/ml-1m/movies.dat'\n",
    "cols = ['movie_id', 'title', 'genre'] \n",
    "movies = pd.read_csv(movie_file_path, sep='::', names=cols, engine='python', encoding='ISO-8859-1')\n",
    "movies.head()"
   ]
  },
  {
   "cell_type": "markdown",
   "id": "fitting-lending",
   "metadata": {},
   "source": [
    "여기까지가 전처리입니다. 이후에는 이전 스텝에 소개했던 것과 동일한 방식으로 MF model을 구성하여 내가 좋아할 만한 영화를 추천해 볼 수 있습니다."
   ]
  },
  {
   "cell_type": "markdown",
   "id": "ordinary-nylon",
   "metadata": {},
   "source": [
    "# MF model 구성"
   ]
  },
  {
   "cell_type": "code",
   "execution_count": 7,
   "id": "prime-singer",
   "metadata": {},
   "outputs": [],
   "source": [
    "from implicit.als import AlternatingLeastSquares\n",
    "import os\n",
    "import numpy as np\n",
    "\n",
    "# implicit 라이브러리에서 권장하고 있는 부분입니다. 학습 내용과는 무관합니다.\n",
    "os.environ['OPENBLAS_NUM_THREADS']='1'\n",
    "os.environ['KMP_DUPLICATE_LIB_OK']='True'\n",
    "os.environ['MKL_NUM_THREADS']='1'"
   ]
  },
  {
   "cell_type": "code",
   "execution_count": 8,
   "id": "anonymous-robinson",
   "metadata": {},
   "outputs": [],
   "source": [
    "# Implicit AlternatingLeastSquares 모델의 선언\n",
    "als_model = AlternatingLeastSquares(factors=1024, regularization=0.01, use_gpu=False, iterations=15, dtype=np.float32)"
   ]
  },
  {
   "cell_type": "markdown",
   "id": "finished-boost",
   "metadata": {},
   "source": [
    "# 데이터 분석"
   ]
  },
  {
   "cell_type": "code",
   "execution_count": 9,
   "id": "unexpected-paintball",
   "metadata": {},
   "outputs": [
    {
     "name": "stdout",
     "output_type": "stream",
     "text": [
      "ratings에 있는 유니크한 영화 개수3628\n",
      "ratings에 있는 유니크한 사용자 수: 6039\n"
     ]
    }
   ],
   "source": [
    "user_unique = ratings['user_id'].unique()\n",
    "movie_unique = ratings['movie_id'].unique()\n",
    "\n",
    "print('ratings에 있는 유니크한 영화 개수{}'.format(len(movie_unique)))\n",
    "print('ratings에 있는 유니크한 사용자 수: {}'.format(len(user_unique)))"
   ]
  },
  {
   "cell_type": "code",
   "execution_count": 10,
   "id": "static-mother",
   "metadata": {},
   "outputs": [],
   "source": [
    "# print('가장 인기 있는 영화 30개(인기순):')"
   ]
  },
  {
   "cell_type": "markdown",
   "id": "surface-cinema",
   "metadata": {},
   "source": [
    "# 내가 선호하는 영화 5가지 추가"
   ]
  },
  {
   "cell_type": "code",
   "execution_count": 11,
   "id": "minor-cocktail",
   "metadata": {
    "scrolled": true
   },
   "outputs": [
    {
     "data": {
      "text/html": [
       "<div>\n",
       "<style scoped>\n",
       "    .dataframe tbody tr th:only-of-type {\n",
       "        vertical-align: middle;\n",
       "    }\n",
       "\n",
       "    .dataframe tbody tr th {\n",
       "        vertical-align: top;\n",
       "    }\n",
       "\n",
       "    .dataframe thead th {\n",
       "        text-align: right;\n",
       "    }\n",
       "</style>\n",
       "<table border=\"1\" class=\"dataframe\">\n",
       "  <thead>\n",
       "    <tr style=\"text-align: right;\">\n",
       "      <th></th>\n",
       "      <th>user_id</th>\n",
       "      <th>movie_id</th>\n",
       "      <th>counts</th>\n",
       "      <th>timestamp</th>\n",
       "      <th>title</th>\n",
       "      <th>genre</th>\n",
       "    </tr>\n",
       "  </thead>\n",
       "  <tbody>\n",
       "    <tr>\n",
       "      <th>0</th>\n",
       "      <td>1</td>\n",
       "      <td>1193</td>\n",
       "      <td>5</td>\n",
       "      <td>978300760</td>\n",
       "      <td>One Flew Over the Cuckoo's Nest (1975)</td>\n",
       "      <td>Drama</td>\n",
       "    </tr>\n",
       "    <tr>\n",
       "      <th>1</th>\n",
       "      <td>1</td>\n",
       "      <td>661</td>\n",
       "      <td>3</td>\n",
       "      <td>978302109</td>\n",
       "      <td>James and the Giant Peach (1996)</td>\n",
       "      <td>Animation|Children's|Musical</td>\n",
       "    </tr>\n",
       "    <tr>\n",
       "      <th>2</th>\n",
       "      <td>1</td>\n",
       "      <td>914</td>\n",
       "      <td>3</td>\n",
       "      <td>978301968</td>\n",
       "      <td>My Fair Lady (1964)</td>\n",
       "      <td>Musical|Romance</td>\n",
       "    </tr>\n",
       "    <tr>\n",
       "      <th>3</th>\n",
       "      <td>1</td>\n",
       "      <td>3408</td>\n",
       "      <td>4</td>\n",
       "      <td>978300275</td>\n",
       "      <td>Erin Brockovich (2000)</td>\n",
       "      <td>Drama</td>\n",
       "    </tr>\n",
       "    <tr>\n",
       "      <th>4</th>\n",
       "      <td>1</td>\n",
       "      <td>2355</td>\n",
       "      <td>5</td>\n",
       "      <td>978824291</td>\n",
       "      <td>Bug's Life, A (1998)</td>\n",
       "      <td>Animation|Children's|Comedy</td>\n",
       "    </tr>\n",
       "  </tbody>\n",
       "</table>\n",
       "</div>"
      ],
      "text/plain": [
       "   user_id  movie_id  counts  timestamp  \\\n",
       "0        1      1193       5  978300760   \n",
       "1        1       661       3  978302109   \n",
       "2        1       914       3  978301968   \n",
       "3        1      3408       4  978300275   \n",
       "4        1      2355       5  978824291   \n",
       "\n",
       "                                    title                         genre  \n",
       "0  One Flew Over the Cuckoo's Nest (1975)                         Drama  \n",
       "1        James and the Giant Peach (1996)  Animation|Children's|Musical  \n",
       "2                     My Fair Lady (1964)               Musical|Romance  \n",
       "3                  Erin Brockovich (2000)                         Drama  \n",
       "4                    Bug's Life, A (1998)   Animation|Children's|Comedy  "
      ]
     },
     "execution_count": 11,
     "metadata": {},
     "output_type": "execute_result"
    }
   ],
   "source": [
    "# ratings & movies 합쳐서 내 정보 추가할 수 있는 새로운 데이터 생성\n",
    "data = ratings.join(movies.set_index(\"movie_id\"), on=\"movie_id\")\n",
    "data.head()"
   ]
  },
  {
   "cell_type": "code",
   "execution_count": 12,
   "id": "metropolitan-diamond",
   "metadata": {},
   "outputs": [
    {
     "data": {
      "text/html": [
       "<div>\n",
       "<style scoped>\n",
       "    .dataframe tbody tr th:only-of-type {\n",
       "        vertical-align: middle;\n",
       "    }\n",
       "\n",
       "    .dataframe tbody tr th {\n",
       "        vertical-align: top;\n",
       "    }\n",
       "\n",
       "    .dataframe thead th {\n",
       "        text-align: right;\n",
       "    }\n",
       "</style>\n",
       "<table border=\"1\" class=\"dataframe\">\n",
       "  <thead>\n",
       "    <tr style=\"text-align: right;\">\n",
       "      <th></th>\n",
       "      <th>user_id</th>\n",
       "      <th>counts</th>\n",
       "      <th>title</th>\n",
       "    </tr>\n",
       "  </thead>\n",
       "  <tbody>\n",
       "    <tr>\n",
       "      <th>0</th>\n",
       "      <td>1</td>\n",
       "      <td>5</td>\n",
       "      <td>One Flew Over the Cuckoo's Nest (1975)</td>\n",
       "    </tr>\n",
       "    <tr>\n",
       "      <th>1</th>\n",
       "      <td>1</td>\n",
       "      <td>3</td>\n",
       "      <td>James and the Giant Peach (1996)</td>\n",
       "    </tr>\n",
       "    <tr>\n",
       "      <th>2</th>\n",
       "      <td>1</td>\n",
       "      <td>3</td>\n",
       "      <td>My Fair Lady (1964)</td>\n",
       "    </tr>\n",
       "    <tr>\n",
       "      <th>3</th>\n",
       "      <td>1</td>\n",
       "      <td>4</td>\n",
       "      <td>Erin Brockovich (2000)</td>\n",
       "    </tr>\n",
       "    <tr>\n",
       "      <th>4</th>\n",
       "      <td>1</td>\n",
       "      <td>5</td>\n",
       "      <td>Bug's Life, A (1998)</td>\n",
       "    </tr>\n",
       "  </tbody>\n",
       "</table>\n",
       "</div>"
      ],
      "text/plain": [
       "   user_id  counts                                   title\n",
       "0        1       5  One Flew Over the Cuckoo's Nest (1975)\n",
       "1        1       3        James and the Giant Peach (1996)\n",
       "2        1       3                     My Fair Lady (1964)\n",
       "3        1       4                  Erin Brockovich (2000)\n",
       "4        1       5                    Bug's Life, A (1998)"
      ]
     },
     "execution_count": 12,
     "metadata": {},
     "output_type": "execute_result"
    }
   ],
   "source": [
    "data.drop([\"timestamp\", \"movie_id\", \"genre\"], axis=1, inplace=True)\n",
    "data.head()"
   ]
  },
  {
   "cell_type": "code",
   "execution_count": 13,
   "id": "induced-class",
   "metadata": {},
   "outputs": [],
   "source": [
    "my_favorites = [\n",
    "    'Notting Hill (1999)',\n",
    "    'Meet the Parents (2000)',\n",
    "    'Sleepless in Seattle (1993)',\n",
    "    \"You've Got Mail (1998)\",\n",
    "    'Sabrina (1995)'\n",
    "]\n",
    "\n",
    "data= data.append(pd.DataFrame({\n",
    "    'user_id': ['heej']*5,\n",
    "    'title': my_favorites,\n",
    "    'counts':[5] * 5}))"
   ]
  },
  {
   "cell_type": "code",
   "execution_count": 14,
   "id": "bronze-burton",
   "metadata": {},
   "outputs": [
    {
     "data": {
      "text/html": [
       "<div>\n",
       "<style scoped>\n",
       "    .dataframe tbody tr th:only-of-type {\n",
       "        vertical-align: middle;\n",
       "    }\n",
       "\n",
       "    .dataframe tbody tr th {\n",
       "        vertical-align: top;\n",
       "    }\n",
       "\n",
       "    .dataframe thead th {\n",
       "        text-align: right;\n",
       "    }\n",
       "</style>\n",
       "<table border=\"1\" class=\"dataframe\">\n",
       "  <thead>\n",
       "    <tr style=\"text-align: right;\">\n",
       "      <th></th>\n",
       "      <th>user_id</th>\n",
       "      <th>counts</th>\n",
       "      <th>title</th>\n",
       "    </tr>\n",
       "  </thead>\n",
       "  <tbody>\n",
       "    <tr>\n",
       "      <th>0</th>\n",
       "      <td>1</td>\n",
       "      <td>5</td>\n",
       "      <td>One Flew Over the Cuckoo's Nest (1975)</td>\n",
       "    </tr>\n",
       "    <tr>\n",
       "      <th>1</th>\n",
       "      <td>1</td>\n",
       "      <td>3</td>\n",
       "      <td>James and the Giant Peach (1996)</td>\n",
       "    </tr>\n",
       "    <tr>\n",
       "      <th>2</th>\n",
       "      <td>1</td>\n",
       "      <td>3</td>\n",
       "      <td>My Fair Lady (1964)</td>\n",
       "    </tr>\n",
       "    <tr>\n",
       "      <th>3</th>\n",
       "      <td>1</td>\n",
       "      <td>4</td>\n",
       "      <td>Erin Brockovich (2000)</td>\n",
       "    </tr>\n",
       "    <tr>\n",
       "      <th>4</th>\n",
       "      <td>1</td>\n",
       "      <td>5</td>\n",
       "      <td>Bug's Life, A (1998)</td>\n",
       "    </tr>\n",
       "  </tbody>\n",
       "</table>\n",
       "</div>"
      ],
      "text/plain": [
       "  user_id  counts                                   title\n",
       "0       1       5  One Flew Over the Cuckoo's Nest (1975)\n",
       "1       1       3        James and the Giant Peach (1996)\n",
       "2       1       3                     My Fair Lady (1964)\n",
       "3       1       4                  Erin Brockovich (2000)\n",
       "4       1       5                    Bug's Life, A (1998)"
      ]
     },
     "execution_count": 14,
     "metadata": {},
     "output_type": "execute_result"
    }
   ],
   "source": [
    "data.head()"
   ]
  },
  {
   "cell_type": "code",
   "execution_count": 15,
   "id": "better-neighbor",
   "metadata": {},
   "outputs": [
    {
     "data": {
      "text/html": [
       "<div>\n",
       "<style scoped>\n",
       "    .dataframe tbody tr th:only-of-type {\n",
       "        vertical-align: middle;\n",
       "    }\n",
       "\n",
       "    .dataframe tbody tr th {\n",
       "        vertical-align: top;\n",
       "    }\n",
       "\n",
       "    .dataframe thead th {\n",
       "        text-align: right;\n",
       "    }\n",
       "</style>\n",
       "<table border=\"1\" class=\"dataframe\">\n",
       "  <thead>\n",
       "    <tr style=\"text-align: right;\">\n",
       "      <th></th>\n",
       "      <th>user_id</th>\n",
       "      <th>counts</th>\n",
       "      <th>title</th>\n",
       "    </tr>\n",
       "  </thead>\n",
       "  <tbody>\n",
       "    <tr>\n",
       "      <th>0</th>\n",
       "      <td>heej</td>\n",
       "      <td>5</td>\n",
       "      <td>Notting Hill (1999)</td>\n",
       "    </tr>\n",
       "    <tr>\n",
       "      <th>1</th>\n",
       "      <td>heej</td>\n",
       "      <td>5</td>\n",
       "      <td>Meet the Parents (2000)</td>\n",
       "    </tr>\n",
       "    <tr>\n",
       "      <th>2</th>\n",
       "      <td>heej</td>\n",
       "      <td>5</td>\n",
       "      <td>Sleepless in Seattle (1993)</td>\n",
       "    </tr>\n",
       "    <tr>\n",
       "      <th>3</th>\n",
       "      <td>heej</td>\n",
       "      <td>5</td>\n",
       "      <td>You've Got Mail (1998)</td>\n",
       "    </tr>\n",
       "    <tr>\n",
       "      <th>4</th>\n",
       "      <td>heej</td>\n",
       "      <td>5</td>\n",
       "      <td>Sabrina (1995)</td>\n",
       "    </tr>\n",
       "  </tbody>\n",
       "</table>\n",
       "</div>"
      ],
      "text/plain": [
       "  user_id  counts                        title\n",
       "0    heej       5          Notting Hill (1999)\n",
       "1    heej       5      Meet the Parents (2000)\n",
       "2    heej       5  Sleepless in Seattle (1993)\n",
       "3    heej       5       You've Got Mail (1998)\n",
       "4    heej       5               Sabrina (1995)"
      ]
     },
     "execution_count": 15,
     "metadata": {},
     "output_type": "execute_result"
    }
   ],
   "source": [
    "data.tail()"
   ]
  },
  {
   "cell_type": "code",
   "execution_count": 16,
   "id": "about-opening",
   "metadata": {},
   "outputs": [
    {
     "data": {
      "text/html": [
       "<div>\n",
       "<style scoped>\n",
       "    .dataframe tbody tr th:only-of-type {\n",
       "        vertical-align: middle;\n",
       "    }\n",
       "\n",
       "    .dataframe tbody tr th {\n",
       "        vertical-align: top;\n",
       "    }\n",
       "\n",
       "    .dataframe thead th {\n",
       "        text-align: right;\n",
       "    }\n",
       "</style>\n",
       "<table border=\"1\" class=\"dataframe\">\n",
       "  <thead>\n",
       "    <tr style=\"text-align: right;\">\n",
       "      <th></th>\n",
       "      <th>user_id</th>\n",
       "      <th>counts</th>\n",
       "      <th>title</th>\n",
       "    </tr>\n",
       "  </thead>\n",
       "  <tbody>\n",
       "    <tr>\n",
       "      <th>836478</th>\n",
       "      <td>heej</td>\n",
       "      <td>5</td>\n",
       "      <td>Notting Hill (1999)</td>\n",
       "    </tr>\n",
       "    <tr>\n",
       "      <th>836479</th>\n",
       "      <td>heej</td>\n",
       "      <td>5</td>\n",
       "      <td>Meet the Parents (2000)</td>\n",
       "    </tr>\n",
       "    <tr>\n",
       "      <th>836480</th>\n",
       "      <td>heej</td>\n",
       "      <td>5</td>\n",
       "      <td>Sleepless in Seattle (1993)</td>\n",
       "    </tr>\n",
       "    <tr>\n",
       "      <th>836481</th>\n",
       "      <td>heej</td>\n",
       "      <td>5</td>\n",
       "      <td>You've Got Mail (1998)</td>\n",
       "    </tr>\n",
       "    <tr>\n",
       "      <th>836482</th>\n",
       "      <td>heej</td>\n",
       "      <td>5</td>\n",
       "      <td>Sabrina (1995)</td>\n",
       "    </tr>\n",
       "  </tbody>\n",
       "</table>\n",
       "</div>"
      ],
      "text/plain": [
       "       user_id  counts                        title\n",
       "836478    heej       5          Notting Hill (1999)\n",
       "836479    heej       5      Meet the Parents (2000)\n",
       "836480    heej       5  Sleepless in Seattle (1993)\n",
       "836481    heej       5       You've Got Mail (1998)\n",
       "836482    heej       5               Sabrina (1995)"
      ]
     },
     "execution_count": 16,
     "metadata": {},
     "output_type": "execute_result"
    }
   ],
   "source": [
    "data= data.reset_index()\n",
    "data= data.drop(['index'],axis=1)\n",
    "data.tail()"
   ]
  },
  {
   "cell_type": "code",
   "execution_count": 17,
   "id": "laden-element",
   "metadata": {},
   "outputs": [],
   "source": [
    "user_unique = data['user_id'].unique()\n",
    "movie_unique = data['title'].unique()"
   ]
  },
  {
   "cell_type": "code",
   "execution_count": 18,
   "id": "focal-finding",
   "metadata": {},
   "outputs": [
    {
     "data": {
      "text/plain": [
       "array([1, 2, 3, ..., 6039, 6040, 'heej'], dtype=object)"
      ]
     },
     "execution_count": 18,
     "metadata": {},
     "output_type": "execute_result"
    }
   ],
   "source": [
    "user_unique"
   ]
  },
  {
   "cell_type": "code",
   "execution_count": 19,
   "id": "advisory-miracle",
   "metadata": {},
   "outputs": [],
   "source": [
    "user_to_idx = {v:k for k,v in enumerate(user_unique)}\n",
    "movie_to_idx = {v:k for k,v in enumerate(movie_unique)}"
   ]
  },
  {
   "cell_type": "code",
   "execution_count": 20,
   "id": "weird-rwanda",
   "metadata": {},
   "outputs": [
    {
     "name": "stdout",
     "output_type": "stream",
     "text": [
      "user_id column indexing OK!!\n"
     ]
    },
    {
     "data": {
      "text/html": [
       "<div>\n",
       "<style scoped>\n",
       "    .dataframe tbody tr th:only-of-type {\n",
       "        vertical-align: middle;\n",
       "    }\n",
       "\n",
       "    .dataframe tbody tr th {\n",
       "        vertical-align: top;\n",
       "    }\n",
       "\n",
       "    .dataframe thead th {\n",
       "        text-align: right;\n",
       "    }\n",
       "</style>\n",
       "<table border=\"1\" class=\"dataframe\">\n",
       "  <thead>\n",
       "    <tr style=\"text-align: right;\">\n",
       "      <th></th>\n",
       "      <th>user_id</th>\n",
       "      <th>counts</th>\n",
       "      <th>title</th>\n",
       "    </tr>\n",
       "  </thead>\n",
       "  <tbody>\n",
       "    <tr>\n",
       "      <th>0</th>\n",
       "      <td>0</td>\n",
       "      <td>5</td>\n",
       "      <td>One Flew Over the Cuckoo's Nest (1975)</td>\n",
       "    </tr>\n",
       "    <tr>\n",
       "      <th>1</th>\n",
       "      <td>0</td>\n",
       "      <td>3</td>\n",
       "      <td>James and the Giant Peach (1996)</td>\n",
       "    </tr>\n",
       "    <tr>\n",
       "      <th>2</th>\n",
       "      <td>0</td>\n",
       "      <td>3</td>\n",
       "      <td>My Fair Lady (1964)</td>\n",
       "    </tr>\n",
       "    <tr>\n",
       "      <th>3</th>\n",
       "      <td>0</td>\n",
       "      <td>4</td>\n",
       "      <td>Erin Brockovich (2000)</td>\n",
       "    </tr>\n",
       "    <tr>\n",
       "      <th>4</th>\n",
       "      <td>0</td>\n",
       "      <td>5</td>\n",
       "      <td>Bug's Life, A (1998)</td>\n",
       "    </tr>\n",
       "    <tr>\n",
       "      <th>...</th>\n",
       "      <td>...</td>\n",
       "      <td>...</td>\n",
       "      <td>...</td>\n",
       "    </tr>\n",
       "    <tr>\n",
       "      <th>836478</th>\n",
       "      <td>6039</td>\n",
       "      <td>5</td>\n",
       "      <td>Notting Hill (1999)</td>\n",
       "    </tr>\n",
       "    <tr>\n",
       "      <th>836479</th>\n",
       "      <td>6039</td>\n",
       "      <td>5</td>\n",
       "      <td>Meet the Parents (2000)</td>\n",
       "    </tr>\n",
       "    <tr>\n",
       "      <th>836480</th>\n",
       "      <td>6039</td>\n",
       "      <td>5</td>\n",
       "      <td>Sleepless in Seattle (1993)</td>\n",
       "    </tr>\n",
       "    <tr>\n",
       "      <th>836481</th>\n",
       "      <td>6039</td>\n",
       "      <td>5</td>\n",
       "      <td>You've Got Mail (1998)</td>\n",
       "    </tr>\n",
       "    <tr>\n",
       "      <th>836482</th>\n",
       "      <td>6039</td>\n",
       "      <td>5</td>\n",
       "      <td>Sabrina (1995)</td>\n",
       "    </tr>\n",
       "  </tbody>\n",
       "</table>\n",
       "<p>836483 rows × 3 columns</p>\n",
       "</div>"
      ],
      "text/plain": [
       "        user_id  counts                                   title\n",
       "0             0       5  One Flew Over the Cuckoo's Nest (1975)\n",
       "1             0       3        James and the Giant Peach (1996)\n",
       "2             0       3                     My Fair Lady (1964)\n",
       "3             0       4                  Erin Brockovich (2000)\n",
       "4             0       5                    Bug's Life, A (1998)\n",
       "...         ...     ...                                     ...\n",
       "836478     6039       5                     Notting Hill (1999)\n",
       "836479     6039       5                 Meet the Parents (2000)\n",
       "836480     6039       5             Sleepless in Seattle (1993)\n",
       "836481     6039       5                  You've Got Mail (1998)\n",
       "836482     6039       5                          Sabrina (1995)\n",
       "\n",
       "[836483 rows x 3 columns]"
      ]
     },
     "execution_count": 20,
     "metadata": {},
     "output_type": "execute_result"
    }
   ],
   "source": [
    "# indexing을 통해 데이터 컬럼 내 값을 바꾸는 코드\n",
    "# dictionary 자료형의 get 함수는 https://wikidocs.net/16 을 참고하세요.\n",
    "\n",
    "# user_to_idx.get을 통해 user_id 컬럼의 모든 값을 인덱싱한 Series를 구해 봅시다. \n",
    "# 혹시 정상적으로 인덱싱되지 않은 row가 있다면 인덱스가 NaN이 될 테니 dropna()로 제거합니다. \n",
    "temp_user_data = data['user_id'].map(user_to_idx.get).dropna()\n",
    "\n",
    "if len(temp_user_data) == len(data):   # 모든 row가 정상적으로 인덱싱되었다면\n",
    "    print('user_id column indexing OK!!')\n",
    "    data['user_id'] = temp_user_data   # data['user_id']을 인덱싱된 Series로 교체해 줍니다. \n",
    "else:\n",
    "    print('user_id column indexing Fail!!')\n",
    "\n",
    "\n",
    "data"
   ]
  },
  {
   "cell_type": "code",
   "execution_count": 21,
   "id": "lightweight-genre",
   "metadata": {},
   "outputs": [
    {
     "name": "stdout",
     "output_type": "stream",
     "text": [
      "artist column indexing OK!!\n"
     ]
    },
    {
     "data": {
      "text/html": [
       "<div>\n",
       "<style scoped>\n",
       "    .dataframe tbody tr th:only-of-type {\n",
       "        vertical-align: middle;\n",
       "    }\n",
       "\n",
       "    .dataframe tbody tr th {\n",
       "        vertical-align: top;\n",
       "    }\n",
       "\n",
       "    .dataframe thead th {\n",
       "        text-align: right;\n",
       "    }\n",
       "</style>\n",
       "<table border=\"1\" class=\"dataframe\">\n",
       "  <thead>\n",
       "    <tr style=\"text-align: right;\">\n",
       "      <th></th>\n",
       "      <th>user_id</th>\n",
       "      <th>counts</th>\n",
       "      <th>title</th>\n",
       "    </tr>\n",
       "  </thead>\n",
       "  <tbody>\n",
       "    <tr>\n",
       "      <th>0</th>\n",
       "      <td>0</td>\n",
       "      <td>5</td>\n",
       "      <td>0</td>\n",
       "    </tr>\n",
       "    <tr>\n",
       "      <th>1</th>\n",
       "      <td>0</td>\n",
       "      <td>3</td>\n",
       "      <td>1</td>\n",
       "    </tr>\n",
       "    <tr>\n",
       "      <th>2</th>\n",
       "      <td>0</td>\n",
       "      <td>3</td>\n",
       "      <td>2</td>\n",
       "    </tr>\n",
       "    <tr>\n",
       "      <th>3</th>\n",
       "      <td>0</td>\n",
       "      <td>4</td>\n",
       "      <td>3</td>\n",
       "    </tr>\n",
       "    <tr>\n",
       "      <th>4</th>\n",
       "      <td>0</td>\n",
       "      <td>5</td>\n",
       "      <td>4</td>\n",
       "    </tr>\n",
       "    <tr>\n",
       "      <th>...</th>\n",
       "      <td>...</td>\n",
       "      <td>...</td>\n",
       "      <td>...</td>\n",
       "    </tr>\n",
       "    <tr>\n",
       "      <th>836478</th>\n",
       "      <td>6039</td>\n",
       "      <td>5</td>\n",
       "      <td>1151</td>\n",
       "    </tr>\n",
       "    <tr>\n",
       "      <th>836479</th>\n",
       "      <td>6039</td>\n",
       "      <td>5</td>\n",
       "      <td>461</td>\n",
       "    </tr>\n",
       "    <tr>\n",
       "      <th>836480</th>\n",
       "      <td>6039</td>\n",
       "      <td>5</td>\n",
       "      <td>666</td>\n",
       "    </tr>\n",
       "    <tr>\n",
       "      <th>836481</th>\n",
       "      <td>6039</td>\n",
       "      <td>5</td>\n",
       "      <td>626</td>\n",
       "    </tr>\n",
       "    <tr>\n",
       "      <th>836482</th>\n",
       "      <td>6039</td>\n",
       "      <td>5</td>\n",
       "      <td>516</td>\n",
       "    </tr>\n",
       "  </tbody>\n",
       "</table>\n",
       "<p>836483 rows × 3 columns</p>\n",
       "</div>"
      ],
      "text/plain": [
       "        user_id  counts  title\n",
       "0             0       5      0\n",
       "1             0       3      1\n",
       "2             0       3      2\n",
       "3             0       4      3\n",
       "4             0       5      4\n",
       "...         ...     ...    ...\n",
       "836478     6039       5   1151\n",
       "836479     6039       5    461\n",
       "836480     6039       5    666\n",
       "836481     6039       5    626\n",
       "836482     6039       5    516\n",
       "\n",
       "[836483 rows x 3 columns]"
      ]
     },
     "execution_count": 21,
     "metadata": {},
     "output_type": "execute_result"
    }
   ],
   "source": [
    "# artist_to_idx을 통해 artist 컬럼도 동일한 방식으로 인덱싱해 줍니다. \n",
    "temp_artist_data = data['title'].map(movie_to_idx.get).dropna()\n",
    "if len(temp_artist_data) == len(data):\n",
    "    print('artist column indexing OK!!')\n",
    "    data['title'] = temp_artist_data\n",
    "else:\n",
    "    print('artist column indexing Fail!!')\n",
    "    \n",
    "data"
   ]
  },
  {
   "cell_type": "markdown",
   "id": "partial-plane",
   "metadata": {},
   "source": [
    "# CSR matrix 생성\n",
    "user X movie title 에 대한 CSR 행렬 생성"
   ]
  },
  {
   "cell_type": "code",
   "execution_count": 22,
   "id": "enhanced-engineer",
   "metadata": {},
   "outputs": [],
   "source": [
    "# 실습 위에 설명보고 이해해서 만들어보기\n",
    "from scipy.sparse import csr_matrix"
   ]
  },
  {
   "cell_type": "code",
   "execution_count": 23,
   "id": "cardiovascular-sociology",
   "metadata": {},
   "outputs": [
    {
     "data": {
      "text/plain": [
       "6040"
      ]
     },
     "execution_count": 23,
     "metadata": {},
     "output_type": "execute_result"
    }
   ],
   "source": [
    "len(user_unique)"
   ]
  },
  {
   "cell_type": "code",
   "execution_count": 24,
   "id": "raised-championship",
   "metadata": {},
   "outputs": [
    {
     "data": {
      "text/plain": [
       "3628"
      ]
     },
     "execution_count": 24,
     "metadata": {},
     "output_type": "execute_result"
    }
   ],
   "source": [
    "len(movie_unique)"
   ]
  },
  {
   "cell_type": "code",
   "execution_count": 25,
   "id": "instrumental-vitamin",
   "metadata": {},
   "outputs": [
    {
     "data": {
      "text/plain": [
       "6039"
      ]
     },
     "execution_count": 25,
     "metadata": {},
     "output_type": "execute_result"
    }
   ],
   "source": [
    "user_to_idx['heej']"
   ]
  },
  {
   "cell_type": "code",
   "execution_count": 26,
   "id": "canadian-disposition",
   "metadata": {},
   "outputs": [],
   "source": [
    "num_user = data['user_id'].nunique()\n",
    "num_movie = data['title'].nunique()"
   ]
  },
  {
   "cell_type": "code",
   "execution_count": 27,
   "id": "dominant-boost",
   "metadata": {},
   "outputs": [
    {
     "data": {
      "text/html": [
       "<div>\n",
       "<style scoped>\n",
       "    .dataframe tbody tr th:only-of-type {\n",
       "        vertical-align: middle;\n",
       "    }\n",
       "\n",
       "    .dataframe tbody tr th {\n",
       "        vertical-align: top;\n",
       "    }\n",
       "\n",
       "    .dataframe thead th {\n",
       "        text-align: right;\n",
       "    }\n",
       "</style>\n",
       "<table border=\"1\" class=\"dataframe\">\n",
       "  <thead>\n",
       "    <tr style=\"text-align: right;\">\n",
       "      <th></th>\n",
       "      <th>user_id</th>\n",
       "      <th>counts</th>\n",
       "      <th>title</th>\n",
       "    </tr>\n",
       "  </thead>\n",
       "  <tbody>\n",
       "    <tr>\n",
       "      <th>836478</th>\n",
       "      <td>6039</td>\n",
       "      <td>5</td>\n",
       "      <td>1151</td>\n",
       "    </tr>\n",
       "    <tr>\n",
       "      <th>836479</th>\n",
       "      <td>6039</td>\n",
       "      <td>5</td>\n",
       "      <td>461</td>\n",
       "    </tr>\n",
       "    <tr>\n",
       "      <th>836480</th>\n",
       "      <td>6039</td>\n",
       "      <td>5</td>\n",
       "      <td>666</td>\n",
       "    </tr>\n",
       "    <tr>\n",
       "      <th>836481</th>\n",
       "      <td>6039</td>\n",
       "      <td>5</td>\n",
       "      <td>626</td>\n",
       "    </tr>\n",
       "    <tr>\n",
       "      <th>836482</th>\n",
       "      <td>6039</td>\n",
       "      <td>5</td>\n",
       "      <td>516</td>\n",
       "    </tr>\n",
       "  </tbody>\n",
       "</table>\n",
       "</div>"
      ],
      "text/plain": [
       "        user_id  counts  title\n",
       "836478     6039       5   1151\n",
       "836479     6039       5    461\n",
       "836480     6039       5    666\n",
       "836481     6039       5    626\n",
       "836482     6039       5    516"
      ]
     },
     "execution_count": 27,
     "metadata": {},
     "output_type": "execute_result"
    }
   ],
   "source": [
    "data.tail()"
   ]
  },
  {
   "cell_type": "code",
   "execution_count": 28,
   "id": "derived-mixture",
   "metadata": {
    "scrolled": true
   },
   "outputs": [
    {
     "data": {
      "text/plain": [
       "<6040x3628 sparse matrix of type '<class 'numpy.longlong'>'\n",
       "\twith 836483 stored elements in Compressed Sparse Row format>"
      ]
     },
     "execution_count": 28,
     "metadata": {},
     "output_type": "execute_result"
    }
   ],
   "source": [
    "csr_data = csr_matrix((data.counts, (data.user_id, data.title)), shape= (num_user, num_movie))\n",
    "csr_data"
   ]
  },
  {
   "cell_type": "code",
   "execution_count": 29,
   "id": "magnetic-horse",
   "metadata": {},
   "outputs": [
    {
     "data": {
      "text/plain": [
       "<3628x6040 sparse matrix of type '<class 'numpy.longlong'>'\n",
       "\twith 836483 stored elements in Compressed Sparse Column format>"
      ]
     },
     "execution_count": 29,
     "metadata": {},
     "output_type": "execute_result"
    }
   ],
   "source": [
    "# als 모델은 input으로 (item X user 꼴의 matrix를 받기 때문에 Transpose해줍니다.)\n",
    "csr_data_transpose = csr_data.T\n",
    "csr_data_transpose"
   ]
  },
  {
   "cell_type": "markdown",
   "id": "signal-party",
   "metadata": {},
   "source": [
    "# 모델 훈련\n",
    "    factors=1024\n",
    "    regularization=0.01\n",
    "    use_gpu=False\n",
    "    iterations=15\n",
    "    dtype=np.float32"
   ]
  },
  {
   "cell_type": "code",
   "execution_count": 30,
   "id": "liberal-analysis",
   "metadata": {},
   "outputs": [
    {
     "data": {
      "application/vnd.jupyter.widget-view+json": {
       "model_id": "b9a9667736c14595931896604e486214",
       "version_major": 2,
       "version_minor": 0
      },
      "text/plain": [
       "  0%|          | 0/15 [00:00<?, ?it/s]"
      ]
     },
     "metadata": {},
     "output_type": "display_data"
    }
   ],
   "source": [
    "als_model.fit(csr_data_transpose)"
   ]
  },
  {
   "cell_type": "markdown",
   "id": "clean-depression",
   "metadata": {},
   "source": [
    "# 모델의 예측 선호도 파악"
   ]
  },
  {
   "cell_type": "markdown",
   "id": "unlimited-regulation",
   "metadata": {},
   "source": [
    "#### heej 벡터"
   ]
  },
  {
   "cell_type": "code",
   "execution_count": 31,
   "id": "personal-lloyd",
   "metadata": {},
   "outputs": [],
   "source": [
    "heej_idx= user_to_idx[\"heej\"]\n",
    "heej_vector = als_model.user_factors[heej_idx]"
   ]
  },
  {
   "cell_type": "markdown",
   "id": "amber-provider",
   "metadata": {},
   "source": [
    "#### 선호 영화 벡터"
   ]
  },
  {
   "cell_type": "code",
   "execution_count": 32,
   "id": "advance-sugar",
   "metadata": {},
   "outputs": [],
   "source": [
    "nottinghill_vector = als_model.item_factors[movie_to_idx['Notting Hill (1999)']]\n",
    "meettheparents_vector = als_model.item_factors[movie_to_idx['Meet the Parents (2000)']]\n",
    "sleeplessinceattle_vector = als_model.item_factors[movie_to_idx['Sleepless in Seattle (1993)']]\n",
    "youvegotmail_vector = als_model.item_factors[movie_to_idx[\"You've Got Mail (1998)\"]]\n",
    "sabrina_vector = als_model.item_factors[movie_to_idx['Sabrina (1995)']]"
   ]
  },
  {
   "cell_type": "code",
   "execution_count": 33,
   "id": "explicit-german",
   "metadata": {
    "scrolled": false
   },
   "outputs": [
    {
     "data": {
      "text/plain": [
       "0.9324743"
      ]
     },
     "execution_count": 33,
     "metadata": {},
     "output_type": "execute_result"
    }
   ],
   "source": [
    "np.dot(heej_vector, nottinghill_vector)"
   ]
  },
  {
   "cell_type": "code",
   "execution_count": 34,
   "id": "caring-consortium",
   "metadata": {
    "scrolled": true
   },
   "outputs": [
    {
     "data": {
      "text/plain": [
       "0.9546996"
      ]
     },
     "execution_count": 34,
     "metadata": {},
     "output_type": "execute_result"
    }
   ],
   "source": [
    "np.dot(heej_vector, meettheparents_vector)"
   ]
  },
  {
   "cell_type": "code",
   "execution_count": 35,
   "id": "pressed-migration",
   "metadata": {
    "scrolled": true
   },
   "outputs": [
    {
     "data": {
      "text/plain": [
       "0.95260274"
      ]
     },
     "execution_count": 35,
     "metadata": {},
     "output_type": "execute_result"
    }
   ],
   "source": [
    "np.dot(heej_vector, sleeplessinceattle_vector)"
   ]
  },
  {
   "cell_type": "code",
   "execution_count": 36,
   "id": "planned-bride",
   "metadata": {
    "scrolled": true
   },
   "outputs": [
    {
     "data": {
      "text/plain": [
       "0.9440406"
      ]
     },
     "execution_count": 36,
     "metadata": {},
     "output_type": "execute_result"
    }
   ],
   "source": [
    "np.dot(heej_vector, youvegotmail_vector)"
   ]
  },
  {
   "cell_type": "code",
   "execution_count": 37,
   "id": "inclusive-cable",
   "metadata": {
    "scrolled": false
   },
   "outputs": [
    {
     "data": {
      "text/plain": [
       "0.84458095"
      ]
     },
     "execution_count": 37,
     "metadata": {},
     "output_type": "execute_result"
    }
   ],
   "source": [
    "np.dot(heej_vector, sabrina_vector)"
   ]
  },
  {
   "cell_type": "markdown",
   "id": "mysterious-outline",
   "metadata": {},
   "source": [
    "#### 비선호 영화 벡터"
   ]
  },
  {
   "cell_type": "code",
   "execution_count": 38,
   "id": "parliamentary-recommendation",
   "metadata": {},
   "outputs": [],
   "source": [
    "contender_vector = als_model.item_factors[movie_to_idx['Contender, The (2000)']]"
   ]
  },
  {
   "cell_type": "code",
   "execution_count": 39,
   "id": "significant-purpose",
   "metadata": {
    "scrolled": true
   },
   "outputs": [
    {
     "data": {
      "text/plain": [
       "0.032612327"
      ]
     },
     "execution_count": 39,
     "metadata": {},
     "output_type": "execute_result"
    }
   ],
   "source": [
    "np.dot(heej_vector, contender_vector)"
   ]
  },
  {
   "cell_type": "markdown",
   "id": "formal-association",
   "metadata": {},
   "source": [
    "# 제시하는 영화와 비슷한 영화를 추천"
   ]
  },
  {
   "cell_type": "code",
   "execution_count": 40,
   "id": "ultimate-small",
   "metadata": {},
   "outputs": [],
   "source": [
    "movie_list= list(movie_to_idx.keys())\n",
    "idx_list= list(movie_to_idx.values())"
   ]
  },
  {
   "cell_type": "code",
   "execution_count": 41,
   "id": "selective-syndrome",
   "metadata": {},
   "outputs": [
    {
     "data": {
      "text/plain": [
       "[(1151, 1.0),\n",
       " (3622, 0.5086692),\n",
       " (3268, 0.5082949),\n",
       " (3508, 0.5073469),\n",
       " (3381, 0.5071988),\n",
       " (3626, 0.50713),\n",
       " (3498, 0.507118),\n",
       " (3405, 0.5070613),\n",
       " (3410, 0.50664645),\n",
       " (3494, 0.50590265),\n",
       " (3201, 0.5054197),\n",
       " (3543, 0.5054171),\n",
       " (3324, 0.5054067),\n",
       " (3472, 0.505176),\n",
       " (3535, 0.5051639)]"
      ]
     },
     "execution_count": 41,
     "metadata": {},
     "output_type": "execute_result"
    }
   ],
   "source": [
    "movie_id = movie_to_idx['Notting Hill (1999)']\n",
    "similar_movie = als_model.similar_items(movie_id, N=15)\n",
    "similar_movie"
   ]
  },
  {
   "cell_type": "code",
   "execution_count": 42,
   "id": "lasting-patient",
   "metadata": {
    "scrolled": true
   },
   "outputs": [
    {
     "name": "stdout",
     "output_type": "stream",
     "text": [
      "Notting Hill (1999) 1.0\n",
      "Master Ninja I (1984) 0.5086692\n",
      "Grosse Fatigue (1994) 0.5082949\n",
      "I, Worst of All (Yo, la peor de todas) (1990) 0.5073469\n",
      "Mascara (1999) 0.5071988\n",
      "Five Wives, Three Secretaries and Me (1998) 0.50713\n",
      "Savage Nights (Nuits fauves, Les) (1992) 0.507118\n",
      "Carriers Are Waiting, The (Les Convoyeurs Attendent) (1999) 0.5070613\n",
      "Foolish (1999) 0.50664645\n",
      "An Unforgettable Summer (1994) 0.50590265\n",
      "Allnighter, The (1987) 0.5054197\n",
      "Small Wonders (1996) 0.5054171\n",
      "Race the Sun (1996) 0.5054067\n",
      "Show, The (1995) 0.505176\n",
      "Modern Affair, A (1995) 0.5051639\n"
     ]
    }
   ],
   "source": [
    "for i, vector_value in similar_movie:\n",
    "    idx_list.index(i)\n",
    "    \n",
    "    print(movie_list[idx_list.index(i)], vector_value)"
   ]
  },
  {
   "cell_type": "markdown",
   "id": "velvet-ceramic",
   "metadata": {},
   "source": [
    "# 사용자가 좋아할 만한 영화 추천"
   ]
  },
  {
   "cell_type": "code",
   "execution_count": 43,
   "id": "clinical-punch",
   "metadata": {},
   "outputs": [],
   "source": [
    "user = user_to_idx['heej']\n",
    "movie_recommended = als_model.recommend(user, csr_data, N=10, filter_already_liked_items=True)"
   ]
  },
  {
   "cell_type": "code",
   "execution_count": 44,
   "id": "reflected-discount",
   "metadata": {},
   "outputs": [],
   "source": [
    "# movie_list= list(movie_to_idx.keys())\n",
    "# idx_list= list(movie_to_idx.values())"
   ]
  },
  {
   "cell_type": "code",
   "execution_count": 45,
   "id": "medieval-privilege",
   "metadata": {
    "scrolled": true
   },
   "outputs": [
    {
     "name": "stdout",
     "output_type": "stream",
     "text": [
      "While You Were Sleeping (1995) 0.16697016\n",
      "It Could Happen to You (1994) 0.1289986\n",
      "Pretty Woman (1990) 0.10957982\n",
      "French Kiss (1995) 0.09440611\n",
      "One Fine Day (1996) 0.09317218\n",
      "American President, The (1995) 0.08725761\n",
      "Mirror Has Two Faces, The (1996) 0.08467703\n",
      "Far and Away (1992) 0.083415665\n",
      "Runaway Bride (1999) 0.079137005\n",
      "Tin Cup (1996) 0.07773541\n"
     ]
    }
   ],
   "source": [
    "for i, vector_value in movie_recommended:\n",
    "    idx_list.index(i)\n",
    "    \n",
    "    print(movie_list[idx_list.index(i)], vector_value)"
   ]
  },
  {
   "cell_type": "markdown",
   "id": "otherwise-adjustment",
   "metadata": {},
   "source": [
    "## 결과\n",
    "#### 1) 데이터 사이즈와 CSR matrix\n",
    "    - ratings에 있는 유니크한 영화 개수3628\n",
    "    - ratings에 있는 유니크한 사용자 수: 6040 (개인 선호도 추가한 내용 포함)\n",
    "    - csr_data: 6040x3628 sparse matrix \n",
    "\n",
    "#### 2) 추가한 사용자 데이터의 사용자와 영화 벡터 내적 수치: 0.8 ~ 0.9\n",
    "    model 의 factor size 가 100이었을 때에는 각각의 영화와 사용자 벡터 간의 내적 수치가 약 0.4 정도로, 의미 있는 결과를 얻을 수 없었으나, factor 를 1024로 늘렸을 때에는 각 벡터의 내적 수치가 0.8~0.9 로 상향되어 의미 있는 결과값을 얻었다.\n",
    "\n",
    "#### 3) MF 모델의 similar, recommend 로 예측한 결과\n",
    "    [1] 제시하는 영화와 비슷한 영화를 추천한 결과를 보면, 각각의 영화와 제시한 영화의 벡터간 내적 수치는 약 0.48, [2] 사용자가 좋아할 만한 영화는 약 0.1 정도로 2) 에서 계산한 사용자와 그 사용자가 선호하는 영화 벡터의 내적값에 비하면 매우 낮은 값이 나왔다.\n",
    "\n",
    "#### 회고\n",
    "    모델이 마지막에 추가한 데이터에 대해서는 높은 값의 벡터 내적값으로 의미있는 결과를 잘 낼 수 있도록 training 되었다고 보여 졌으나 이에 비해 직접 제시하지 않은 문제는 잘 풀지 못하는 것으로 보아 overfitting 이 의심 된다. 제공된 데이터를 이용하여 장르별 추천 등 새롭게 새도해 볼 수 있는 부분이 보여 흥미로웠다. 위의 3) 에서 더 좋은 결과값을 받을 수 있도록 모델을 변경하여 학습이 잘 되면 이 부분은 더 해볼 수 있겠다."
   ]
  }
 ],
 "metadata": {
  "kernelspec": {
   "display_name": "Python 3",
   "language": "python",
   "name": "python3"
  },
  "language_info": {
   "codemirror_mode": {
    "name": "ipython",
    "version": 3
   },
   "file_extension": ".py",
   "mimetype": "text/x-python",
   "name": "python",
   "nbconvert_exporter": "python",
   "pygments_lexer": "ipython3",
   "version": "3.7.9"
  }
 },
 "nbformat": 4,
 "nbformat_minor": 5
}
